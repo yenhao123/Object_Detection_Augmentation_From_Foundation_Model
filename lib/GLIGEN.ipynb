{
 "cells": [
  {
   "cell_type": "code",
   "execution_count": 2,
   "id": "e351903c",
   "metadata": {},
   "outputs": [],
   "source": [
    "import os\n",
    "import json\n",
    "import torch\n",
    "from PIL import Image\n",
    "from pathlib import Path\n",
    "import pandas as pd"
   ]
  },
  {
   "cell_type": "code",
   "execution_count": 3,
   "id": "4602f576",
   "metadata": {},
   "outputs": [],
   "source": [
    "home_dir = \"/root/CVPDL/hw3\"\n",
    "os.chdir(home_dir)"
   ]
  },
  {
   "cell_type": "markdown",
   "id": "b5c65ab0",
   "metadata": {},
   "source": [
    "### Data Preprocess"
   ]
  },
  {
   "cell_type": "code",
   "execution_count": 6,
   "id": "4f9d2a4c",
   "metadata": {},
   "outputs": [],
   "source": [
    "# select the first 20 images contains less box\n",
    "def select_images(data, n_head) -> pd.DataFrame:    \n",
    "    df = pd.DataFrame(data)\n",
    "    grouped_df = df.groupby('main_creature', group_keys=False)\n",
    "    sorted_df = grouped_df.apply(lambda x: x.sort_values(by=\"n_box\", ascending=True).head(n_head))\n",
    "    \n",
    "    return sorted_df\n",
    "\n",
    "def normalize_box(df):\n",
    "    for i, boxes in df.iterrows():\n",
    "        for j, box in enumerate(boxes[\"bbox\"]):\n",
    "            df.loc[i, \"bbox\"][j][0] = box[0] / df.at[i, \"width\"]\n",
    "            df.loc[i, \"bbox\"][j][1] = box[1] / df.at[i, \"height\"]\n",
    "            df.loc[i, \"bbox\"][j][2] = box[2] / df.at[i, \"width\"] + df.at[i, \"bbox\"][j][0]\n",
    "            df.loc[i, \"bbox\"][j][3] = box[3] / df.at[i, \"height\"] + df.at[i, \"bbox\"][j][1]\n",
    "    return df\n",
    "\n",
    "def data_preprocess(data):\n",
    "    df = select_images(data, n_head=20)\n",
    "    df = normalize_box(df)\n",
    "    return df.to_dict(orient='records')"
   ]
  },
  {
   "cell_type": "code",
   "execution_count": 7,
   "id": "48580f51",
   "metadata": {},
   "outputs": [],
   "source": [
    "in_file = Path(\"lib/config/generated_caption_blip2_t5.json\")\n",
    "with in_file.open(\"r\") as f:\n",
    "    data = json.load(f)\n",
    "\n",
    "data = data_preprocess(data)\n"
   ]
  },
  {
   "cell_type": "code",
   "execution_count": 8,
   "id": "a4c9d9d2",
   "metadata": {},
   "outputs": [],
   "source": [
    "# save original data\n",
    "data_dir = Path(\"dataset/cvpdl/train\")\n",
    "o_dir = Path(\"dataset/inpainted_images\")\n",
    "if not o_dir.exists():\n",
    "    o_dir.mkdir()\n",
    "\n",
    "for idx, instance in enumerate(data):\n",
    "    image = Image.open(data_dir / instance[\"file_name\"])\n",
    "    image.save(o_dir / \"{}.jpg\".format(idx + 1))"
   ]
  },
  {
   "cell_type": "markdown",
   "id": "899cf342",
   "metadata": {},
   "source": [
    "### Modeling - Image Grounding "
   ]
  },
  {
   "cell_type": "code",
   "execution_count": 70,
   "id": "80b29415",
   "metadata": {},
   "outputs": [],
   "source": [
    "def get_model_inpuat(data, data_dir, prompt_template=\"prompt_wtemp1\"):\n",
    "    prompt = data[prompt_template]\n",
    "    phrases = data[\"creature\"]\n",
    "    image = Image.open(data_dir / data[\"file_name\"])\n",
    "    boxes = data[\"bbox\"]\n",
    "    return prompt, phrases, image, boxes\n",
    "\n",
    "def inference_one_instance_image_grounding(pipe, prompt, phrases, input_image, boxes, o_dir, generate_idx):\n",
    "    images = pipe(\n",
    "        prompt=prompt,\n",
    "        gligen_phrases=phrases,\n",
    "        gligen_inpaint_image=input_image,\n",
    "        gligen_boxes=boxes,\n",
    "        gligen_scheduled_sampling_beta=1,\n",
    "        output_type=\"pil\",\n",
    "        num_inference_steps=50,\n",
    "    ).images\n",
    "\n",
    "    images[0].save(o_dir / \"{}.jpg\".format(generate_idx))"
   ]
  },
  {
   "cell_type": "code",
   "execution_count": null,
   "id": "2be56c55",
   "metadata": {},
   "outputs": [],
   "source": [
    "import torch\n",
    "from diffusers import StableDiffusionGLIGENPipeline\n",
    "from diffusers.utils import load_image\n",
    "\n",
    "# Insert objects described by text at the region defined by bounding boxes\n",
    "pipe = StableDiffusionGLIGENPipeline.from_pretrained(\n",
    "    \"masterful/gligen-1-4-inpainting-text-box\", variant=\"fp16\", torch_dtype=torch.float16\n",
    ")\n",
    "pipe = pipe.to(\"cuda\")"
   ]
  },
  {
   "cell_type": "code",
   "execution_count": 72,
   "id": "ee3baed7-eb05-4c1d-bae5-9ad5f3eb481e",
   "metadata": {},
   "outputs": [
    {
     "name": "stdout",
     "output_type": "stream",
     "text": [
      "{'file_name': 'IMG_8461_jpg.rf.c1f3ef25fac44501963625279e8ca614.jpg', 'height': 768, 'width': 1024, 'creature': ['fish'], 'bbox': [[0.2490234375, 0.2513020833333333, 0.35546875, 0.4700520833333333]], 'n_box': 1, 'main_creature': 'fish', 'gerated_caption': 'a fish is swimming in the water', 'prompt_wtemp1': 'a fish is swimming in the water, creature: fish', 'prompt_wtemp2': 'a fish is swimming in the water, creature: fish, height: 768, width: 1024'}\n",
      "prompt_wtemp1\n"
     ]
    },
    {
     "data": {
      "application/vnd.jupyter.widget-view+json": {
       "model_id": "1f1b511bfce94a629ec2f4da566fc9e3",
       "version_major": 2,
       "version_minor": 0
      },
      "text/plain": [
       "  0%|          | 0/50 [00:00<?, ?it/s]"
      ]
     },
     "metadata": {},
     "output_type": "display_data"
    },
    {
     "name": "stdout",
     "output_type": "stream",
     "text": [
      "{'file_name': 'IMG_2375_jpeg_jpg.rf.ed73b2179f3b96fe3088456fc43a2cf5.jpg', 'height': 1024, 'width': 768, 'creature': ['fish'], 'bbox': [[0.07291666666666667, 0.353515625, 0.9908854166666666, 0.703125]], 'n_box': 1, 'main_creature': 'fish', 'gerated_caption': 'a fish swimming in an aquarium with rocks', 'prompt_wtemp1': 'a fish swimming in an aquarium with rocks, creature: fish', 'prompt_wtemp2': 'a fish swimming in an aquarium with rocks, creature: fish, height: 1024, width: 768'}\n",
      "prompt_wtemp1\n"
     ]
    },
    {
     "data": {
      "application/vnd.jupyter.widget-view+json": {
       "model_id": "67b94996ab0e40339402726f2ef176f8",
       "version_major": 2,
       "version_minor": 0
      },
      "text/plain": [
       "  0%|          | 0/50 [00:00<?, ?it/s]"
      ]
     },
     "metadata": {},
     "output_type": "display_data"
    },
    {
     "name": "stdout",
     "output_type": "stream",
     "text": [
      "{'file_name': 'IMG_8549_jpg.rf.ee5f8f7fa2cae6f1e528e1b350ad4046.jpg', 'height': 768, 'width': 1024, 'creature': ['fish'], 'bbox': [[0.1962890625, 0.4674479166666667, 0.498046875, 0.7109375]], 'n_box': 1, 'main_creature': 'fish', 'gerated_caption': 'clownfish in the aquarium at the san diego aquarium', 'prompt_wtemp1': 'clownfish in the aquarium at the san diego aquarium, creature: fish', 'prompt_wtemp2': 'clownfish in the aquarium at the san diego aquarium, creature: fish, height: 768, width: 1024'}\n",
      "prompt_wtemp1\n"
     ]
    },
    {
     "data": {
      "application/vnd.jupyter.widget-view+json": {
       "model_id": "07669cc80b6d4dafa5580b13dd551006",
       "version_major": 2,
       "version_minor": 0
      },
      "text/plain": [
       "  0%|          | 0/50 [00:00<?, ?it/s]"
      ]
     },
     "metadata": {},
     "output_type": "display_data"
    },
    {
     "name": "stdout",
     "output_type": "stream",
     "text": [
      "{'file_name': 'IMG_2409_jpeg_jpg.rf.2de52b31d07502007ce8e96350212d7c.jpg', 'height': 1024, 'width': 768, 'creature': ['fish'], 'bbox': [[0.34375, 0.40234375, 0.8880208333333334, 0.703125]], 'n_box': 1, 'main_creature': 'fish', 'gerated_caption': 'a black and white fish in an aquarium', 'prompt_wtemp1': 'a black and white fish in an aquarium, creature: fish', 'prompt_wtemp2': 'a black and white fish in an aquarium, creature: fish, height: 1024, width: 768'}\n",
      "prompt_wtemp1\n"
     ]
    },
    {
     "data": {
      "application/vnd.jupyter.widget-view+json": {
       "model_id": "93f4eab09cb8411aa436043178d90fe3",
       "version_major": 2,
       "version_minor": 0
      },
      "text/plain": [
       "  0%|          | 0/50 [00:00<?, ?it/s]"
      ]
     },
     "metadata": {},
     "output_type": "display_data"
    },
    {
     "name": "stdout",
     "output_type": "stream",
     "text": [
      "{'file_name': 'IMG_8520_jpg.rf.68bab0b4a111aa5bdad529f65b21edfd.jpg', 'height': 768, 'width': 1024, 'creature': ['fish'], 'bbox': [[0.3447265625, 0.3984375, 0.4453125, 0.5481770833333334]], 'n_box': 1, 'main_creature': 'fish', 'gerated_caption': 'clown fish in an aquarium with corals', 'prompt_wtemp1': 'clown fish in an aquarium with corals, creature: fish', 'prompt_wtemp2': 'clown fish in an aquarium with corals, creature: fish, height: 768, width: 1024'}\n",
      "prompt_wtemp1\n"
     ]
    },
    {
     "data": {
      "application/vnd.jupyter.widget-view+json": {
       "model_id": "17ef98d2e5c04d6da3ef0b22333ca93e",
       "version_major": 2,
       "version_minor": 0
      },
      "text/plain": [
       "  0%|          | 0/50 [00:00<?, ?it/s]"
      ]
     },
     "metadata": {},
     "output_type": "display_data"
    },
    {
     "name": "stdout",
     "output_type": "stream",
     "text": [
      "{'file_name': 'IMG_2358_jpeg_jpg.rf.efdef53aafee680685b00990131e1442.jpg', 'height': 1024, 'width': 768, 'creature': ['fish'], 'bbox': [[0.10546875, 0.3740234375, 0.7955729166666666, 0.671875]], 'n_box': 1, 'main_creature': 'fish', 'gerated_caption': 'a penguin swimming in the water', 'prompt_wtemp1': 'a penguin swimming in the water, creature: fish', 'prompt_wtemp2': 'a penguin swimming in the water, creature: fish, height: 1024, width: 768'}\n",
      "prompt_wtemp1\n"
     ]
    },
    {
     "data": {
      "application/vnd.jupyter.widget-view+json": {
       "model_id": "e64a5c0143424c77a207415bc1efb70f",
       "version_major": 2,
       "version_minor": 0
      },
      "text/plain": [
       "  0%|          | 0/50 [00:00<?, ?it/s]"
      ]
     },
     "metadata": {},
     "output_type": "display_data"
    },
    {
     "name": "stdout",
     "output_type": "stream",
     "text": [
      "{'file_name': 'IMG_8327_jpg.rf.b859bdc46f8f4aaf4d1ff2b902e276df.jpg', 'height': 768, 'width': 1024, 'creature': ['fish'], 'bbox': [[0.0419921875, 0.20833333333333334, 0.568359375, 0.8763020833333334]], 'n_box': 1, 'main_creature': 'fish', 'gerated_caption': 'a catfish swimming in an aquarium with rocks', 'prompt_wtemp1': 'a catfish swimming in an aquarium with rocks, creature: fish', 'prompt_wtemp2': 'a catfish swimming in an aquarium with rocks, creature: fish, height: 768, width: 1024'}\n",
      "prompt_wtemp1\n"
     ]
    },
    {
     "data": {
      "application/vnd.jupyter.widget-view+json": {
       "model_id": "6fd0ffde82ea44e8b1fb67c7ae6c43c5",
       "version_major": 2,
       "version_minor": 0
      },
      "text/plain": [
       "  0%|          | 0/50 [00:00<?, ?it/s]"
      ]
     },
     "metadata": {},
     "output_type": "display_data"
    },
    {
     "name": "stdout",
     "output_type": "stream",
     "text": [
      "{'file_name': 'IMG_8328_jpg.rf.c7cdca0b7dc7a6ac3c44254a11bd63cc.jpg', 'height': 768, 'width': 1024, 'creature': ['fish'], 'bbox': [[0.0625, 0.07942708333333333, 0.814453125, 0.8072916666666667]], 'n_box': 1, 'main_creature': 'fish', 'gerated_caption': 'a catfish swimming in an aquarium with rocks', 'prompt_wtemp1': 'a catfish swimming in an aquarium with rocks, creature: fish', 'prompt_wtemp2': 'a catfish swimming in an aquarium with rocks, creature: fish, height: 768, width: 1024'}\n",
      "prompt_wtemp1\n"
     ]
    },
    {
     "data": {
      "application/vnd.jupyter.widget-view+json": {
       "model_id": "8f0af80367844923b665c2d2f41be1e2",
       "version_major": 2,
       "version_minor": 0
      },
      "text/plain": [
       "  0%|          | 0/50 [00:00<?, ?it/s]"
      ]
     },
     "metadata": {},
     "output_type": "display_data"
    },
    {
     "name": "stdout",
     "output_type": "stream",
     "text": [
      "{'file_name': 'IMG_2503_jpeg_jpg.rf.726342a02d92d30abc147f6e71fe3baf.jpg', 'height': 1024, 'width': 768, 'creature': ['fish'], 'bbox': [[0.2799479166666667, 0.341796875, 0.7330729166666667, 0.861328125]], 'n_box': 1, 'main_creature': 'fish', 'gerated_caption': 'a shark swimming in an aquarium', 'prompt_wtemp1': 'a shark swimming in an aquarium, creature: fish', 'prompt_wtemp2': 'a shark swimming in an aquarium, creature: fish, height: 1024, width: 768'}\n",
      "prompt_wtemp1\n"
     ]
    },
    {
     "data": {
      "application/vnd.jupyter.widget-view+json": {
       "model_id": "c6d3f58c8cfc43d0923bd23c67a76357",
       "version_major": 2,
       "version_minor": 0
      },
      "text/plain": [
       "  0%|          | 0/50 [00:00<?, ?it/s]"
      ]
     },
     "metadata": {},
     "output_type": "display_data"
    },
    {
     "name": "stdout",
     "output_type": "stream",
     "text": [
      "{'file_name': 'IMG_8512_MOV-4_jpg.rf.e879ecc625c150dfb308030a737ff9c5.jpg', 'height': 576, 'width': 1024, 'creature': ['fish'], 'bbox': [[0.6904296875, 0.3211805555555556, 0.9384765625, 0.484375]], 'n_box': 1, 'main_creature': 'fish', 'gerated_caption': 'a large tank with a lot of corals and fish', 'prompt_wtemp1': 'a large tank with a lot of corals and fish, creature: fish', 'prompt_wtemp2': 'a large tank with a lot of corals and fish, creature: fish, height: 576, width: 1024'}\n",
      "prompt_wtemp1\n"
     ]
    },
    {
     "data": {
      "application/vnd.jupyter.widget-view+json": {
       "model_id": "53f9dc0825814129bdf7dd1b7d6c66d6",
       "version_major": 2,
       "version_minor": 0
      },
      "text/plain": [
       "  0%|          | 0/50 [00:00<?, ?it/s]"
      ]
     },
     "metadata": {},
     "output_type": "display_data"
    },
    {
     "name": "stdout",
     "output_type": "stream",
     "text": [
      "{'file_name': 'IMG_8550_jpg.rf.7f9f25d5d968b77bc0664fb82fc9a9c9.jpg', 'height': 768, 'width': 1024, 'creature': ['fish'], 'bbox': [[0.28515625, 0.0, 0.513671875, 0.80859375]], 'n_box': 1, 'main_creature': 'fish', 'gerated_caption': 'a fish swimming in the water near rocks', 'prompt_wtemp1': 'a fish swimming in the water near rocks, creature: fish', 'prompt_wtemp2': 'a fish swimming in the water near rocks, creature: fish, height: 768, width: 1024'}\n",
      "prompt_wtemp1\n"
     ]
    },
    {
     "data": {
      "application/vnd.jupyter.widget-view+json": {
       "model_id": "98046519df8e462ba33ebf3e022b0392",
       "version_major": 2,
       "version_minor": 0
      },
      "text/plain": [
       "  0%|          | 0/50 [00:00<?, ?it/s]"
      ]
     },
     "metadata": {},
     "output_type": "display_data"
    },
    {
     "name": "stdout",
     "output_type": "stream",
     "text": [
      "{'file_name': 'IMG_8502_jpg.rf.81783141b72ae29e514d677ca0f5082d.jpg', 'height': 768, 'width': 1024, 'creature': ['fish'], 'bbox': [[0.267578125, 0.2643229166666667, 0.52734375, 0.8046875]], 'n_box': 1, 'main_creature': 'fish', 'gerated_caption': 'a large otters in an aquarium with a tree in the background', 'prompt_wtemp1': 'a large otters in an aquarium with a tree in the background, creature: fish', 'prompt_wtemp2': 'a large otters in an aquarium with a tree in the background, creature: fish, height: 768, width: 1024'}\n",
      "prompt_wtemp1\n"
     ]
    },
    {
     "data": {
      "application/vnd.jupyter.widget-view+json": {
       "model_id": "326a86ea502c420f854539defc63ab5e",
       "version_major": 2,
       "version_minor": 0
      },
      "text/plain": [
       "  0%|          | 0/50 [00:00<?, ?it/s]"
      ]
     },
     "metadata": {},
     "output_type": "display_data"
    },
    {
     "name": "stdout",
     "output_type": "stream",
     "text": [
      "{'file_name': 'IMG_2406_jpeg_jpg.rf.1188b08782ffbc29af95b22721ca6015.jpg', 'height': 1024, 'width': 768, 'creature': ['fish'], 'bbox': [[0.3619791666666667, 0.4482421875, 0.75, 0.6611328125]], 'n_box': 1, 'main_creature': 'fish', 'gerated_caption': 'a black and yellow fish swimming in an aquarium', 'prompt_wtemp1': 'a black and yellow fish swimming in an aquarium, creature: fish', 'prompt_wtemp2': 'a black and yellow fish swimming in an aquarium, creature: fish, height: 1024, width: 768'}\n",
      "prompt_wtemp1\n"
     ]
    },
    {
     "data": {
      "application/vnd.jupyter.widget-view+json": {
       "model_id": "09507961b6b84a9e8754bf4ef0d42fda",
       "version_major": 2,
       "version_minor": 0
      },
      "text/plain": [
       "  0%|          | 0/50 [00:00<?, ?it/s]"
      ]
     },
     "metadata": {},
     "output_type": "display_data"
    },
    {
     "name": "stdout",
     "output_type": "stream",
     "text": [
      "{'file_name': 'IMG_2382_jpeg_jpg.rf.b431ad0ed94761ef82281dbe844170cc.jpg', 'height': 1024, 'width': 768, 'creature': ['fish'], 'bbox': [[0.11979166666666667, 0.3720703125, 0.94921875, 0.6923828125]], 'n_box': 1, 'main_creature': 'fish', 'gerated_caption': 'a fish swimming in an aquarium', 'prompt_wtemp1': 'a fish swimming in an aquarium, creature: fish', 'prompt_wtemp2': 'a fish swimming in an aquarium, creature: fish, height: 1024, width: 768'}\n",
      "prompt_wtemp1\n"
     ]
    },
    {
     "data": {
      "application/vnd.jupyter.widget-view+json": {
       "model_id": "0cbc0079dfd14bb38d0db1bc4078e10e",
       "version_major": 2,
       "version_minor": 0
      },
      "text/plain": [
       "  0%|          | 0/50 [00:00<?, ?it/s]"
      ]
     },
     "metadata": {},
     "output_type": "display_data"
    },
    {
     "name": "stdout",
     "output_type": "stream",
     "text": [
      "{'file_name': 'IMG_2361_jpeg_jpg.rf.02195fab4639c0b58bef41a6944fda9d.jpg', 'height': 1024, 'width': 768, 'creature': ['fish'], 'bbox': [[0.2591145833333333, 0.4140625, 0.703125, 0.7578125]], 'n_box': 1, 'main_creature': 'fish', 'gerated_caption': 'a fish swimming in an aquarium with rocks', 'prompt_wtemp1': 'a fish swimming in an aquarium with rocks, creature: fish', 'prompt_wtemp2': 'a fish swimming in an aquarium with rocks, creature: fish, height: 1024, width: 768'}\n",
      "prompt_wtemp1\n"
     ]
    },
    {
     "data": {
      "application/vnd.jupyter.widget-view+json": {
       "model_id": "f97c59a366624cbba84e5dde74ed2e10",
       "version_major": 2,
       "version_minor": 0
      },
      "text/plain": [
       "  0%|          | 0/50 [00:00<?, ?it/s]"
      ]
     },
     "metadata": {},
     "output_type": "display_data"
    },
    {
     "name": "stdout",
     "output_type": "stream",
     "text": [
      "{'file_name': 'IMG_8512_MOV-2_jpg.rf.00f06559a0df06b71002d0b3dbf1804c.jpg', 'height': 576, 'width': 1024, 'creature': ['fish'], 'bbox': [[0.2138671875, 0.3993055555555556, 0.6728515625, 0.7725694444444444]], 'n_box': 1, 'main_creature': 'fish', 'gerated_caption': 'a fish in an aquarium with a lot of fish', 'prompt_wtemp1': 'a fish in an aquarium with a lot of fish, creature: fish', 'prompt_wtemp2': 'a fish in an aquarium with a lot of fish, creature: fish, height: 576, width: 1024'}\n",
      "prompt_wtemp1\n"
     ]
    },
    {
     "data": {
      "application/vnd.jupyter.widget-view+json": {
       "model_id": "e9d83f7d690f46c092164fcf03dad59a",
       "version_major": 2,
       "version_minor": 0
      },
      "text/plain": [
       "  0%|          | 0/50 [00:00<?, ?it/s]"
      ]
     },
     "metadata": {},
     "output_type": "display_data"
    },
    {
     "name": "stdout",
     "output_type": "stream",
     "text": [
      "{'file_name': 'IMG_8319_jpg.rf.d9c66db153b1293af6ce36c1e4f6455c.jpg', 'height': 768, 'width': 1024, 'creature': ['fish'], 'bbox': [[0.1259765625, 0.19270833333333334, 0.400390625, 0.7486979166666667]], 'n_box': 1, 'main_creature': 'fish', 'gerated_caption': 'a fish swimming in an aquarium with rocks', 'prompt_wtemp1': 'a fish swimming in an aquarium with rocks, creature: fish', 'prompt_wtemp2': 'a fish swimming in an aquarium with rocks, creature: fish, height: 768, width: 1024'}\n",
      "prompt_wtemp1\n"
     ]
    },
    {
     "data": {
      "application/vnd.jupyter.widget-view+json": {
       "model_id": "fc37a4a26cdb4f4bbddc41027e4f4f6f",
       "version_major": 2,
       "version_minor": 0
      },
      "text/plain": [
       "  0%|          | 0/50 [00:00<?, ?it/s]"
      ]
     },
     "metadata": {},
     "output_type": "display_data"
    },
    {
     "name": "stdout",
     "output_type": "stream",
     "text": [
      "{'file_name': 'IMG_2365_jpeg_jpg.rf.9091a7e8b24fcf1d8493c5a4dd1310d1.jpg', 'height': 1024, 'width': 768, 'creature': ['fish', 'shark'], 'bbox': [[0.4466145833333333, 0.37890625, 0.7994791666666666, 0.6298828125], [0.3177083333333333, 0.0, 0.9856770833333333, 0.318359375]], 'n_box': 2, 'main_creature': 'fish', 'gerated_caption': 'a large fish swimming in an aquarium', 'prompt_wtemp1': 'a large fish swimming in an aquarium, creature: fish', 'prompt_wtemp2': 'a large fish swimming in an aquarium, creature: fish, height: 1024, width: 768'}\n",
      "prompt_wtemp1\n"
     ]
    },
    {
     "data": {
      "application/vnd.jupyter.widget-view+json": {
       "model_id": "5070c27a03024e9fb8217e648d612d85",
       "version_major": 2,
       "version_minor": 0
      },
      "text/plain": [
       "  0%|          | 0/50 [00:00<?, ?it/s]"
      ]
     },
     "metadata": {},
     "output_type": "display_data"
    },
    {
     "name": "stdout",
     "output_type": "stream",
     "text": [
      "{'file_name': 'IMG_2410_jpeg_jpg.rf.28e599148c43192990cc399a4940f016.jpg', 'height': 1024, 'width': 768, 'creature': ['fish', 'fish'], 'bbox': [[0.4921875, 0.4873046875, 0.72265625, 0.6474609375], [0.796875, 0.1435546875, 0.90625, 0.193359375]], 'n_box': 2, 'main_creature': 'fish', 'gerated_caption': 'a fish tank with a lot of fish in it', 'prompt_wtemp1': 'a fish tank with a lot of fish in it, creature: fish', 'prompt_wtemp2': 'a fish tank with a lot of fish in it, creature: fish, height: 1024, width: 768'}\n",
      "prompt_wtemp1\n"
     ]
    },
    {
     "data": {
      "application/vnd.jupyter.widget-view+json": {
       "model_id": "e77e4ff3f3d34ac5b3ea46015e6d2ca2",
       "version_major": 2,
       "version_minor": 0
      },
      "text/plain": [
       "  0%|          | 0/50 [00:00<?, ?it/s]"
      ]
     },
     "metadata": {},
     "output_type": "display_data"
    },
    {
     "name": "stdout",
     "output_type": "stream",
     "text": [
      "{'file_name': 'IMG_8318_jpg.rf.ed4eeaebcf971e4f4a8f90bd351fb23c.jpg', 'height': 768, 'width': 1024, 'creature': ['fish', 'fish'], 'bbox': [[0.2724609375, 0.2643229166666667, 0.64453125, 0.9388020833333333], [0.380859375, 0.24479166666666666, 0.482421875, 0.45182291666666663]], 'n_box': 2, 'main_creature': 'fish', 'gerated_caption': 'a fish swimming in an aquarium with other fish', 'prompt_wtemp1': 'a fish swimming in an aquarium with other fish, creature: fish', 'prompt_wtemp2': 'a fish swimming in an aquarium with other fish, creature: fish, height: 768, width: 1024'}\n",
      "prompt_wtemp1\n"
     ]
    },
    {
     "data": {
      "application/vnd.jupyter.widget-view+json": {
       "model_id": "09d24a5629284b55a784049f27936735",
       "version_major": 2,
       "version_minor": 0
      },
      "text/plain": [
       "  0%|          | 0/50 [00:00<?, ?it/s]"
      ]
     },
     "metadata": {},
     "output_type": "display_data"
    },
    {
     "name": "stdout",
     "output_type": "stream",
     "text": [
      "{'file_name': 'IMG_8590_MOV-4_jpg.rf.1691f0958ffea266daa9011c203cd726.jpg', 'height': 1024, 'width': 576, 'creature': ['jellyfish'], 'bbox': [[0.2777777777777778, 0.2216796875, 0.5451388888888888, 0.421875]], 'n_box': 1, 'main_creature': 'jellyfish', 'gerated_caption': 'a jellyfish swimming in a blue aquarium', 'prompt_wtemp1': 'a jellyfish swimming in a blue aquarium, creature: jellyfish', 'prompt_wtemp2': 'a jellyfish swimming in a blue aquarium, creature: jellyfish, height: 1024, width: 576'}\n",
      "prompt_wtemp1\n"
     ]
    },
    {
     "data": {
      "application/vnd.jupyter.widget-view+json": {
       "model_id": "414766deb43c44dc9fd9157ec7fa6136",
       "version_major": 2,
       "version_minor": 0
      },
      "text/plain": [
       "  0%|          | 0/50 [00:00<?, ?it/s]"
      ]
     },
     "metadata": {},
     "output_type": "display_data"
    },
    {
     "name": "stdout",
     "output_type": "stream",
     "text": [
      "{'file_name': 'IMG_2482_jpeg_jpg.rf.e49b8fe3d265732ff3c0eb8172bd66ee.jpg', 'height': 1024, 'width': 768, 'creature': ['jellyfish', 'jellyfish', 'jellyfish', 'jellyfish'], 'bbox': [[0.24479166666666666, 0.626953125, 0.5390625, 0.8466796875], [0.014322916666666666, 0.7216796875, 0.2630208333333333, 0.89453125], [0.5, 0.3115234375, 0.7473958333333334, 0.4560546875], [0.0, 0.74609375, 0.09114583333333333, 0.9169921875]], 'n_box': 4, 'main_creature': 'jellyfish', 'gerated_caption': 'a group of jellyfish swimming in the ocean', 'prompt_wtemp1': 'a group of jellyfish swimming in the ocean, creature: jellyfish', 'prompt_wtemp2': 'a group of jellyfish swimming in the ocean, creature: jellyfish, height: 1024, width: 768'}\n",
      "prompt_wtemp1\n"
     ]
    },
    {
     "data": {
      "application/vnd.jupyter.widget-view+json": {
       "model_id": "9471edbc97b044f7b1988baa82795541",
       "version_major": 2,
       "version_minor": 0
      },
      "text/plain": [
       "  0%|          | 0/50 [00:00<?, ?it/s]"
      ]
     },
     "metadata": {},
     "output_type": "display_data"
    },
    {
     "name": "stdout",
     "output_type": "stream",
     "text": [
      "{'file_name': 'IMG_8599_MOV-2_jpg.rf.0b2b0733befaae0b08c0e04b86f295b9.jpg', 'height': 1024, 'width': 576, 'creature': ['jellyfish', 'jellyfish', 'jellyfish', 'jellyfish'], 'bbox': [[0.25, 0.5009765625, 0.390625, 0.59375], [0.3402777777777778, 0.2275390625, 0.4340277777777778, 0.306640625], [0.6614583333333334, 0.5810546875, 0.7864583333333334, 0.640625], [0.3177083333333333, 0.5830078125, 0.4618055555555555, 0.6953125]], 'n_box': 4, 'main_creature': 'jellyfish', 'gerated_caption': 'a group of jellyfish swimming in the blue water', 'prompt_wtemp1': 'a group of jellyfish swimming in the blue water, creature: jellyfish', 'prompt_wtemp2': 'a group of jellyfish swimming in the blue water, creature: jellyfish, height: 1024, width: 576'}\n",
      "prompt_wtemp1\n"
     ]
    },
    {
     "data": {
      "application/vnd.jupyter.widget-view+json": {
       "model_id": "d9b051c54cf940c693de3b1b5345e8a2",
       "version_major": 2,
       "version_minor": 0
      },
      "text/plain": [
       "  0%|          | 0/50 [00:00<?, ?it/s]"
      ]
     },
     "metadata": {},
     "output_type": "display_data"
    },
    {
     "name": "stdout",
     "output_type": "stream",
     "text": [
      "{'file_name': 'IMG_2489_jpeg_jpg.rf.ffb357957a29cdef43f3fdfb2a13c417.jpg', 'height': 1024, 'width': 768, 'creature': ['jellyfish', 'jellyfish', 'jellyfish', 'jellyfish', 'jellyfish', 'jellyfish'], 'bbox': [[0.0, 0.734375, 0.22916666666666666, 0.9716796875], [0.1640625, 0.720703125, 0.7252604166666666, 0.900390625], [0.013020833333333334, 0.8251953125, 0.27604166666666663, 0.955078125], [0.6380208333333334, 0.474609375, 0.9088541666666667, 0.5947265625], [0.8658854166666666, 0.2587890625, 0.9986979166666666, 0.3125], [0.7044270833333334, 0.9111328125, 0.9986979166666667, 0.9990234375]], 'n_box': 6, 'main_creature': 'jellyfish', 'gerated_caption': 'a group of jellyfish in an aquarium', 'prompt_wtemp1': 'a group of jellyfish in an aquarium, creature: jellyfish', 'prompt_wtemp2': 'a group of jellyfish in an aquarium, creature: jellyfish, height: 1024, width: 768'}\n",
      "prompt_wtemp1\n"
     ]
    },
    {
     "data": {
      "application/vnd.jupyter.widget-view+json": {
       "model_id": "da67dfc76f4e4406be1b8c0ace7581a0",
       "version_major": 2,
       "version_minor": 0
      },
      "text/plain": [
       "  0%|          | 0/50 [00:00<?, ?it/s]"
      ]
     },
     "metadata": {},
     "output_type": "display_data"
    },
    {
     "name": "stdout",
     "output_type": "stream",
     "text": [
      "{'file_name': 'IMG_2472_jpeg_jpg.rf.57b8e38dd12bf9a9b8cb87e5f49b072d.jpg', 'height': 1024, 'width': 768, 'creature': ['jellyfish', 'jellyfish', 'jellyfish', 'jellyfish', 'jellyfish', 'jellyfish'], 'bbox': [[0.4518229166666667, 0.072265625, 0.5455729166666667, 0.2529296875], [0.70703125, 0.6591796875, 0.9466145833333334, 0.83203125], [0.15885416666666666, 0.1611328125, 0.3606770833333333, 0.302734375], [0.52734375, 0.4228515625, 0.66796875, 0.5361328125], [0.5703125, 0.66796875, 0.7174479166666666, 0.7509765625], [0.11848958333333333, 0.640625, 0.3723958333333333, 0.7421875]], 'n_box': 6, 'main_creature': 'jellyfish', 'gerated_caption': 'jellyfish in the ocean', 'prompt_wtemp1': 'jellyfish in the ocean, creature: jellyfish', 'prompt_wtemp2': 'jellyfish in the ocean, creature: jellyfish, height: 1024, width: 768'}\n",
      "prompt_wtemp1\n"
     ]
    },
    {
     "data": {
      "application/vnd.jupyter.widget-view+json": {
       "model_id": "95581eff8b3a45b7aa5aa46b978b2026",
       "version_major": 2,
       "version_minor": 0
      },
      "text/plain": [
       "  0%|          | 0/50 [00:00<?, ?it/s]"
      ]
     },
     "metadata": {},
     "output_type": "display_data"
    },
    {
     "name": "stdout",
     "output_type": "stream",
     "text": [
      "{'file_name': 'IMG_8590_MOV-1_jpg.rf.5e5c650f344f8d835e04f867c6496953.jpg', 'height': 1024, 'width': 576, 'creature': ['jellyfish', 'jellyfish', 'jellyfish', 'jellyfish', 'jellyfish', 'jellyfish'], 'bbox': [[0.13368055555555555, 0.1611328125, 0.5503472222222222, 0.4501953125], [0.4878472222222222, 0.37109375, 0.890625, 0.5615234375], [0.12152777777777778, 0.46484375, 0.3489583333333333, 0.6494140625], [0.0, 0.3486328125, 0.10590277777777778, 0.498046875], [0.8993055555555556, 0.6904296875, 0.998263888888889, 0.78125], [0.5277777777777778, 0.830078125, 0.6892361111111112, 0.9091796875]], 'n_box': 6, 'main_creature': 'jellyfish', 'gerated_caption': 'jellyfish in an aquarium with blue water', 'prompt_wtemp1': 'jellyfish in an aquarium with blue water, creature: jellyfish', 'prompt_wtemp2': 'jellyfish in an aquarium with blue water, creature: jellyfish, height: 1024, width: 576'}\n",
      "prompt_wtemp1\n"
     ]
    },
    {
     "data": {
      "application/vnd.jupyter.widget-view+json": {
       "model_id": "5113b192f4c44d5f913f03ffb3c7530a",
       "version_major": 2,
       "version_minor": 0
      },
      "text/plain": [
       "  0%|          | 0/50 [00:00<?, ?it/s]"
      ]
     },
     "metadata": {},
     "output_type": "display_data"
    },
    {
     "name": "stdout",
     "output_type": "stream",
     "text": [
      "{'file_name': 'IMG_2487_jpeg_jpg.rf.e2c008ecf06dc7f3159ab28903bc5275.jpg', 'height': 1024, 'width': 768, 'creature': ['jellyfish', 'jellyfish', 'jellyfish', 'jellyfish', 'jellyfish', 'jellyfish', 'jellyfish'], 'bbox': [[0.1484375, 0.5732421875, 0.41015625, 0.71484375], [0.4713541666666667, 0.6572265625, 0.7265625, 0.7783203125], [0.0, 0.5478515625, 0.20703125, 0.6650390625], [0.2747395833333333, 0.3701171875, 0.4661458333333333, 0.4619140625], [0.78125, 0.65234375, 0.8971354166666666, 0.724609375], [0.6471354166666666, 0.556640625, 0.7526041666666666, 0.5888671875], [0.46875, 0.5146484375, 0.5690104166666666, 0.5791015625]], 'n_box': 7, 'main_creature': 'jellyfish', 'gerated_caption': 'a group of jellyfish in an aquarium', 'prompt_wtemp1': 'a group of jellyfish in an aquarium, creature: jellyfish', 'prompt_wtemp2': 'a group of jellyfish in an aquarium, creature: jellyfish, height: 1024, width: 768'}\n",
      "prompt_wtemp1\n"
     ]
    },
    {
     "data": {
      "application/vnd.jupyter.widget-view+json": {
       "model_id": "4e72ad57ad854475adb5dfea8dd4be1a",
       "version_major": 2,
       "version_minor": 0
      },
      "text/plain": [
       "  0%|          | 0/50 [00:00<?, ?it/s]"
      ]
     },
     "metadata": {},
     "output_type": "display_data"
    },
    {
     "name": "stdout",
     "output_type": "stream",
     "text": [
      "{'file_name': 'IMG_8599_MOV-0_jpg.rf.3bd4fd78a244fdb4e48556896c70de74.jpg', 'height': 1024, 'width': 576, 'creature': ['jellyfish', 'jellyfish', 'jellyfish', 'jellyfish', 'jellyfish', 'jellyfish', 'jellyfish'], 'bbox': [[0.6579861111111112, 0.5302734375, 0.71875, 0.5859375], [0.6111111111111112, 0.4775390625, 0.6822916666666667, 0.5224609375], [0.7013888888888888, 0.3623046875, 0.7586805555555555, 0.3984375], [0.8211805555555556, 0.4990234375, 0.8923611111111112, 0.5341796875], [0.11979166666666667, 0.26171875, 0.1684027777777778, 0.294921875], [0.2899305555555556, 0.3759765625, 0.3402777777777778, 0.40625], [0.0763888888888889, 0.4013671875, 0.11979166666666667, 0.4296875]], 'n_box': 7, 'main_creature': 'jellyfish', 'gerated_caption': 'a blue aquarium with jellyfish swimming in it', 'prompt_wtemp1': 'a blue aquarium with jellyfish swimming in it, creature: jellyfish', 'prompt_wtemp2': 'a blue aquarium with jellyfish swimming in it, creature: jellyfish, height: 1024, width: 576'}\n",
      "prompt_wtemp1\n"
     ]
    },
    {
     "data": {
      "application/vnd.jupyter.widget-view+json": {
       "model_id": "1797aed2841148749ac7817787185c40",
       "version_major": 2,
       "version_minor": 0
      },
      "text/plain": [
       "  0%|          | 0/50 [00:00<?, ?it/s]"
      ]
     },
     "metadata": {},
     "output_type": "display_data"
    },
    {
     "name": "stdout",
     "output_type": "stream",
     "text": [
      "{'file_name': 'IMG_2485_jpeg_jpg.rf.dabd7a2e30e0c47b2bc750eb2395da11.jpg', 'height': 1024, 'width': 768, 'creature': ['jellyfish', 'jellyfish', 'jellyfish', 'jellyfish', 'jellyfish', 'jellyfish', 'jellyfish'], 'bbox': [[0.37890625, 0.591796875, 0.6588541666666667, 0.72265625], [0.09765625, 0.5615234375, 0.33723958333333337, 0.689453125], [0.7291666666666666, 0.517578125, 0.8567708333333333, 0.58984375], [0.2877604166666667, 0.408203125, 0.50390625, 0.478515625], [0.0, 0.681640625, 0.22265625, 0.7470703125], [0.5390625, 0.5234375, 0.625, 0.5673828125], [0.62109375, 0.5205078125, 0.734375, 0.5517578125]], 'n_box': 7, 'main_creature': 'jellyfish', 'gerated_caption': 'a group of jellyfish swimming in the water', 'prompt_wtemp1': 'a group of jellyfish swimming in the water, creature: jellyfish', 'prompt_wtemp2': 'a group of jellyfish swimming in the water, creature: jellyfish, height: 1024, width: 768'}\n",
      "prompt_wtemp1\n"
     ]
    },
    {
     "data": {
      "application/vnd.jupyter.widget-view+json": {
       "model_id": "e5b013600d43455792c957e652571301",
       "version_major": 2,
       "version_minor": 0
      },
      "text/plain": [
       "  0%|          | 0/50 [00:00<?, ?it/s]"
      ]
     },
     "metadata": {},
     "output_type": "display_data"
    },
    {
     "name": "stdout",
     "output_type": "stream",
     "text": [
      "{'file_name': 'IMG_2478_jpeg_jpg.rf.ae27bba94db775902a3683bc5c469029.jpg', 'height': 1024, 'width': 768, 'creature': ['jellyfish', 'jellyfish', 'jellyfish', 'jellyfish', 'jellyfish', 'jellyfish', 'jellyfish'], 'bbox': [[0.6588541666666666, 0.5771484375, 0.8763020833333333, 0.716796875], [0.7825520833333334, 0.791015625, 0.953125, 0.92578125], [0.13151041666666666, 0.4814453125, 0.42708333333333337, 0.5732421875], [0.09505208333333333, 0.37109375, 0.2825520833333333, 0.4619140625], [0.578125, 0.9130859375, 0.7486979166666666, 0.9990234375], [0.09375, 0.2890625, 0.27213541666666663, 0.3740234375], [0.3020833333333333, 0.8955078125, 0.4921875, 1.0]], 'n_box': 7, 'main_creature': 'jellyfish', 'gerated_caption': 'jellyfish in the ocean', 'prompt_wtemp1': 'jellyfish in the ocean, creature: jellyfish', 'prompt_wtemp2': 'jellyfish in the ocean, creature: jellyfish, height: 1024, width: 768'}\n",
      "prompt_wtemp1\n"
     ]
    },
    {
     "data": {
      "application/vnd.jupyter.widget-view+json": {
       "model_id": "147f47f3d7c743e1ba4b1edae17e5984",
       "version_major": 2,
       "version_minor": 0
      },
      "text/plain": [
       "  0%|          | 0/50 [00:00<?, ?it/s]"
      ]
     },
     "metadata": {},
     "output_type": "display_data"
    },
    {
     "name": "stdout",
     "output_type": "stream",
     "text": [
      "{'file_name': 'IMG_2575_jpeg_jpg.rf.8736d619bdee1d73390ae7476c9d4931.jpg', 'height': 1024, 'width': 768, 'creature': ['jellyfish', 'jellyfish', 'jellyfish', 'jellyfish', 'jellyfish', 'jellyfish', 'jellyfish'], 'bbox': [[0.13020833333333334, 0.5283203125, 0.56640625, 0.779296875], [0.3359375, 0.2177734375, 0.6341145833333333, 0.4599609375], [0.026041666666666668, 0.390625, 0.29296875, 0.6123046875], [0.6119791666666666, 0.6767578125, 0.796875, 0.89453125], [0.72265625, 0.283203125, 0.98046875, 0.4873046875], [0.22526041666666666, 0.873046875, 0.5052083333333334, 0.978515625], [0.42578125, 0.79296875, 0.6419270833333334, 0.888671875]], 'n_box': 7, 'main_creature': 'jellyfish', 'gerated_caption': 'jellyfish in the ocean', 'prompt_wtemp1': 'jellyfish in the ocean, creature: jellyfish', 'prompt_wtemp2': 'jellyfish in the ocean, creature: jellyfish, height: 1024, width: 768'}\n",
      "prompt_wtemp1\n"
     ]
    },
    {
     "data": {
      "application/vnd.jupyter.widget-view+json": {
       "model_id": "8cf8570651a9416fb6ad88f5e724f7c4",
       "version_major": 2,
       "version_minor": 0
      },
      "text/plain": [
       "  0%|          | 0/50 [00:00<?, ?it/s]"
      ]
     },
     "metadata": {},
     "output_type": "display_data"
    },
    {
     "name": "stdout",
     "output_type": "stream",
     "text": [
      "{'file_name': 'IMG_2576_jpeg_jpg.rf.4d42383c9a9d3043ca31f8f709d124ba.jpg', 'height': 1024, 'width': 768, 'creature': ['jellyfish', 'jellyfish', 'jellyfish', 'jellyfish', 'jellyfish', 'jellyfish', 'jellyfish', 'jellyfish'], 'bbox': [[0.2994791666666667, 0.111328125, 0.49739583333333337, 0.3525390625], [0.5807291666666666, 0.6845703125, 0.8203125, 0.8720703125], [0.7109375, 0.3828125, 0.9270833333333334, 0.501953125], [0.2877604166666667, 0.4541015625, 0.4908854166666667, 0.568359375], [0.3424479166666667, 0.5859375, 0.55859375, 0.6953125], [0.23307291666666666, 0.1142578125, 0.36588541666666663, 0.189453125], [0.9466145833333334, 0.419921875, 1.0, 0.4755859375], [0.13020833333333334, 0.810546875, 0.29817708333333337, 0.951171875]], 'n_box': 8, 'main_creature': 'jellyfish', 'gerated_caption': 'a group of jellyfish swimming in the water', 'prompt_wtemp1': 'a group of jellyfish swimming in the water, creature: jellyfish', 'prompt_wtemp2': 'a group of jellyfish swimming in the water, creature: jellyfish, height: 1024, width: 768'}\n",
      "prompt_wtemp1\n"
     ]
    },
    {
     "data": {
      "application/vnd.jupyter.widget-view+json": {
       "model_id": "8b549fb505d94232a81e661924f23196",
       "version_major": 2,
       "version_minor": 0
      },
      "text/plain": [
       "  0%|          | 0/50 [00:00<?, ?it/s]"
      ]
     },
     "metadata": {},
     "output_type": "display_data"
    },
    {
     "name": "stdout",
     "output_type": "stream",
     "text": [
      "{'file_name': 'IMG_8598_jpg.rf.761ffe2966ae3fae2a3f5615df36370e.jpg', 'height': 768, 'width': 1024, 'creature': ['jellyfish', 'jellyfish', 'jellyfish', 'jellyfish', 'jellyfish', 'jellyfish', 'jellyfish', 'jellyfish'], 'bbox': [[0.521484375, 0.3802083333333333, 0.55078125, 0.42447916666666663], [0.5341796875, 0.36328125, 0.56640625, 0.4049479166666667], [0.4833984375, 0.26953125, 0.513671875, 0.3046875], [0.380859375, 0.3489583333333333, 0.4140625, 0.38671875], [0.46875, 0.39453125, 0.509765625, 0.4427083333333333], [0.40625, 0.59765625, 0.4296875, 0.6302083333333334], [0.3994140625, 0.7434895833333334, 0.42578125, 0.7721354166666667], [0.2802734375, 0.69921875, 0.306640625, 0.7317708333333334]], 'n_box': 8, 'main_creature': 'jellyfish', 'gerated_caption': 'a blue window with a blue sky and some fish', 'prompt_wtemp1': 'a blue window with a blue sky and some fish, creature: jellyfish', 'prompt_wtemp2': 'a blue window with a blue sky and some fish, creature: jellyfish, height: 768, width: 1024'}\n",
      "prompt_wtemp1\n"
     ]
    },
    {
     "data": {
      "application/vnd.jupyter.widget-view+json": {
       "model_id": "6416a2e9bd72473984d7b4c052898458",
       "version_major": 2,
       "version_minor": 0
      },
      "text/plain": [
       "  0%|          | 0/50 [00:00<?, ?it/s]"
      ]
     },
     "metadata": {},
     "output_type": "display_data"
    },
    {
     "name": "stdout",
     "output_type": "stream",
     "text": [
      "{'file_name': 'IMG_2463_jpeg_jpg.rf.da774058e67ba22ec38a84ac948b4014.jpg', 'height': 1024, 'width': 768, 'creature': ['jellyfish', 'jellyfish', 'jellyfish', 'jellyfish', 'jellyfish', 'jellyfish', 'jellyfish', 'jellyfish', 'jellyfish'], 'bbox': [[0.12630208333333334, 0.814453125, 0.35286458333333337, 0.955078125], [0.76171875, 0.748046875, 0.921875, 0.859375], [0.8229166666666666, 0.330078125, 0.9791666666666666, 0.4326171875], [0.3372395833333333, 0.8251953125, 0.5013020833333333, 0.923828125], [0.07552083333333333, 0.2900390625, 0.21354166666666669, 0.38671875], [0.6536458333333334, 0.8720703125, 0.828125, 0.9638671875], [0.00390625, 0.181640625, 0.15885416666666666, 0.2734375], [0.6028645833333334, 0.416015625, 0.7877604166666667, 0.4921875], [0.3190104166666667, 0.77734375, 0.48828125, 0.84765625]], 'n_box': 9, 'main_creature': 'jellyfish', 'gerated_caption': 'jellyfish in the ocean', 'prompt_wtemp1': 'jellyfish in the ocean, creature: jellyfish', 'prompt_wtemp2': 'jellyfish in the ocean, creature: jellyfish, height: 1024, width: 768'}\n",
      "prompt_wtemp1\n"
     ]
    },
    {
     "data": {
      "application/vnd.jupyter.widget-view+json": {
       "model_id": "1026fb55f3be459e936b63e5bd8dc8d6",
       "version_major": 2,
       "version_minor": 0
      },
      "text/plain": [
       "  0%|          | 0/50 [00:00<?, ?it/s]"
      ]
     },
     "metadata": {},
     "output_type": "display_data"
    },
    {
     "name": "stdout",
     "output_type": "stream",
     "text": [
      "{'file_name': 'IMG_2573_jpeg_jpg.rf.b7884c20265e0dd7cefe21da58643216.jpg', 'height': 1024, 'width': 768, 'creature': ['jellyfish', 'jellyfish', 'jellyfish', 'jellyfish', 'jellyfish', 'jellyfish', 'jellyfish', 'jellyfish', 'jellyfish'], 'bbox': [[0.23046875, 0.3759765625, 0.46354166666666663, 0.5537109375], [0.0, 0.248046875, 0.12239583333333333, 0.404296875], [0.24869791666666666, 0.8681640625, 0.3723958333333333, 1.0], [0.29296875, 0.7861328125, 0.5247395833333334, 0.916015625], [0.5559895833333334, 0.3916015625, 0.7356770833333334, 0.5078125], [0.0, 0.6787109375, 0.109375, 0.7919921875], [0.4453125, 0.2255859375, 0.6471354166666666, 0.3173828125], [0.609375, 0.0009765625, 0.7526041666666666, 0.07421875], [0.6015625, 0.26171875, 0.7317708333333334, 0.349609375]], 'n_box': 9, 'main_creature': 'jellyfish', 'gerated_caption': 'jellyfish in the ocean', 'prompt_wtemp1': 'jellyfish in the ocean, creature: jellyfish', 'prompt_wtemp2': 'jellyfish in the ocean, creature: jellyfish, height: 1024, width: 768'}\n",
      "prompt_wtemp1\n"
     ]
    },
    {
     "data": {
      "application/vnd.jupyter.widget-view+json": {
       "model_id": "c93512204f7746abbcfa74649e6ef542",
       "version_major": 2,
       "version_minor": 0
      },
      "text/plain": [
       "  0%|          | 0/50 [00:00<?, ?it/s]"
      ]
     },
     "metadata": {},
     "output_type": "display_data"
    },
    {
     "name": "stdout",
     "output_type": "stream",
     "text": [
      "{'file_name': 'IMG_8591_MOV-2_jpg.rf.fb399b446ec6ccc12bea5b9321486b34.jpg', 'height': 1024, 'width': 576, 'creature': ['jellyfish', 'jellyfish', 'jellyfish', 'jellyfish', 'jellyfish', 'jellyfish', 'jellyfish', 'jellyfish', 'jellyfish'], 'bbox': [[0.2881944444444444, 0.4716796875, 0.40451388888888884, 0.537109375], [0.6649305555555556, 0.7587890625, 0.8368055555555556, 0.818359375], [0.8142361111111112, 0.5947265625, 0.9427083333333334, 0.6533203125], [0.9392361111111112, 0.2392578125, 0.998263888888889, 0.28125], [0.0, 0.734375, 0.034722222222222224, 0.7705078125], [0.9513888888888888, 0.5107421875, 0.9982638888888888, 0.5478515625], [0.7725694444444444, 0.7568359375, 0.8315972222222222, 0.7900390625], [0.3663194444444444, 0.1103515625, 0.4583333333333333, 0.1376953125], [0.296875, 0.798828125, 0.3715277777777778, 0.83203125]], 'n_box': 9, 'main_creature': 'jellyfish', 'gerated_caption': 'a fish tank with a lot of fish in it', 'prompt_wtemp1': 'a fish tank with a lot of fish in it, creature: jellyfish', 'prompt_wtemp2': 'a fish tank with a lot of fish in it, creature: jellyfish, height: 1024, width: 576'}\n",
      "prompt_wtemp1\n"
     ]
    },
    {
     "data": {
      "application/vnd.jupyter.widget-view+json": {
       "model_id": "2fa4a30729914c139345dc6466f915f5",
       "version_major": 2,
       "version_minor": 0
      },
      "text/plain": [
       "  0%|          | 0/50 [00:00<?, ?it/s]"
      ]
     },
     "metadata": {},
     "output_type": "display_data"
    },
    {
     "name": "stdout",
     "output_type": "stream",
     "text": [
      "{'file_name': 'IMG_2467_jpeg_jpg.rf.50fbe34360e324a8ebb9c0ed262373c1.jpg', 'height': 1024, 'width': 768, 'creature': ['jellyfish', 'jellyfish', 'jellyfish', 'jellyfish', 'jellyfish', 'jellyfish', 'jellyfish', 'jellyfish', 'jellyfish', 'jellyfish'], 'bbox': [[0.48046875, 0.076171875, 0.7630208333333333, 0.2646484375], [0.640625, 0.4384765625, 0.8359375, 0.6240234375], [0.9440104166666666, 0.2705078125, 1.0, 0.4072265625], [0.1640625, 0.5888671875, 0.2552083333333333, 0.685546875], [0.3450520833333333, 0.37890625, 0.49869791666666663, 0.470703125], [0.4322916666666667, 0.7734375, 0.5950520833333334, 0.861328125], [0.0, 0.7119140625, 0.061197916666666664, 0.76953125], [0.18880208333333334, 0.375, 0.32552083333333337, 0.4306640625], [0.5885416666666666, 0.8466796875, 0.66796875, 0.8916015625], [0.70703125, 0.8662109375, 0.9049479166666666, 0.943359375]], 'n_box': 10, 'main_creature': 'jellyfish', 'gerated_caption': 'a large tank of jellyfish in a blue water', 'prompt_wtemp1': 'a large tank of jellyfish in a blue water, creature: jellyfish', 'prompt_wtemp2': 'a large tank of jellyfish in a blue water, creature: jellyfish, height: 1024, width: 768'}\n",
      "prompt_wtemp1\n"
     ]
    },
    {
     "data": {
      "application/vnd.jupyter.widget-view+json": {
       "model_id": "9dbb328709e34044b806f44a6406d11b",
       "version_major": 2,
       "version_minor": 0
      },
      "text/plain": [
       "  0%|          | 0/50 [00:00<?, ?it/s]"
      ]
     },
     "metadata": {},
     "output_type": "display_data"
    },
    {
     "name": "stdout",
     "output_type": "stream",
     "text": [
      "{'file_name': 'IMG_2483_jpeg_jpg.rf.4cce5bab03a29d47dde28e0ffa71a3a0.jpg', 'height': 1024, 'width': 768, 'creature': ['jellyfish', 'jellyfish', 'jellyfish', 'jellyfish', 'jellyfish', 'jellyfish', 'jellyfish', 'jellyfish', 'jellyfish', 'jellyfish'], 'bbox': [[0.6770833333333334, 0.3681640625, 0.8971354166666667, 0.4931640625], [0.18619791666666666, 0.6435546875, 0.27734375, 0.740234375], [0.2994791666666667, 0.5361328125, 0.48046875, 0.6298828125], [0.12369791666666667, 0.380859375, 0.3736979166666667, 0.47265625], [0.18359375, 0.837890625, 0.34635416666666663, 0.927734375], [0.4401041666666667, 0.419921875, 0.5950520833333334, 0.5068359375], [0.5651041666666666, 0.353515625, 0.6796875, 0.43359375], [0.3671875, 0.7939453125, 0.4869791666666667, 0.861328125], [0.0234375, 0.876953125, 0.14453125, 0.9375], [0.049479166666666664, 0.9384765625, 0.18229166666666666, 0.9970703125]], 'n_box': 10, 'main_creature': 'jellyfish', 'gerated_caption': 'a group of jellyfish swimming in an aquarium', 'prompt_wtemp1': 'a group of jellyfish swimming in an aquarium, creature: jellyfish', 'prompt_wtemp2': 'a group of jellyfish swimming in an aquarium, creature: jellyfish, height: 1024, width: 768'}\n",
      "prompt_wtemp1\n"
     ]
    },
    {
     "data": {
      "application/vnd.jupyter.widget-view+json": {
       "model_id": "13dc497ca4454574bf1dc9c59a4d1d0f",
       "version_major": 2,
       "version_minor": 0
      },
      "text/plain": [
       "  0%|          | 0/50 [00:00<?, ?it/s]"
      ]
     },
     "metadata": {},
     "output_type": "display_data"
    },
    {
     "name": "stdout",
     "output_type": "stream",
     "text": [
      "{'file_name': 'IMG_2471_jpeg_jpg.rf.80259312a2c1b317d5b48f1937e53a07.jpg', 'height': 1024, 'width': 768, 'creature': ['jellyfish', 'jellyfish', 'jellyfish', 'jellyfish', 'jellyfish', 'jellyfish', 'jellyfish', 'jellyfish', 'jellyfish', 'jellyfish'], 'bbox': [[0.2513020833333333, 0.1123046875, 0.5572916666666666, 0.3330078125], [0.0, 0.826171875, 0.1640625, 0.9775390625], [0.0, 0.287109375, 0.125, 0.43359375], [0.5703125, 0.744140625, 0.7421875, 0.8896484375], [0.6627604166666666, 0.5498046875, 0.8111979166666666, 0.685546875], [0.6666666666666666, 0.2490234375, 0.9010416666666666, 0.3798828125], [0.20182291666666666, 0.7734375, 0.4505208333333333, 0.900390625], [0.0, 0.5498046875, 0.14453125, 0.677734375], [0.5325520833333334, 0.2314453125, 0.66796875, 0.3515625], [0.703125, 0.3310546875, 0.9127604166666666, 0.4248046875]], 'n_box': 10, 'main_creature': 'jellyfish', 'gerated_caption': 'jellyfish in the ocean', 'prompt_wtemp1': 'jellyfish in the ocean, creature: jellyfish', 'prompt_wtemp2': 'jellyfish in the ocean, creature: jellyfish, height: 1024, width: 768'}\n",
      "prompt_wtemp1\n"
     ]
    },
    {
     "data": {
      "application/vnd.jupyter.widget-view+json": {
       "model_id": "15541d28182c46fc95e4ebbb4954ad8b",
       "version_major": 2,
       "version_minor": 0
      },
      "text/plain": [
       "  0%|          | 0/50 [00:00<?, ?it/s]"
      ]
     },
     "metadata": {},
     "output_type": "display_data"
    },
    {
     "name": "stdout",
     "output_type": "stream",
     "text": [
      "{'file_name': 'IMG_2476_jpeg_jpg.rf.8ccde2bbb1a8cc7205cbf4c0343ac96b.jpg', 'height': 1024, 'width': 768, 'creature': ['jellyfish', 'jellyfish', 'jellyfish', 'jellyfish', 'jellyfish', 'jellyfish', 'jellyfish', 'jellyfish', 'jellyfish', 'jellyfish', 'jellyfish'], 'bbox': [[0.4361979166666667, 0.130859375, 0.6940104166666667, 0.3203125], [0.2864583333333333, 0.150390625, 0.4583333333333333, 0.3125], [0.018229166666666668, 0.828125, 0.3385416666666667, 0.9853515625], [0.005208333333333333, 0.568359375, 0.19270833333333334, 0.7080078125], [0.22005208333333334, 0.55078125, 0.4609375, 0.6767578125], [0.020833333333333332, 0.0, 0.32421875, 0.1162109375], [0.27734375, 0.75, 0.48307291666666663, 0.8662109375], [0.6575520833333334, 0.6201171875, 0.890625, 0.7353515625], [0.9440104166666666, 0.697265625, 0.9986979166666666, 0.8017578125], [0.87890625, 0.8662109375, 0.9986979166666666, 0.9482421875], [0.93359375, 0.62890625, 0.9986979166666666, 0.6943359375]], 'n_box': 11, 'main_creature': 'jellyfish', 'gerated_caption': 'jellyfish swimming in the ocean', 'prompt_wtemp1': 'jellyfish swimming in the ocean, creature: jellyfish', 'prompt_wtemp2': 'jellyfish swimming in the ocean, creature: jellyfish, height: 1024, width: 768'}\n",
      "prompt_wtemp1\n"
     ]
    },
    {
     "data": {
      "application/vnd.jupyter.widget-view+json": {
       "model_id": "0805eaf5e36e43048eca075031d11aa0",
       "version_major": 2,
       "version_minor": 0
      },
      "text/plain": [
       "  0%|          | 0/50 [00:00<?, ?it/s]"
      ]
     },
     "metadata": {},
     "output_type": "display_data"
    },
    {
     "name": "stdout",
     "output_type": "stream",
     "text": [
      "{'file_name': 'IMG_2349_jpeg_jpg.rf.743d7a69284c7ee65b40548c2803bd34.jpg', 'height': 1024, 'width': 768, 'creature': ['penguin'], 'bbox': [[0.2109375, 0.3330078125, 0.8346354166666666, 0.6015625]], 'n_box': 1, 'main_creature': 'penguin', 'gerated_caption': 'a penguin swimming in an aquarium', 'prompt_wtemp1': 'a penguin swimming in an aquarium, creature: penguin', 'prompt_wtemp2': 'a penguin swimming in an aquarium, creature: penguin, height: 1024, width: 768'}\n",
      "prompt_wtemp1\n"
     ]
    },
    {
     "data": {
      "application/vnd.jupyter.widget-view+json": {
       "model_id": "070221f3c3584b2fbcdde8b574e6c5f6",
       "version_major": 2,
       "version_minor": 0
      },
      "text/plain": [
       "  0%|          | 0/50 [00:00<?, ?it/s]"
      ]
     },
     "metadata": {},
     "output_type": "display_data"
    },
    {
     "name": "stdout",
     "output_type": "stream",
     "text": [
      "{'file_name': 'IMG_2309_jpeg_jpg.rf.088f73ff0b07c30ce6212eb4e3013708.jpg', 'height': 1024, 'width': 768, 'creature': ['penguin'], 'bbox': [[0.3619791666666667, 0.4501953125, 0.6536458333333334, 0.515625]], 'n_box': 1, 'main_creature': 'penguin', 'gerated_caption': 'a blue fish swimming in the water', 'prompt_wtemp1': 'a blue fish swimming in the water, creature: penguin', 'prompt_wtemp2': 'a blue fish swimming in the water, creature: penguin, height: 1024, width: 768'}\n",
      "prompt_wtemp1\n"
     ]
    },
    {
     "data": {
      "application/vnd.jupyter.widget-view+json": {
       "model_id": "69347e38c0854e599bbce8cbad9b414d",
       "version_major": 2,
       "version_minor": 0
      },
      "text/plain": [
       "  0%|          | 0/50 [00:00<?, ?it/s]"
      ]
     },
     "metadata": {},
     "output_type": "display_data"
    },
    {
     "name": "stdout",
     "output_type": "stream",
     "text": [
      "{'file_name': 'IMG_2350_jpeg_jpg.rf.c77c8bea4bbacefbccb48673c5f40171.jpg', 'height': 1024, 'width': 768, 'creature': ['penguin'], 'bbox': [[0.50390625, 0.3037109375, 0.7916666666666667, 0.4560546875]], 'n_box': 1, 'main_creature': 'penguin', 'gerated_caption': 'a penguin swimming in the water near rocks', 'prompt_wtemp1': 'a penguin swimming in the water near rocks, creature: penguin', 'prompt_wtemp2': 'a penguin swimming in the water near rocks, creature: penguin, height: 1024, width: 768'}\n",
      "prompt_wtemp1\n"
     ]
    },
    {
     "data": {
      "application/vnd.jupyter.widget-view+json": {
       "model_id": "1ba84f386e9a4928a29aad4663dfeea2",
       "version_major": 2,
       "version_minor": 0
      },
      "text/plain": [
       "  0%|          | 0/50 [00:00<?, ?it/s]"
      ]
     },
     "metadata": {},
     "output_type": "display_data"
    },
    {
     "name": "stdout",
     "output_type": "stream",
     "text": [
      "{'file_name': 'IMG_2316_jpeg_jpg.rf.bb8de66895ac8751f348c5df631f46ad.jpg', 'height': 1024, 'width': 768, 'creature': ['penguin'], 'bbox': [[0.0, 0.4501953125, 0.6666666666666666, 0.7021484375]], 'n_box': 1, 'main_creature': 'penguin', 'gerated_caption': 'a penguin swimming in the water', 'prompt_wtemp1': 'a penguin swimming in the water, creature: penguin', 'prompt_wtemp2': 'a penguin swimming in the water, creature: penguin, height: 1024, width: 768'}\n",
      "prompt_wtemp1\n"
     ]
    },
    {
     "data": {
      "application/vnd.jupyter.widget-view+json": {
       "model_id": "80fbbeace09f4a02986f0b149dcfa1e7",
       "version_major": 2,
       "version_minor": 0
      },
      "text/plain": [
       "  0%|          | 0/50 [00:00<?, ?it/s]"
      ]
     },
     "metadata": {},
     "output_type": "display_data"
    },
    {
     "name": "stdout",
     "output_type": "stream",
     "text": [
      "{'file_name': 'IMG_2302_jpeg_jpg.rf.aa8d7da0c33370589f2b441c7ca26450.jpg', 'height': 1024, 'width': 768, 'creature': ['penguin'], 'bbox': [[0.2916666666666667, 0.4833984375, 0.6458333333333334, 0.5859375]], 'n_box': 1, 'main_creature': 'penguin', 'gerated_caption': 'a penguin swimming in an aquarium', 'prompt_wtemp1': 'a penguin swimming in an aquarium, creature: penguin', 'prompt_wtemp2': 'a penguin swimming in an aquarium, creature: penguin, height: 1024, width: 768'}\n",
      "prompt_wtemp1\n"
     ]
    },
    {
     "data": {
      "application/vnd.jupyter.widget-view+json": {
       "model_id": "5e0bbd105903425990f71ff38bf95344",
       "version_major": 2,
       "version_minor": 0
      },
      "text/plain": [
       "  0%|          | 0/50 [00:00<?, ?it/s]"
      ]
     },
     "metadata": {},
     "output_type": "display_data"
    },
    {
     "name": "stdout",
     "output_type": "stream",
     "text": [
      "{'file_name': 'IMG_2312_jpeg_jpg.rf.92a094761408320b749e7fd4e4b98b91.jpg', 'height': 1024, 'width': 768, 'creature': ['penguin'], 'bbox': [[0.21744791666666666, 0.4169921875, 1.0, 0.8203125]], 'n_box': 1, 'main_creature': 'penguin', 'gerated_caption': 'a penguin swimming in the water', 'prompt_wtemp1': 'a penguin swimming in the water, creature: penguin', 'prompt_wtemp2': 'a penguin swimming in the water, creature: penguin, height: 1024, width: 768'}\n",
      "prompt_wtemp1\n"
     ]
    },
    {
     "data": {
      "application/vnd.jupyter.widget-view+json": {
       "model_id": "19fa4e69005346889e62d36955a783d3",
       "version_major": 2,
       "version_minor": 0
      },
      "text/plain": [
       "  0%|          | 0/50 [00:00<?, ?it/s]"
      ]
     },
     "metadata": {},
     "output_type": "display_data"
    },
    {
     "name": "stdout",
     "output_type": "stream",
     "text": [
      "{'file_name': 'IMG_2310_jpeg_jpg.rf.89adac79fea2745dae17668703c85ba2.jpg', 'height': 1024, 'width': 768, 'creature': ['penguin'], 'bbox': [[0.3059895833333333, 0.2373046875, 0.6184895833333333, 0.642578125]], 'n_box': 1, 'main_creature': 'penguin', 'gerated_caption': 'a penguin is swimming in an aquarium', 'prompt_wtemp1': 'a penguin is swimming in an aquarium, creature: penguin', 'prompt_wtemp2': 'a penguin is swimming in an aquarium, creature: penguin, height: 1024, width: 768'}\n",
      "prompt_wtemp1\n"
     ]
    },
    {
     "data": {
      "application/vnd.jupyter.widget-view+json": {
       "model_id": "d34fd11863eb49ab90f5f05a6a34c49d",
       "version_major": 2,
       "version_minor": 0
      },
      "text/plain": [
       "  0%|          | 0/50 [00:00<?, ?it/s]"
      ]
     },
     "metadata": {},
     "output_type": "display_data"
    },
    {
     "name": "stdout",
     "output_type": "stream",
     "text": [
      "{'file_name': 'IMG_2308_jpeg_jpg.rf.7f5bc9634b415d515784dc7ae7a83532.jpg', 'height': 1024, 'width': 768, 'creature': ['penguin'], 'bbox': [[0.10026041666666667, 0.3916015625, 0.7669270833333333, 0.70703125]], 'n_box': 1, 'main_creature': 'penguin', 'gerated_caption': 'a penguin swimming in the water', 'prompt_wtemp1': 'a penguin swimming in the water, creature: penguin', 'prompt_wtemp2': 'a penguin swimming in the water, creature: penguin, height: 1024, width: 768'}\n",
      "prompt_wtemp1\n"
     ]
    },
    {
     "data": {
      "application/vnd.jupyter.widget-view+json": {
       "model_id": "fdfcf50d352c4763869a5db92a45f5a0",
       "version_major": 2,
       "version_minor": 0
      },
      "text/plain": [
       "  0%|          | 0/50 [00:00<?, ?it/s]"
      ]
     },
     "metadata": {},
     "output_type": "display_data"
    },
    {
     "name": "stdout",
     "output_type": "stream",
     "text": [
      "{'file_name': 'IMG_2328_jpeg_jpg.rf.ee3309e0a5ab09d96d9ed30bc1c1115f.jpg', 'height': 1024, 'width': 768, 'creature': ['penguin'], 'bbox': [[0.3841145833333333, 0.5634765625, 0.5455729166666666, 0.6611328125]], 'n_box': 1, 'main_creature': 'penguin', 'gerated_caption': 'a turtle swimming in the water', 'prompt_wtemp1': 'a turtle swimming in the water, creature: penguin', 'prompt_wtemp2': 'a turtle swimming in the water, creature: penguin, height: 1024, width: 768'}\n",
      "prompt_wtemp1\n"
     ]
    },
    {
     "data": {
      "application/vnd.jupyter.widget-view+json": {
       "model_id": "66c205cc72b043d2a9e127669ac53d1b",
       "version_major": 2,
       "version_minor": 0
      },
      "text/plain": [
       "  0%|          | 0/50 [00:00<?, ?it/s]"
      ]
     },
     "metadata": {},
     "output_type": "display_data"
    },
    {
     "name": "stdout",
     "output_type": "stream",
     "text": [
      "{'file_name': 'IMG_2311_jpeg_jpg.rf.69797c0319ca881b5c5bc7637e9e7aa7.jpg', 'height': 1024, 'width': 768, 'creature': ['penguin'], 'bbox': [[0.07942708333333333, 0.37890625, 0.9192708333333334, 0.693359375]], 'n_box': 1, 'main_creature': 'penguin', 'gerated_caption': 'a penguin swimming in the water', 'prompt_wtemp1': 'a penguin swimming in the water, creature: penguin', 'prompt_wtemp2': 'a penguin swimming in the water, creature: penguin, height: 1024, width: 768'}\n",
      "prompt_wtemp1\n"
     ]
    },
    {
     "data": {
      "application/vnd.jupyter.widget-view+json": {
       "model_id": "bee74cbe5e834dde9a4718650eedcd05",
       "version_major": 2,
       "version_minor": 0
      },
      "text/plain": [
       "  0%|          | 0/50 [00:00<?, ?it/s]"
      ]
     },
     "metadata": {},
     "output_type": "display_data"
    },
    {
     "name": "stdout",
     "output_type": "stream",
     "text": [
      "{'file_name': 'IMG_2330_jpeg_jpg.rf.5d358782dd868884a99f4f88841d2287.jpg', 'height': 1024, 'width': 768, 'creature': ['penguin'], 'bbox': [[0.19661458333333334, 0.42578125, 0.4921875, 0.6123046875]], 'n_box': 1, 'main_creature': 'penguin', 'gerated_caption': 'a penguin swimming in the water', 'prompt_wtemp1': 'a penguin swimming in the water, creature: penguin', 'prompt_wtemp2': 'a penguin swimming in the water, creature: penguin, height: 1024, width: 768'}\n",
      "prompt_wtemp1\n"
     ]
    },
    {
     "data": {
      "application/vnd.jupyter.widget-view+json": {
       "model_id": "ec718abd6a0144f4b21dfe5abdd20b24",
       "version_major": 2,
       "version_minor": 0
      },
      "text/plain": [
       "  0%|          | 0/50 [00:00<?, ?it/s]"
      ]
     },
     "metadata": {},
     "output_type": "display_data"
    },
    {
     "name": "stdout",
     "output_type": "stream",
     "text": [
      "{'file_name': 'IMG_2338_jpeg_jpg.rf.e7ed2b02a8b79ecfbf78d943ab27d48c.jpg', 'height': 1024, 'width': 768, 'creature': ['penguin', 'penguin'], 'bbox': [[0.0013020833333333333, 0.6083984375, 0.6888020833333334, 0.8515625], [0.2513020833333333, 0.099609375, 0.74609375, 0.20703125]], 'n_box': 2, 'main_creature': 'penguin', 'gerated_caption': 'two penguins swimming in the water', 'prompt_wtemp1': 'two penguins swimming in the water, creature: penguin', 'prompt_wtemp2': 'two penguins swimming in the water, creature: penguin, height: 1024, width: 768'}\n",
      "prompt_wtemp1\n"
     ]
    },
    {
     "data": {
      "application/vnd.jupyter.widget-view+json": {
       "model_id": "dff8f5f207f34344a74d8639cc701705",
       "version_major": 2,
       "version_minor": 0
      },
      "text/plain": [
       "  0%|          | 0/50 [00:00<?, ?it/s]"
      ]
     },
     "metadata": {},
     "output_type": "display_data"
    },
    {
     "name": "stdout",
     "output_type": "stream",
     "text": [
      "{'file_name': 'IMG_2352_jpeg_jpg.rf.b91c732f98fab8234ac4ec50f25a7c32.jpg', 'height': 1024, 'width': 768, 'creature': ['penguin', 'penguin'], 'bbox': [[0.53515625, 0.326171875, 0.96484375, 0.537109375], [0.14322916666666666, 0.431640625, 0.43229166666666663, 0.505859375]], 'n_box': 2, 'main_creature': 'penguin', 'gerated_caption': 'a penguin swimming in the water', 'prompt_wtemp1': 'a penguin swimming in the water, creature: penguin', 'prompt_wtemp2': 'a penguin swimming in the water, creature: penguin, height: 1024, width: 768'}\n",
      "prompt_wtemp1\n"
     ]
    },
    {
     "data": {
      "application/vnd.jupyter.widget-view+json": {
       "model_id": "89c7dbdb2f494348bf4efd3bf13ac45c",
       "version_major": 2,
       "version_minor": 0
      },
      "text/plain": [
       "  0%|          | 0/50 [00:00<?, ?it/s]"
      ]
     },
     "metadata": {},
     "output_type": "display_data"
    },
    {
     "name": "stdout",
     "output_type": "stream",
     "text": [
      "{'file_name': 'IMG_2351_jpeg_jpg.rf.edf3aaeca6e2355052e41c0cc57f9cb6.jpg', 'height': 1024, 'width': 768, 'creature': ['penguin', 'penguin'], 'bbox': [[0.0, 0.28515625, 0.4661458333333333, 0.4833984375], [0.4453125, 0.4443359375, 0.796875, 0.50390625]], 'n_box': 2, 'main_creature': 'penguin', 'gerated_caption': 'penguins swimming in the water', 'prompt_wtemp1': 'penguins swimming in the water, creature: penguin', 'prompt_wtemp2': 'penguins swimming in the water, creature: penguin, height: 1024, width: 768'}\n",
      "prompt_wtemp1\n"
     ]
    },
    {
     "data": {
      "application/vnd.jupyter.widget-view+json": {
       "model_id": "94c50d464cd14c2aa0bae8f1462a5c06",
       "version_major": 2,
       "version_minor": 0
      },
      "text/plain": [
       "  0%|          | 0/50 [00:00<?, ?it/s]"
      ]
     },
     "metadata": {},
     "output_type": "display_data"
    },
    {
     "name": "stdout",
     "output_type": "stream",
     "text": [
      "{'file_name': 'IMG_2327_jpeg_jpg.rf.23ca4add8919548516415c9fe02eedf6.jpg', 'height': 1024, 'width': 768, 'creature': ['penguin', 'penguin'], 'bbox': [[0.12369791666666667, 0.650390625, 0.69921875, 0.9560546875], [0.2630208333333333, 0.5068359375, 0.5247395833333333, 0.6005859375]], 'n_box': 2, 'main_creature': 'penguin', 'gerated_caption': 'two penguins swimming in the water', 'prompt_wtemp1': 'two penguins swimming in the water, creature: penguin', 'prompt_wtemp2': 'two penguins swimming in the water, creature: penguin, height: 1024, width: 768'}\n",
      "prompt_wtemp1\n"
     ]
    },
    {
     "data": {
      "application/vnd.jupyter.widget-view+json": {
       "model_id": "435718a8ae434964aa8eb83c4eee75fa",
       "version_major": 2,
       "version_minor": 0
      },
      "text/plain": [
       "  0%|          | 0/50 [00:00<?, ?it/s]"
      ]
     },
     "metadata": {},
     "output_type": "display_data"
    },
    {
     "name": "stdout",
     "output_type": "stream",
     "text": [
      "{'file_name': 'IMG_2324_jpeg_jpg.rf.1f5efa1adc71c46d5037bdcd281056b9.jpg', 'height': 1024, 'width': 768, 'creature': ['penguin', 'penguin'], 'bbox': [[0.6341145833333334, 0.4345703125, 0.9986979166666667, 0.5712890625], [0.037760416666666664, 0.4892578125, 0.29817708333333337, 0.556640625]], 'n_box': 2, 'main_creature': 'penguin', 'gerated_caption': 'a penguin swimming in an aquarium with rocks', 'prompt_wtemp1': 'a penguin swimming in an aquarium with rocks, creature: penguin', 'prompt_wtemp2': 'a penguin swimming in an aquarium with rocks, creature: penguin, height: 1024, width: 768'}\n",
      "prompt_wtemp1\n"
     ]
    },
    {
     "data": {
      "application/vnd.jupyter.widget-view+json": {
       "model_id": "8f0b450020354b4b8837fd500c8d46d4",
       "version_major": 2,
       "version_minor": 0
      },
      "text/plain": [
       "  0%|          | 0/50 [00:00<?, ?it/s]"
      ]
     },
     "metadata": {},
     "output_type": "display_data"
    },
    {
     "name": "stdout",
     "output_type": "stream",
     "text": [
      "{'file_name': 'IMG_2528_jpeg_jpg.rf.2bd17b3a6751de79eab0f91356230d98.jpg', 'height': 1024, 'width': 768, 'creature': ['penguin', 'penguin'], 'bbox': [[0.44921875, 0.3974609375, 0.8932291666666667, 0.587890625], [0.20963541666666666, 0.4970703125, 0.45182291666666663, 0.5595703125]], 'n_box': 2, 'main_creature': 'penguin', 'gerated_caption': 'a penguin swimming in the water', 'prompt_wtemp1': 'a penguin swimming in the water, creature: penguin', 'prompt_wtemp2': 'a penguin swimming in the water, creature: penguin, height: 1024, width: 768'}\n",
      "prompt_wtemp1\n"
     ]
    },
    {
     "data": {
      "application/vnd.jupyter.widget-view+json": {
       "model_id": "0b5cfe1fa7ed413b820f9290f1bb6a45",
       "version_major": 2,
       "version_minor": 0
      },
      "text/plain": [
       "  0%|          | 0/50 [00:00<?, ?it/s]"
      ]
     },
     "metadata": {},
     "output_type": "display_data"
    },
    {
     "name": "stdout",
     "output_type": "stream",
     "text": [
      "{'file_name': 'IMG_2527_jpeg_jpg.rf.3de0e3c95781ea109647310c017ca1fc.jpg', 'height': 1024, 'width': 768, 'creature': ['penguin', 'penguin'], 'bbox': [[0.33984375, 0.412109375, 0.8815104166666666, 0.64453125], [0.21875, 0.48828125, 0.37239583333333337, 0.568359375]], 'n_box': 2, 'main_creature': 'penguin', 'gerated_caption': 'a penguin swimming in an aquarium with rocks', 'prompt_wtemp1': 'a penguin swimming in an aquarium with rocks, creature: penguin', 'prompt_wtemp2': 'a penguin swimming in an aquarium with rocks, creature: penguin, height: 1024, width: 768'}\n",
      "prompt_wtemp1\n"
     ]
    },
    {
     "data": {
      "application/vnd.jupyter.widget-view+json": {
       "model_id": "a940f450f9eb4c68b1575d0f6cf64d34",
       "version_major": 2,
       "version_minor": 0
      },
      "text/plain": [
       "  0%|          | 0/50 [00:00<?, ?it/s]"
      ]
     },
     "metadata": {},
     "output_type": "display_data"
    },
    {
     "name": "stdout",
     "output_type": "stream",
     "text": [
      "{'file_name': 'IMG_2331_jpeg_jpg.rf.430bebeabaa960aedfce00821dbf1823.jpg', 'height': 1024, 'width': 768, 'creature': ['penguin', 'penguin'], 'bbox': [[0.0, 0.1875, 0.33203125, 0.521484375], [0.3190104166666667, 0.599609375, 0.6315104166666667, 0.6953125]], 'n_box': 2, 'main_creature': 'penguin', 'gerated_caption': 'two penguins swimming in the water', 'prompt_wtemp1': 'two penguins swimming in the water, creature: penguin', 'prompt_wtemp2': 'two penguins swimming in the water, creature: penguin, height: 1024, width: 768'}\n",
      "prompt_wtemp1\n"
     ]
    },
    {
     "data": {
      "application/vnd.jupyter.widget-view+json": {
       "model_id": "0069b8c4eabd46c0a539c73a288c4bfe",
       "version_major": 2,
       "version_minor": 0
      },
      "text/plain": [
       "  0%|          | 0/50 [00:00<?, ?it/s]"
      ]
     },
     "metadata": {},
     "output_type": "display_data"
    },
    {
     "name": "stdout",
     "output_type": "stream",
     "text": [
      "{'file_name': 'IMG_2529_jpeg_jpg.rf.16e64348ddac68d55ee82e98b0258080.jpg', 'height': 1024, 'width': 768, 'creature': ['penguin', 'penguin', 'penguin'], 'bbox': [[0.08723958333333333, 0.544921875, 0.796875, 0.78515625], [0.4427083333333333, 0.130859375, 0.84765625, 0.3095703125], [0.0625, 0.1787109375, 0.28645833333333337, 0.244140625]], 'n_box': 3, 'main_creature': 'penguin', 'gerated_caption': 'a penguin swimming in an aquarium', 'prompt_wtemp1': 'a penguin swimming in an aquarium, creature: penguin', 'prompt_wtemp2': 'a penguin swimming in an aquarium, creature: penguin, height: 1024, width: 768'}\n",
      "prompt_wtemp1\n"
     ]
    },
    {
     "data": {
      "application/vnd.jupyter.widget-view+json": {
       "model_id": "a4015acbbfc14d67b012edcb7c65ffb8",
       "version_major": 2,
       "version_minor": 0
      },
      "text/plain": [
       "  0%|          | 0/50 [00:00<?, ?it/s]"
      ]
     },
     "metadata": {},
     "output_type": "display_data"
    },
    {
     "name": "stdout",
     "output_type": "stream",
     "text": [
      "{'file_name': 'IMG_2290_jpeg_jpg.rf.3698fd48defd03b2550f7ba8b68314ee.jpg', 'height': 1024, 'width': 768, 'creature': ['puffin'], 'bbox': [[0.2903645833333333, 0.302734375, 0.8763020833333333, 0.6884765625]], 'n_box': 1, 'main_creature': 'puffin', 'gerated_caption': 'a penguin is flying in the water', 'prompt_wtemp1': 'a penguin is flying in the water, creature: puffin', 'prompt_wtemp2': 'a penguin is flying in the water, creature: puffin, height: 1024, width: 768'}\n",
      "prompt_wtemp1\n"
     ]
    },
    {
     "data": {
      "application/vnd.jupyter.widget-view+json": {
       "model_id": "163a05a7d530474f9ba5c5d4c27bc506",
       "version_major": 2,
       "version_minor": 0
      },
      "text/plain": [
       "  0%|          | 0/50 [00:00<?, ?it/s]"
      ]
     },
     "metadata": {},
     "output_type": "display_data"
    },
    {
     "name": "stdout",
     "output_type": "stream",
     "text": [
      "{'file_name': 'IMG_2282_jpeg_jpg.rf.510f3bc14c3e0aa378b192199d01cae6.jpg', 'height': 1024, 'width': 768, 'creature': ['puffin'], 'bbox': [[0.41015625, 0.412109375, 0.7877604166666667, 0.5537109375]], 'n_box': 1, 'main_creature': 'puffin', 'gerated_caption': 'a penguin swimming in a pond', 'prompt_wtemp1': 'a penguin swimming in a pond, creature: puffin', 'prompt_wtemp2': 'a penguin swimming in a pond, creature: puffin, height: 1024, width: 768'}\n",
      "prompt_wtemp1\n"
     ]
    },
    {
     "data": {
      "application/vnd.jupyter.widget-view+json": {
       "model_id": "38597f76e08b4228ac44d9443691fbfe",
       "version_major": 2,
       "version_minor": 0
      },
      "text/plain": [
       "  0%|          | 0/50 [00:00<?, ?it/s]"
      ]
     },
     "metadata": {},
     "output_type": "display_data"
    },
    {
     "name": "stdout",
     "output_type": "stream",
     "text": [
      "{'file_name': 'IMG_3132_jpeg_jpg.rf.bc9492bc4b33309ca664cc27baa03a1b.jpg', 'height': 1024, 'width': 768, 'creature': ['puffin'], 'bbox': [[0.3502604166666667, 0.2529296875, 0.44140625, 0.37109375]], 'n_box': 1, 'main_creature': 'puffin', 'gerated_caption': 'a man is swimming in the water', 'prompt_wtemp1': 'a man is swimming in the water, creature: puffin', 'prompt_wtemp2': 'a man is swimming in the water, creature: puffin, height: 1024, width: 768'}\n",
      "prompt_wtemp1\n"
     ]
    },
    {
     "data": {
      "application/vnd.jupyter.widget-view+json": {
       "model_id": "34cfc164a5d04c468c00277544afc4e3",
       "version_major": 2,
       "version_minor": 0
      },
      "text/plain": [
       "  0%|          | 0/50 [00:00<?, ?it/s]"
      ]
     },
     "metadata": {},
     "output_type": "display_data"
    },
    {
     "name": "stdout",
     "output_type": "stream",
     "text": [
      "{'file_name': 'IMG_2295_jpeg_jpg.rf.498a525f58666743ef5d65b7f6438adc.jpg', 'height': 1024, 'width': 768, 'creature': ['puffin'], 'bbox': [[0.44921875, 0.419921875, 0.7526041666666667, 0.51953125]], 'n_box': 1, 'main_creature': 'puffin', 'gerated_caption': 'a penguin swimming in an aquarium with rocks', 'prompt_wtemp1': 'a penguin swimming in an aquarium with rocks, creature: puffin', 'prompt_wtemp2': 'a penguin swimming in an aquarium with rocks, creature: puffin, height: 1024, width: 768'}\n",
      "prompt_wtemp1\n"
     ]
    },
    {
     "data": {
      "application/vnd.jupyter.widget-view+json": {
       "model_id": "12c7865aaf514871a4d21dbd7a1ff605",
       "version_major": 2,
       "version_minor": 0
      },
      "text/plain": [
       "  0%|          | 0/50 [00:00<?, ?it/s]"
      ]
     },
     "metadata": {},
     "output_type": "display_data"
    },
    {
     "name": "stdout",
     "output_type": "stream",
     "text": [
      "{'file_name': 'IMG_2520_jpeg_jpg.rf.4cab9c74da59c93865ed205f4dcf8c46.jpg', 'height': 1024, 'width': 768, 'creature': ['puffin'], 'bbox': [[0.17838541666666666, 0.306640625, 0.46354166666666663, 0.4794921875]], 'n_box': 1, 'main_creature': 'puffin', 'gerated_caption': 'a large aquarium with a large fish in it', 'prompt_wtemp1': 'a large aquarium with a large fish in it, creature: puffin', 'prompt_wtemp2': 'a large aquarium with a large fish in it, creature: puffin, height: 1024, width: 768'}\n",
      "prompt_wtemp1\n"
     ]
    },
    {
     "data": {
      "application/vnd.jupyter.widget-view+json": {
       "model_id": "99388f8707f7489fa5b5ec48b3f91328",
       "version_major": 2,
       "version_minor": 0
      },
      "text/plain": [
       "  0%|          | 0/50 [00:00<?, ?it/s]"
      ]
     },
     "metadata": {},
     "output_type": "display_data"
    },
    {
     "name": "stdout",
     "output_type": "stream",
     "text": [
      "{'file_name': 'IMG_2294_jpeg_jpg.rf.be432d5740148075ba72a4194c788a0c.jpg', 'height': 1024, 'width': 768, 'creature': ['puffin'], 'bbox': [[0.08984375, 0.1513671875, 0.22395833333333334, 0.2431640625]], 'n_box': 1, 'main_creature': 'puffin', 'gerated_caption': 'penguins swimming in the water at the zoo', 'prompt_wtemp1': 'penguins swimming in the water at the zoo, creature: puffin', 'prompt_wtemp2': 'penguins swimming in the water at the zoo, creature: puffin, height: 1024, width: 768'}\n",
      "prompt_wtemp1\n"
     ]
    },
    {
     "data": {
      "application/vnd.jupyter.widget-view+json": {
       "model_id": "70944b46f2d04b44a6aeb122d7910208",
       "version_major": 2,
       "version_minor": 0
      },
      "text/plain": [
       "  0%|          | 0/50 [00:00<?, ?it/s]"
      ]
     },
     "metadata": {},
     "output_type": "display_data"
    },
    {
     "name": "stdout",
     "output_type": "stream",
     "text": [
      "{'file_name': 'IMG_2287_jpeg_jpg.rf.cce12b7bb4e49aa145398504aef84c99.jpg', 'height': 1024, 'width': 768, 'creature': ['puffin'], 'bbox': [[0.08333333333333333, 0.16796875, 0.7317708333333334, 0.6630859375]], 'n_box': 1, 'main_creature': 'puffin', 'gerated_caption': 'a penguin swimming in the water', 'prompt_wtemp1': 'a penguin swimming in the water, creature: puffin', 'prompt_wtemp2': 'a penguin swimming in the water, creature: puffin, height: 1024, width: 768'}\n",
      "prompt_wtemp1\n"
     ]
    },
    {
     "data": {
      "application/vnd.jupyter.widget-view+json": {
       "model_id": "3fd2be083bed4e3b846f3ad5024a258f",
       "version_major": 2,
       "version_minor": 0
      },
      "text/plain": [
       "  0%|          | 0/50 [00:00<?, ?it/s]"
      ]
     },
     "metadata": {},
     "output_type": "display_data"
    },
    {
     "name": "stdout",
     "output_type": "stream",
     "text": [
      "{'file_name': 'IMG_2524_jpeg_jpg.rf.87f4a069ac66bc31523d434d04f9d2d6.jpg', 'height': 1024, 'width': 768, 'creature': ['puffin'], 'bbox': [[0.359375, 0.37890625, 0.7916666666666667, 0.69140625]], 'n_box': 1, 'main_creature': 'puffin', 'gerated_caption': 'a bird swimming in the water', 'prompt_wtemp1': 'a bird swimming in the water, creature: puffin', 'prompt_wtemp2': 'a bird swimming in the water, creature: puffin, height: 1024, width: 768'}\n",
      "prompt_wtemp1\n"
     ]
    },
    {
     "data": {
      "application/vnd.jupyter.widget-view+json": {
       "model_id": "f84ec12a0824458fba72fe15d9dea5b6",
       "version_major": 2,
       "version_minor": 0
      },
      "text/plain": [
       "  0%|          | 0/50 [00:00<?, ?it/s]"
      ]
     },
     "metadata": {},
     "output_type": "display_data"
    },
    {
     "name": "stdout",
     "output_type": "stream",
     "text": [
      "{'file_name': 'IMG_3156_jpeg_jpg.rf.330ea62dfe1c5108c408331acc17cd6a.jpg', 'height': 1024, 'width': 768, 'creature': ['puffin'], 'bbox': [[0.46484375, 0.28125, 0.6940104166666666, 0.38671875]], 'n_box': 1, 'main_creature': 'puffin', 'gerated_caption': 'a penguin swimming in a tank', 'prompt_wtemp1': 'a penguin swimming in a tank, creature: puffin', 'prompt_wtemp2': 'a penguin swimming in a tank, creature: puffin, height: 1024, width: 768'}\n",
      "prompt_wtemp1\n"
     ]
    },
    {
     "data": {
      "application/vnd.jupyter.widget-view+json": {
       "model_id": "07ed899294624925a058a8260dc2f0a8",
       "version_major": 2,
       "version_minor": 0
      },
      "text/plain": [
       "  0%|          | 0/50 [00:00<?, ?it/s]"
      ]
     },
     "metadata": {},
     "output_type": "display_data"
    },
    {
     "name": "stdout",
     "output_type": "stream",
     "text": [
      "{'file_name': 'IMG_2291_jpeg_jpg.rf.78e908bd2cc12eafc40a5bf3101b8b39.jpg', 'height': 1024, 'width': 768, 'creature': ['puffin'], 'bbox': [[0.2825520833333333, 0.2373046875, 0.9609375, 0.5029296875]], 'n_box': 1, 'main_creature': 'puffin', 'gerated_caption': 'a bird is swimming in the water', 'prompt_wtemp1': 'a bird is swimming in the water, creature: puffin', 'prompt_wtemp2': 'a bird is swimming in the water, creature: puffin, height: 1024, width: 768'}\n",
      "prompt_wtemp1\n"
     ]
    },
    {
     "data": {
      "application/vnd.jupyter.widget-view+json": {
       "model_id": "b7b689cba07e4283a988d0ce949ad0b1",
       "version_major": 2,
       "version_minor": 0
      },
      "text/plain": [
       "  0%|          | 0/50 [00:00<?, ?it/s]"
      ]
     },
     "metadata": {},
     "output_type": "display_data"
    },
    {
     "name": "stdout",
     "output_type": "stream",
     "text": [
      "{'file_name': 'IMG_2292_jpeg_jpg.rf.122a0051d4d65d8651089a2ebbc2ed85.jpg', 'height': 1024, 'width': 768, 'creature': ['puffin'], 'bbox': [[0.19140625, 0.234375, 0.84765625, 0.6328125]], 'n_box': 1, 'main_creature': 'puffin', 'gerated_caption': 'a penguin swimming in the water', 'prompt_wtemp1': 'a penguin swimming in the water, creature: puffin', 'prompt_wtemp2': 'a penguin swimming in the water, creature: puffin, height: 1024, width: 768'}\n",
      "prompt_wtemp1\n"
     ]
    },
    {
     "data": {
      "application/vnd.jupyter.widget-view+json": {
       "model_id": "3b414a1874ef4fb3bd1cbf31bd6dbb03",
       "version_major": 2,
       "version_minor": 0
      },
      "text/plain": [
       "  0%|          | 0/50 [00:00<?, ?it/s]"
      ]
     },
     "metadata": {},
     "output_type": "display_data"
    },
    {
     "name": "stdout",
     "output_type": "stream",
     "text": [
      "{'file_name': 'IMG_2293_jpeg_jpg.rf.0a25194b094d64e91068eaa7fcaf4feb.jpg', 'height': 1024, 'width': 768, 'creature': ['puffin'], 'bbox': [[0.22526041666666666, 0.322265625, 0.6588541666666666, 0.6796875]], 'n_box': 1, 'main_creature': 'puffin', 'gerated_caption': 'a penguin swimming in the water', 'prompt_wtemp1': 'a penguin swimming in the water, creature: puffin', 'prompt_wtemp2': 'a penguin swimming in the water, creature: puffin, height: 1024, width: 768'}\n",
      "prompt_wtemp1\n"
     ]
    },
    {
     "data": {
      "application/vnd.jupyter.widget-view+json": {
       "model_id": "47769eb6551a4daa9e01ec514623eded",
       "version_major": 2,
       "version_minor": 0
      },
      "text/plain": [
       "  0%|          | 0/50 [00:00<?, ?it/s]"
      ]
     },
     "metadata": {},
     "output_type": "display_data"
    },
    {
     "name": "stdout",
     "output_type": "stream",
     "text": [
      "{'file_name': 'IMG_3160_jpeg_jpg.rf.05d38ee75197d98ea070e8aa03a5bfcb.jpg', 'height': 1024, 'width': 768, 'creature': ['puffin'], 'bbox': [[0.3619791666666667, 0.53515625, 0.6041666666666667, 0.7255859375]], 'n_box': 1, 'main_creature': 'puffin', 'gerated_caption': 'a penguin swimming in an aquarium', 'prompt_wtemp1': 'a penguin swimming in an aquarium, creature: puffin', 'prompt_wtemp2': 'a penguin swimming in an aquarium, creature: puffin, height: 1024, width: 768'}\n",
      "prompt_wtemp1\n"
     ]
    },
    {
     "data": {
      "application/vnd.jupyter.widget-view+json": {
       "model_id": "6bf31d80b598435e90093aadf14dc099",
       "version_major": 2,
       "version_minor": 0
      },
      "text/plain": [
       "  0%|          | 0/50 [00:00<?, ?it/s]"
      ]
     },
     "metadata": {},
     "output_type": "display_data"
    },
    {
     "name": "stdout",
     "output_type": "stream",
     "text": [
      "{'file_name': 'IMG_3149_jpeg_jpg.rf.ec910aff6521c2af1a1bcbe5887b07f7.jpg', 'height': 1024, 'width': 768, 'creature': ['puffin'], 'bbox': [[0.24088541666666666, 0.162109375, 0.6067708333333334, 0.5859375]], 'n_box': 1, 'main_creature': 'puffin', 'gerated_caption': 'a bird is swimming in the water', 'prompt_wtemp1': 'a bird is swimming in the water, creature: puffin', 'prompt_wtemp2': 'a bird is swimming in the water, creature: puffin, height: 1024, width: 768'}\n",
      "prompt_wtemp1\n"
     ]
    },
    {
     "data": {
      "application/vnd.jupyter.widget-view+json": {
       "model_id": "9a79207f6084485587629ff1661d32a7",
       "version_major": 2,
       "version_minor": 0
      },
      "text/plain": [
       "  0%|          | 0/50 [00:00<?, ?it/s]"
      ]
     },
     "metadata": {},
     "output_type": "display_data"
    },
    {
     "name": "stdout",
     "output_type": "stream",
     "text": [
      "{'file_name': 'IMG_3146_jpeg_jpg.rf.2a4d1b21ca18859f03d310845ee1a426.jpg', 'height': 1024, 'width': 768, 'creature': ['puffin'], 'bbox': [[0.22395833333333334, 0.3818359375, 0.6614583333333334, 0.7001953125]], 'n_box': 1, 'main_creature': 'puffin', 'gerated_caption': 'a bird swimming in the water', 'prompt_wtemp1': 'a bird swimming in the water, creature: puffin', 'prompt_wtemp2': 'a bird swimming in the water, creature: puffin, height: 1024, width: 768'}\n",
      "prompt_wtemp1\n"
     ]
    },
    {
     "data": {
      "application/vnd.jupyter.widget-view+json": {
       "model_id": "2469ce41d2064743a97ec3762976b34d",
       "version_major": 2,
       "version_minor": 0
      },
      "text/plain": [
       "  0%|          | 0/50 [00:00<?, ?it/s]"
      ]
     },
     "metadata": {},
     "output_type": "display_data"
    },
    {
     "name": "stdout",
     "output_type": "stream",
     "text": [
      "{'file_name': 'IMG_3155_jpeg_jpg.rf.126609905e993daff169f85e1846a21e.jpg', 'height': 1024, 'width': 768, 'creature': ['puffin', 'fish'], 'bbox': [[0.4270833333333333, 0.482421875, 0.640625, 0.677734375], [0.5625, 0.162109375, 0.71484375, 0.2353515625]], 'n_box': 2, 'main_creature': 'puffin', 'gerated_caption': 'a bird is swimming in the water', 'prompt_wtemp1': 'a bird is swimming in the water, creature: puffin', 'prompt_wtemp2': 'a bird is swimming in the water, creature: puffin, height: 1024, width: 768'}\n",
      "prompt_wtemp1\n"
     ]
    },
    {
     "data": {
      "application/vnd.jupyter.widget-view+json": {
       "model_id": "555352678c8245059d328a5ea4ec1203",
       "version_major": 2,
       "version_minor": 0
      },
      "text/plain": [
       "  0%|          | 0/50 [00:00<?, ?it/s]"
      ]
     },
     "metadata": {},
     "output_type": "display_data"
    },
    {
     "name": "stdout",
     "output_type": "stream",
     "text": [
      "{'file_name': 'IMG_2296_jpeg_jpg.rf.56a86afeeeb9a6c12746f77b7346ff19.jpg', 'height': 1024, 'width': 768, 'creature': ['puffin', 'puffin'], 'bbox': [[0.4153645833333333, 0.1162109375, 0.6653645833333333, 0.220703125], [0.5963541666666666, 0.552734375, 0.8424479166666666, 0.6494140625]], 'n_box': 2, 'main_creature': 'puffin', 'gerated_caption': 'a group of penguins swimming in the water', 'prompt_wtemp1': 'a group of penguins swimming in the water, creature: puffin', 'prompt_wtemp2': 'a group of penguins swimming in the water, creature: puffin, height: 1024, width: 768'}\n",
      "prompt_wtemp1\n"
     ]
    },
    {
     "data": {
      "application/vnd.jupyter.widget-view+json": {
       "model_id": "e5270615a4bd4e08bbe8c5652005db93",
       "version_major": 2,
       "version_minor": 0
      },
      "text/plain": [
       "  0%|          | 0/50 [00:00<?, ?it/s]"
      ]
     },
     "metadata": {},
     "output_type": "display_data"
    },
    {
     "name": "stdout",
     "output_type": "stream",
     "text": [
      "{'file_name': 'IMG_3151_jpeg_jpg.rf.6850702bb295c76afc9dd667b8d827dc.jpg', 'height': 1024, 'width': 768, 'creature': ['puffin', 'puffin'], 'bbox': [[0.35546875, 0.4560546875, 0.6419270833333333, 0.5654296875], [0.5416666666666666, 0.1650390625, 0.6588541666666666, 0.2587890625]], 'n_box': 2, 'main_creature': 'puffin', 'gerated_caption': 'a giraffe swimming in the water', 'prompt_wtemp1': 'a giraffe swimming in the water, creature: puffin', 'prompt_wtemp2': 'a giraffe swimming in the water, creature: puffin, height: 1024, width: 768'}\n",
      "prompt_wtemp1\n"
     ]
    },
    {
     "data": {
      "application/vnd.jupyter.widget-view+json": {
       "model_id": "d3e6713fe8bf4361bd1f86362d39ebb3",
       "version_major": 2,
       "version_minor": 0
      },
      "text/plain": [
       "  0%|          | 0/50 [00:00<?, ?it/s]"
      ]
     },
     "metadata": {},
     "output_type": "display_data"
    },
    {
     "name": "stdout",
     "output_type": "stream",
     "text": [
      "{'file_name': 'IMG_3148_jpeg_jpg.rf.daef4a62da020f684a31336a19f54ee8.jpg', 'height': 1024, 'width': 768, 'creature': ['puffin', 'puffin', 'puffin'], 'bbox': [[0.0, 0.2001953125, 0.9986979166666666, 0.83984375], [0.5989583333333334, 0.2939453125, 0.6940104166666667, 0.3798828125], [0.52734375, 0.265625, 0.6041666666666666, 0.3486328125]], 'n_box': 3, 'main_creature': 'puffin', 'gerated_caption': 'a bird is swimming in the water', 'prompt_wtemp1': 'a bird is swimming in the water, creature: puffin', 'prompt_wtemp2': 'a bird is swimming in the water, creature: puffin, height: 1024, width: 768'}\n",
      "prompt_wtemp1\n"
     ]
    },
    {
     "data": {
      "application/vnd.jupyter.widget-view+json": {
       "model_id": "a9e30984a8844d8a9bd50b24b728d173",
       "version_major": 2,
       "version_minor": 0
      },
      "text/plain": [
       "  0%|          | 0/50 [00:00<?, ?it/s]"
      ]
     },
     "metadata": {},
     "output_type": "display_data"
    },
    {
     "name": "stdout",
     "output_type": "stream",
     "text": [
      "{'file_name': 'IMG_3152_jpeg_jpg.rf.e018fb206e9194f3536a290f0c649274.jpg', 'height': 1024, 'width': 768, 'creature': ['puffin', 'puffin', 'puffin'], 'bbox': [[0.20963541666666666, 0.1279296875, 0.4388020833333333, 0.216796875], [0.0, 0.0341796875, 0.07552083333333333, 0.0927734375], [0.3515625, 0.59375, 0.5651041666666666, 0.732421875]], 'n_box': 3, 'main_creature': 'puffin', 'gerated_caption': 'a penguin swimming in an aquarium', 'prompt_wtemp1': 'a penguin swimming in an aquarium, creature: puffin', 'prompt_wtemp2': 'a penguin swimming in an aquarium, creature: puffin, height: 1024, width: 768'}\n",
      "prompt_wtemp1\n"
     ]
    },
    {
     "data": {
      "application/vnd.jupyter.widget-view+json": {
       "model_id": "8bedf79ded1c40378131ac65cc32088f",
       "version_major": 2,
       "version_minor": 0
      },
      "text/plain": [
       "  0%|          | 0/50 [00:00<?, ?it/s]"
      ]
     },
     "metadata": {},
     "output_type": "display_data"
    },
    {
     "name": "stdout",
     "output_type": "stream",
     "text": [
      "{'file_name': 'IMG_8410_jpg.rf.080d0f9f09ffb56da86e800ed8e37df7.jpg', 'height': 768, 'width': 1024, 'creature': ['shark'], 'bbox': [[0.3857421875, 0.2578125, 0.6484375, 0.8528645833333334]], 'n_box': 1, 'main_creature': 'shark', 'gerated_caption': 'a shark swimming in an aquarium with a blue background', 'prompt_wtemp1': 'a shark swimming in an aquarium with a blue background, creature: shark', 'prompt_wtemp2': 'a shark swimming in an aquarium with a blue background, creature: shark, height: 768, width: 1024'}\n",
      "prompt_wtemp1\n"
     ]
    },
    {
     "data": {
      "application/vnd.jupyter.widget-view+json": {
       "model_id": "74438e9ee5464b8d9a9bf55cae6d208d",
       "version_major": 2,
       "version_minor": 0
      },
      "text/plain": [
       "  0%|          | 0/50 [00:00<?, ?it/s]"
      ]
     },
     "metadata": {},
     "output_type": "display_data"
    },
    {
     "name": "stdout",
     "output_type": "stream",
     "text": [
      "{'file_name': 'IMG_8439_jpg.rf.e784fd1e3cd2e38fb7c169e2e54ad91e.jpg', 'height': 768, 'width': 1024, 'creature': ['shark'], 'bbox': [[0.28515625, 0.13020833333333334, 0.4677734375, 0.9153645833333334]], 'n_box': 1, 'main_creature': 'shark', 'gerated_caption': 'a man looking at a shark in a glass enclosure', 'prompt_wtemp1': 'a man looking at a shark in a glass enclosure, creature: shark', 'prompt_wtemp2': 'a man looking at a shark in a glass enclosure, creature: shark, height: 768, width: 1024'}\n",
      "prompt_wtemp1\n"
     ]
    },
    {
     "data": {
      "application/vnd.jupyter.widget-view+json": {
       "model_id": "08becd57f0f040d086ec7b4f5dcc6635",
       "version_major": 2,
       "version_minor": 0
      },
      "text/plain": [
       "  0%|          | 0/50 [00:00<?, ?it/s]"
      ]
     },
     "metadata": {},
     "output_type": "display_data"
    },
    {
     "name": "stdout",
     "output_type": "stream",
     "text": [
      "{'file_name': 'IMG_8571_MOV-5_jpg.rf.c8b11ac37b7b57b79bba5e4aec07ad73.jpg', 'height': 1024, 'width': 576, 'creature': ['shark'], 'bbox': [[0.0, 0.435546875, 0.2065972222222222, 0.5927734375]], 'n_box': 1, 'main_creature': 'shark', 'gerated_caption': 'a shark swimming in the dark at night', 'prompt_wtemp1': 'a shark swimming in the dark at night, creature: shark', 'prompt_wtemp2': 'a shark swimming in the dark at night, creature: shark, height: 1024, width: 576'}\n",
      "prompt_wtemp1\n"
     ]
    },
    {
     "data": {
      "application/vnd.jupyter.widget-view+json": {
       "model_id": "72c7bd6b41684a31b17155333852a7dd",
       "version_major": 2,
       "version_minor": 0
      },
      "text/plain": [
       "  0%|          | 0/50 [00:00<?, ?it/s]"
      ]
     },
     "metadata": {},
     "output_type": "display_data"
    },
    {
     "name": "stdout",
     "output_type": "stream",
     "text": [
      "{'file_name': 'IMG_2515_jpeg_jpg.rf.c7255981abc23128903ac9ece1b4d8b5.jpg', 'height': 1024, 'width': 768, 'creature': ['shark'], 'bbox': [[0.38671875, 0.505859375, 0.7734375, 0.6630859375]], 'n_box': 1, 'main_creature': 'shark', 'gerated_caption': 'a shark swimming in an aquarium', 'prompt_wtemp1': 'a shark swimming in an aquarium, creature: shark', 'prompt_wtemp2': 'a shark swimming in an aquarium, creature: shark, height: 1024, width: 768'}\n",
      "prompt_wtemp1\n"
     ]
    },
    {
     "data": {
      "application/vnd.jupyter.widget-view+json": {
       "model_id": "18f22d083ace4bf08d2b425c573f6557",
       "version_major": 2,
       "version_minor": 0
      },
      "text/plain": [
       "  0%|          | 0/50 [00:00<?, ?it/s]"
      ]
     },
     "metadata": {},
     "output_type": "display_data"
    },
    {
     "name": "stdout",
     "output_type": "stream",
     "text": [
      "{'file_name': 'IMG_8496_MOV-1_jpg.rf.bfb30108c5b8c7ebd0b92028435ba919.jpg', 'height': 1024, 'width': 576, 'creature': ['shark'], 'bbox': [[0.0, 0.4599609375, 0.4479166666666667, 0.6259765625]], 'n_box': 1, 'main_creature': 'shark', 'gerated_caption': 'a shark swimming in an aquarium with a log', 'prompt_wtemp1': 'a shark swimming in an aquarium with a log, creature: shark', 'prompt_wtemp2': 'a shark swimming in an aquarium with a log, creature: shark, height: 1024, width: 576'}\n",
      "prompt_wtemp1\n"
     ]
    },
    {
     "data": {
      "application/vnd.jupyter.widget-view+json": {
       "model_id": "c593b75f84d04e198a7da7e16620a5dc",
       "version_major": 2,
       "version_minor": 0
      },
      "text/plain": [
       "  0%|          | 0/50 [00:00<?, ?it/s]"
      ]
     },
     "metadata": {},
     "output_type": "display_data"
    },
    {
     "name": "stdout",
     "output_type": "stream",
     "text": [
      "{'file_name': 'IMG_8571_MOV-1_jpg.rf.b22e2df287efb2b9ecd33c88a607e31e.jpg', 'height': 1024, 'width': 576, 'creature': ['shark'], 'bbox': [[0.043402777777777776, 0.287109375, 0.998263888888889, 0.5166015625]], 'n_box': 1, 'main_creature': 'shark', 'gerated_caption': 'a shark swimming in the dark at the aquarium', 'prompt_wtemp1': 'a shark swimming in the dark at the aquarium, creature: shark', 'prompt_wtemp2': 'a shark swimming in the dark at the aquarium, creature: shark, height: 1024, width: 576'}\n",
      "prompt_wtemp1\n"
     ]
    },
    {
     "data": {
      "application/vnd.jupyter.widget-view+json": {
       "model_id": "c6afee958a7645019546098818ac0632",
       "version_major": 2,
       "version_minor": 0
      },
      "text/plain": [
       "  0%|          | 0/50 [00:00<?, ?it/s]"
      ]
     },
     "metadata": {},
     "output_type": "display_data"
    },
    {
     "name": "stdout",
     "output_type": "stream",
     "text": [
      "{'file_name': 'IMG_2432_jpeg_jpg.rf.b0839d3e7f6a6fbc8f15a4e0ef385b7f.jpg', 'height': 1024, 'width': 768, 'creature': ['shark'], 'bbox': [[0.2747395833333333, 0.4892578125, 0.8255208333333333, 0.6513671875]], 'n_box': 1, 'main_creature': 'shark', 'gerated_caption': 'a large aquarium with sharks in it', 'prompt_wtemp1': 'a large aquarium with sharks in it, creature: shark', 'prompt_wtemp2': 'a large aquarium with sharks in it, creature: shark, height: 1024, width: 768'}\n",
      "prompt_wtemp1\n"
     ]
    },
    {
     "data": {
      "application/vnd.jupyter.widget-view+json": {
       "model_id": "c6a1047884d2414ba7ffcb9bc07255c4",
       "version_major": 2,
       "version_minor": 0
      },
      "text/plain": [
       "  0%|          | 0/50 [00:00<?, ?it/s]"
      ]
     },
     "metadata": {},
     "output_type": "display_data"
    },
    {
     "name": "stdout",
     "output_type": "stream",
     "text": [
      "{'file_name': 'IMG_8578_MOV-1_jpg.rf.7ba2500fc572cf5045ab9880ae2ed106.jpg', 'height': 576, 'width': 1024, 'creature': ['shark'], 'bbox': [[0.1240234375, 0.28125, 0.544921875, 0.8020833333333334]], 'n_box': 1, 'main_creature': 'shark', 'gerated_caption': 'a shark swimming in an aquarium at night', 'prompt_wtemp1': 'a shark swimming in an aquarium at night, creature: shark', 'prompt_wtemp2': 'a shark swimming in an aquarium at night, creature: shark, height: 576, width: 1024'}\n",
      "prompt_wtemp1\n"
     ]
    },
    {
     "data": {
      "application/vnd.jupyter.widget-view+json": {
       "model_id": "0a276d66961444768060d9ea08c29f2f",
       "version_major": 2,
       "version_minor": 0
      },
      "text/plain": [
       "  0%|          | 0/50 [00:00<?, ?it/s]"
      ]
     },
     "metadata": {},
     "output_type": "display_data"
    },
    {
     "name": "stdout",
     "output_type": "stream",
     "text": [
      "{'file_name': 'IMG_2516_jpeg_jpg.rf.6f719df754865fe6166afd0a3a78d60f.jpg', 'height': 1024, 'width': 768, 'creature': ['shark'], 'bbox': [[0.4322916666666667, 0.4462890625, 0.6341145833333334, 0.595703125]], 'n_box': 1, 'main_creature': 'shark', 'gerated_caption': 'a shark swimming in an aquarium', 'prompt_wtemp1': 'a shark swimming in an aquarium, creature: shark', 'prompt_wtemp2': 'a shark swimming in an aquarium, creature: shark, height: 1024, width: 768'}\n",
      "prompt_wtemp1\n"
     ]
    },
    {
     "data": {
      "application/vnd.jupyter.widget-view+json": {
       "model_id": "cf9e40188ad84e988abaa4a1fefbdbfb",
       "version_major": 2,
       "version_minor": 0
      },
      "text/plain": [
       "  0%|          | 0/50 [00:00<?, ?it/s]"
      ]
     },
     "metadata": {},
     "output_type": "display_data"
    },
    {
     "name": "stdout",
     "output_type": "stream",
     "text": [
      "{'file_name': 'IMG_8572_MOV-2_jpg.rf.70025aa545c1d5039981b13562400636.jpg', 'height': 1024, 'width': 576, 'creature': ['shark'], 'bbox': [[0.0, 0.4580078125, 0.9982638888888888, 0.9033203125]], 'n_box': 1, 'main_creature': 'shark', 'gerated_caption': 'a shark is swimming in the dark at night', 'prompt_wtemp1': 'a shark is swimming in the dark at night, creature: shark', 'prompt_wtemp2': 'a shark is swimming in the dark at night, creature: shark, height: 1024, width: 576'}\n",
      "prompt_wtemp1\n"
     ]
    },
    {
     "data": {
      "application/vnd.jupyter.widget-view+json": {
       "model_id": "f57ea7ef25084f2db3e8e0e68e5cf3f0",
       "version_major": 2,
       "version_minor": 0
      },
      "text/plain": [
       "  0%|          | 0/50 [00:00<?, ?it/s]"
      ]
     },
     "metadata": {},
     "output_type": "display_data"
    },
    {
     "name": "stdout",
     "output_type": "stream",
     "text": [
      "{'file_name': 'IMG_8571_MOV-0_jpg.rf.f4ca11babed3711ce449c6a066be33a5.jpg', 'height': 1024, 'width': 576, 'creature': ['shark'], 'bbox': [[0.06944444444444445, 0.2939453125, 0.9982638888888888, 0.5]], 'n_box': 1, 'main_creature': 'shark', 'gerated_caption': 'a large tank with jellyfish in it', 'prompt_wtemp1': 'a large tank with jellyfish in it, creature: shark', 'prompt_wtemp2': 'a large tank with jellyfish in it, creature: shark, height: 1024, width: 576'}\n",
      "prompt_wtemp1\n"
     ]
    },
    {
     "data": {
      "application/vnd.jupyter.widget-view+json": {
       "model_id": "5dc4746dce934ba98cdaaf37ccac7390",
       "version_major": 2,
       "version_minor": 0
      },
      "text/plain": [
       "  0%|          | 0/50 [00:00<?, ?it/s]"
      ]
     },
     "metadata": {},
     "output_type": "display_data"
    },
    {
     "name": "stdout",
     "output_type": "stream",
     "text": [
      "{'file_name': 'IMG_2643_jpeg_jpg.rf.5a7752897b56469837e946255d67337d.jpg', 'height': 1024, 'width': 768, 'creature': ['shark'], 'bbox': [[0.0, 0.2939453125, 0.8919270833333334, 1.0]], 'n_box': 1, 'main_creature': 'shark', 'gerated_caption': 'a shark swimming in an aquarium', 'prompt_wtemp1': 'a shark swimming in an aquarium, creature: shark', 'prompt_wtemp2': 'a shark swimming in an aquarium, creature: shark, height: 1024, width: 768'}\n",
      "prompt_wtemp1\n"
     ]
    },
    {
     "data": {
      "application/vnd.jupyter.widget-view+json": {
       "model_id": "495e52c7431f4397987e79b8c464abc8",
       "version_major": 2,
       "version_minor": 0
      },
      "text/plain": [
       "  0%|          | 0/50 [00:00<?, ?it/s]"
      ]
     },
     "metadata": {},
     "output_type": "display_data"
    },
    {
     "name": "stdout",
     "output_type": "stream",
     "text": [
      "{'file_name': 'IMG_2507_jpeg_jpg.rf.51612d3065ddd5d951909ca543e84bb7.jpg', 'height': 1024, 'width': 768, 'creature': ['shark'], 'bbox': [[0.4973958333333333, 0.423828125, 0.7317708333333333, 0.6669921875]], 'n_box': 1, 'main_creature': 'shark', 'gerated_caption': 'a shark swimming in an aquarium with rocks', 'prompt_wtemp1': 'a shark swimming in an aquarium with rocks, creature: shark', 'prompt_wtemp2': 'a shark swimming in an aquarium with rocks, creature: shark, height: 1024, width: 768'}\n",
      "prompt_wtemp1\n"
     ]
    },
    {
     "data": {
      "application/vnd.jupyter.widget-view+json": {
       "model_id": "26a90ea84baf4b5db35bd025474fcddd",
       "version_major": 2,
       "version_minor": 0
      },
      "text/plain": [
       "  0%|          | 0/50 [00:00<?, ?it/s]"
      ]
     },
     "metadata": {},
     "output_type": "display_data"
    },
    {
     "name": "stdout",
     "output_type": "stream",
     "text": [
      "{'file_name': 'IMG_2508_jpeg_jpg.rf.6341e9035957fcc1420ec41cd9176b7a.jpg', 'height': 1024, 'width': 768, 'creature': ['shark'], 'bbox': [[0.2786458333333333, 0.4921875, 0.7122395833333333, 0.7001953125]], 'n_box': 1, 'main_creature': 'shark', 'gerated_caption': 'a shark swimming in the water', 'prompt_wtemp1': 'a shark swimming in the water, creature: shark', 'prompt_wtemp2': 'a shark swimming in the water, creature: shark, height: 1024, width: 768'}\n",
      "prompt_wtemp1\n"
     ]
    },
    {
     "data": {
      "application/vnd.jupyter.widget-view+json": {
       "model_id": "fddd931d08e14191aa4a842ec63945fe",
       "version_major": 2,
       "version_minor": 0
      },
      "text/plain": [
       "  0%|          | 0/50 [00:00<?, ?it/s]"
      ]
     },
     "metadata": {},
     "output_type": "display_data"
    },
    {
     "name": "stdout",
     "output_type": "stream",
     "text": [
      "{'file_name': 'IMG_2509_jpeg_jpg.rf.0c8d6158f08975bd24497a5fb02572d2.jpg', 'height': 1024, 'width': 768, 'creature': ['shark'], 'bbox': [[0.0, 0.4267578125, 0.9192708333333334, 0.9990234375]], 'n_box': 1, 'main_creature': 'shark', 'gerated_caption': 'a shark swimming in an aquarium', 'prompt_wtemp1': 'a shark swimming in an aquarium, creature: shark', 'prompt_wtemp2': 'a shark swimming in an aquarium, creature: shark, height: 1024, width: 768'}\n",
      "prompt_wtemp1\n"
     ]
    },
    {
     "data": {
      "application/vnd.jupyter.widget-view+json": {
       "model_id": "fe1a2a895a7d4c61a4f52121397599b6",
       "version_major": 2,
       "version_minor": 0
      },
      "text/plain": [
       "  0%|          | 0/50 [00:00<?, ?it/s]"
      ]
     },
     "metadata": {},
     "output_type": "display_data"
    },
    {
     "name": "stdout",
     "output_type": "stream",
     "text": [
      "{'file_name': 'IMG_8572_MOV-0_jpg.rf.1a301d11ffdd3cb15653d44ea193ff1e.jpg', 'height': 1024, 'width': 576, 'creature': ['shark'], 'bbox': [[0.0, 0.17578125, 0.7361111111111112, 0.423828125]], 'n_box': 1, 'main_creature': 'shark', 'gerated_caption': 'a shark swimming in an aquarium with rocks and a light', 'prompt_wtemp1': 'a shark swimming in an aquarium with rocks and a light, creature: shark', 'prompt_wtemp2': 'a shark swimming in an aquarium with rocks and a light, creature: shark, height: 1024, width: 576'}\n",
      "prompt_wtemp1\n"
     ]
    },
    {
     "data": {
      "application/vnd.jupyter.widget-view+json": {
       "model_id": "8d645d7746844abd9a05abe05950c7cd",
       "version_major": 2,
       "version_minor": 0
      },
      "text/plain": [
       "  0%|          | 0/50 [00:00<?, ?it/s]"
      ]
     },
     "metadata": {},
     "output_type": "display_data"
    },
    {
     "name": "stdout",
     "output_type": "stream",
     "text": [
      "{'file_name': 'IMG_2513_jpeg_jpg.rf.1c33f6aee29f24622179b3c188effe59.jpg', 'height': 1024, 'width': 768, 'creature': ['shark'], 'bbox': [[0.2877604166666667, 0.0673828125, 0.8658854166666667, 0.201171875]], 'n_box': 1, 'main_creature': 'shark', 'gerated_caption': 'a shark swimming in an aquarium', 'prompt_wtemp1': 'a shark swimming in an aquarium, creature: shark', 'prompt_wtemp2': 'a shark swimming in an aquarium, creature: shark, height: 1024, width: 768'}\n",
      "prompt_wtemp1\n"
     ]
    },
    {
     "data": {
      "application/vnd.jupyter.widget-view+json": {
       "model_id": "d415fa9f5b2f40fab01750b73e511afe",
       "version_major": 2,
       "version_minor": 0
      },
      "text/plain": [
       "  0%|          | 0/50 [00:00<?, ?it/s]"
      ]
     },
     "metadata": {},
     "output_type": "display_data"
    },
    {
     "name": "stdout",
     "output_type": "stream",
     "text": [
      "{'file_name': 'IMG_8575_jpg.rf.1cf3080cdc0d1afae6f57dbd147c9e3c.jpg', 'height': 768, 'width': 1024, 'creature': ['shark'], 'bbox': [[0.0, 0.421875, 0.9716796875, 0.87890625]], 'n_box': 1, 'main_creature': 'shark', 'gerated_caption': 'a shark is laying on the floor of an aquarium', 'prompt_wtemp1': 'a shark is laying on the floor of an aquarium, creature: shark', 'prompt_wtemp2': 'a shark is laying on the floor of an aquarium, creature: shark, height: 768, width: 1024'}\n",
      "prompt_wtemp1\n"
     ]
    },
    {
     "data": {
      "application/vnd.jupyter.widget-view+json": {
       "model_id": "5289226a25e94c65a708cebda9e8a8dd",
       "version_major": 2,
       "version_minor": 0
      },
      "text/plain": [
       "  0%|          | 0/50 [00:00<?, ?it/s]"
      ]
     },
     "metadata": {},
     "output_type": "display_data"
    },
    {
     "name": "stdout",
     "output_type": "stream",
     "text": [
      "{'file_name': 'IMG_8570_jpg.rf.22a9bfaa76e035e692aaac3a49df03b8.jpg', 'height': 768, 'width': 1024, 'creature': ['shark'], 'bbox': [[0.2900390625, 0.0, 0.4990234375, 0.609375]], 'n_box': 1, 'main_creature': 'shark', 'gerated_caption': 'a shark swimming in an aquarium with rocks and gravel', 'prompt_wtemp1': 'a shark swimming in an aquarium with rocks and gravel, creature: shark', 'prompt_wtemp2': 'a shark swimming in an aquarium with rocks and gravel, creature: shark, height: 768, width: 1024'}\n",
      "prompt_wtemp1\n"
     ]
    },
    {
     "data": {
      "application/vnd.jupyter.widget-view+json": {
       "model_id": "8f9101a0ea004c10bd96d816af44019b",
       "version_major": 2,
       "version_minor": 0
      },
      "text/plain": [
       "  0%|          | 0/50 [00:00<?, ?it/s]"
      ]
     },
     "metadata": {},
     "output_type": "display_data"
    },
    {
     "name": "stdout",
     "output_type": "stream",
     "text": [
      "{'file_name': 'IMG_2511_jpeg_jpg.rf.4593a8e1ea4e285da455b895a36fa2c7.jpg', 'height': 1024, 'width': 768, 'creature': ['shark'], 'bbox': [[0.09895833333333333, 0.3291015625, 0.71875, 0.724609375]], 'n_box': 1, 'main_creature': 'shark', 'gerated_caption': 'a shark swimming in an aquarium with rocks', 'prompt_wtemp1': 'a shark swimming in an aquarium with rocks, creature: shark', 'prompt_wtemp2': 'a shark swimming in an aquarium with rocks, creature: shark, height: 1024, width: 768'}\n",
      "prompt_wtemp1\n"
     ]
    },
    {
     "data": {
      "application/vnd.jupyter.widget-view+json": {
       "model_id": "9519a522e9174980a947dce8dbc180e3",
       "version_major": 2,
       "version_minor": 0
      },
      "text/plain": [
       "  0%|          | 0/50 [00:00<?, ?it/s]"
      ]
     },
     "metadata": {},
     "output_type": "display_data"
    },
    {
     "name": "stdout",
     "output_type": "stream",
     "text": [
      "{'file_name': 'IMG_3125_jpeg_jpg.rf.6c100391f99fd177741c11b928b7a61c.jpg', 'height': 1024, 'width': 768, 'creature': ['starfish'], 'bbox': [[0.21354166666666666, 0.37109375, 0.8190104166666666, 0.6142578125]], 'n_box': 1, 'main_creature': 'starfish', 'gerated_caption': 'a fish in a tank with rocks and gravel', 'prompt_wtemp1': 'a fish in a tank with rocks and gravel, creature: starfish', 'prompt_wtemp2': 'a fish in a tank with rocks and gravel, creature: starfish, height: 1024, width: 768'}\n",
      "prompt_wtemp1\n"
     ]
    },
    {
     "data": {
      "application/vnd.jupyter.widget-view+json": {
       "model_id": "e18c6005684d4d2a8046a76f426dfa02",
       "version_major": 2,
       "version_minor": 0
      },
      "text/plain": [
       "  0%|          | 0/50 [00:00<?, ?it/s]"
      ]
     },
     "metadata": {},
     "output_type": "display_data"
    },
    {
     "name": "stdout",
     "output_type": "stream",
     "text": [
      "{'file_name': 'IMG_2384_jpeg_jpg.rf.a094269cf1f5522f894b6a2cfc636a8d.jpg', 'height': 1024, 'width': 768, 'creature': ['starfish'], 'bbox': [[0.56640625, 0.490234375, 0.87109375, 0.7041015625]], 'n_box': 1, 'main_creature': 'starfish', 'gerated_caption': 'a starfish is sitting on a rock in an aquarium', 'prompt_wtemp1': 'a starfish is sitting on a rock in an aquarium, creature: starfish', 'prompt_wtemp2': 'a starfish is sitting on a rock in an aquarium, creature: starfish, height: 1024, width: 768'}\n",
      "prompt_wtemp1\n"
     ]
    },
    {
     "data": {
      "application/vnd.jupyter.widget-view+json": {
       "model_id": "2fc2e210576740e1a7b24cf5c8dd8705",
       "version_major": 2,
       "version_minor": 0
      },
      "text/plain": [
       "  0%|          | 0/50 [00:00<?, ?it/s]"
      ]
     },
     "metadata": {},
     "output_type": "display_data"
    },
    {
     "name": "stdout",
     "output_type": "stream",
     "text": [
      "{'file_name': 'IMG_2373_jpeg_jpg.rf.6b8f32a68ab7d25ff0cd7f977bd187fc.jpg', 'height': 1024, 'width': 768, 'creature': ['starfish'], 'bbox': [[0.2981770833333333, 0.4443359375, 0.60546875, 0.630859375]], 'n_box': 1, 'main_creature': 'starfish', 'gerated_caption': 'a starfish in an aquarium', 'prompt_wtemp1': 'a starfish in an aquarium, creature: starfish', 'prompt_wtemp2': 'a starfish in an aquarium, creature: starfish, height: 1024, width: 768'}\n",
      "prompt_wtemp1\n"
     ]
    },
    {
     "data": {
      "application/vnd.jupyter.widget-view+json": {
       "model_id": "61785841446a4f4c8275e63e3fb058e9",
       "version_major": 2,
       "version_minor": 0
      },
      "text/plain": [
       "  0%|          | 0/50 [00:00<?, ?it/s]"
      ]
     },
     "metadata": {},
     "output_type": "display_data"
    },
    {
     "name": "stdout",
     "output_type": "stream",
     "text": [
      "{'file_name': 'IMG_2540_jpeg_jpg.rf.648b31d1066b616be81fb9447de85358.jpg', 'height': 1024, 'width': 768, 'creature': ['starfish'], 'bbox': [[0.3880208333333333, 0.3154296875, 0.7291666666666666, 0.6923828125]], 'n_box': 1, 'main_creature': 'starfish', 'gerated_caption': 'a starfish is swimming in the water near a rock', 'prompt_wtemp1': 'a starfish is swimming in the water near a rock, creature: starfish', 'prompt_wtemp2': 'a starfish is swimming in the water near a rock, creature: starfish, height: 1024, width: 768'}\n",
      "prompt_wtemp1\n"
     ]
    },
    {
     "data": {
      "application/vnd.jupyter.widget-view+json": {
       "model_id": "2d45ef5691ca43a18c4c967022b641bd",
       "version_major": 2,
       "version_minor": 0
      },
      "text/plain": [
       "  0%|          | 0/50 [00:00<?, ?it/s]"
      ]
     },
     "metadata": {},
     "output_type": "display_data"
    },
    {
     "name": "stdout",
     "output_type": "stream",
     "text": [
      "{'file_name': 'IMG_2390_jpeg_jpg.rf.64fe0a0c9bb0459e06335b75d455ffb2.jpg', 'height': 1024, 'width': 768, 'creature': ['starfish'], 'bbox': [[0.17578125, 0.4560546875, 0.8424479166666666, 0.791015625]], 'n_box': 1, 'main_creature': 'starfish', 'gerated_caption': 'a starfish in an aquarium with rocks and gravel', 'prompt_wtemp1': 'a starfish in an aquarium with rocks and gravel, creature: starfish', 'prompt_wtemp2': 'a starfish in an aquarium with rocks and gravel, creature: starfish, height: 1024, width: 768'}\n",
      "prompt_wtemp1\n"
     ]
    },
    {
     "data": {
      "application/vnd.jupyter.widget-view+json": {
       "model_id": "3196522ab21640f19a206e7de61590dc",
       "version_major": 2,
       "version_minor": 0
      },
      "text/plain": [
       "  0%|          | 0/50 [00:00<?, ?it/s]"
      ]
     },
     "metadata": {},
     "output_type": "display_data"
    },
    {
     "name": "stdout",
     "output_type": "stream",
     "text": [
      "{'file_name': 'IMG_2610_jpeg_jpg.rf.4d5cf5cfdceb7dee102fe730fc1f6776.jpg', 'height': 1024, 'width': 768, 'creature': ['starfish'], 'bbox': [[0.37890625, 0.333984375, 0.67578125, 0.625]], 'n_box': 1, 'main_creature': 'starfish', 'gerated_caption': 'a starfish in an aquarium with plants', 'prompt_wtemp1': 'a starfish in an aquarium with plants, creature: starfish', 'prompt_wtemp2': 'a starfish in an aquarium with plants, creature: starfish, height: 1024, width: 768'}\n",
      "prompt_wtemp1\n"
     ]
    },
    {
     "data": {
      "application/vnd.jupyter.widget-view+json": {
       "model_id": "11c52fc81e234e4b81da0a84e2228539",
       "version_major": 2,
       "version_minor": 0
      },
      "text/plain": [
       "  0%|          | 0/50 [00:00<?, ?it/s]"
      ]
     },
     "metadata": {},
     "output_type": "display_data"
    },
    {
     "name": "stdout",
     "output_type": "stream",
     "text": [
      "{'file_name': 'IMG_2378_jpeg_jpg.rf.9a7993c75521d4b5383257936c7ab263.jpg', 'height': 1024, 'width': 768, 'creature': ['starfish'], 'bbox': [[0.3229166666666667, 0.4365234375, 0.5338541666666667, 0.595703125]], 'n_box': 1, 'main_creature': 'starfish', 'gerated_caption': 'a starfish is sitting on a rock in an aquarium', 'prompt_wtemp1': 'a starfish is sitting on a rock in an aquarium, creature: starfish', 'prompt_wtemp2': 'a starfish is sitting on a rock in an aquarium, creature: starfish, height: 1024, width: 768'}\n",
      "prompt_wtemp1\n"
     ]
    },
    {
     "data": {
      "application/vnd.jupyter.widget-view+json": {
       "model_id": "7152140b02364796b3c5f3162c00fe6f",
       "version_major": 2,
       "version_minor": 0
      },
      "text/plain": [
       "  0%|          | 0/50 [00:00<?, ?it/s]"
      ]
     },
     "metadata": {},
     "output_type": "display_data"
    },
    {
     "name": "stdout",
     "output_type": "stream",
     "text": [
      "{'file_name': 'IMG_2536_jpeg_jpg.rf.89879f0a6436d7634771fd7de97784f8.jpg', 'height': 1024, 'width': 768, 'creature': ['starfish'], 'bbox': [[0.26953125, 0.470703125, 0.7421875, 0.7080078125]], 'n_box': 1, 'main_creature': 'starfish', 'gerated_caption': 'a starfish is laying on rocks in an aquarium', 'prompt_wtemp1': 'a starfish is laying on rocks in an aquarium, creature: starfish', 'prompt_wtemp2': 'a starfish is laying on rocks in an aquarium, creature: starfish, height: 1024, width: 768'}\n",
      "prompt_wtemp1\n"
     ]
    },
    {
     "data": {
      "application/vnd.jupyter.widget-view+json": {
       "model_id": "6daa352241d844fc960da17d28a657a8",
       "version_major": 2,
       "version_minor": 0
      },
      "text/plain": [
       "  0%|          | 0/50 [00:00<?, ?it/s]"
      ]
     },
     "metadata": {},
     "output_type": "display_data"
    },
    {
     "name": "stdout",
     "output_type": "stream",
     "text": [
      "{'file_name': 'IMG_2389_jpeg_jpg.rf.3659b6446ca8e6cc9caea6f862cb7c64.jpg', 'height': 1024, 'width': 768, 'creature': ['starfish'], 'bbox': [[0.2578125, 0.4169921875, 0.65625, 0.6611328125]], 'n_box': 1, 'main_creature': 'starfish', 'gerated_caption': 'a starfish is sitting on rocks in an aquarium', 'prompt_wtemp1': 'a starfish is sitting on rocks in an aquarium, creature: starfish', 'prompt_wtemp2': 'a starfish is sitting on rocks in an aquarium, creature: starfish, height: 1024, width: 768'}\n",
      "prompt_wtemp1\n"
     ]
    },
    {
     "data": {
      "application/vnd.jupyter.widget-view+json": {
       "model_id": "5409874047f7442c94d25d24450e844f",
       "version_major": 2,
       "version_minor": 0
      },
      "text/plain": [
       "  0%|          | 0/50 [00:00<?, ?it/s]"
      ]
     },
     "metadata": {},
     "output_type": "display_data"
    },
    {
     "name": "stdout",
     "output_type": "stream",
     "text": [
      "{'file_name': 'IMG_2608_jpeg_jpg.rf.9ba9cc2485112df87a73dee448aad2bc.jpg', 'height': 1024, 'width': 768, 'creature': ['starfish'], 'bbox': [[0.3580729166666667, 0.287109375, 0.79296875, 0.6875]], 'n_box': 1, 'main_creature': 'starfish', 'gerated_caption': 'a starfish in an aquarium', 'prompt_wtemp1': 'a starfish in an aquarium, creature: starfish', 'prompt_wtemp2': 'a starfish in an aquarium, creature: starfish, height: 1024, width: 768'}\n",
      "prompt_wtemp1\n"
     ]
    },
    {
     "data": {
      "application/vnd.jupyter.widget-view+json": {
       "model_id": "d9866b0ef9c64f9994f8eeaa531f155c",
       "version_major": 2,
       "version_minor": 0
      },
      "text/plain": [
       "  0%|          | 0/50 [00:00<?, ?it/s]"
      ]
     },
     "metadata": {},
     "output_type": "display_data"
    },
    {
     "name": "stdout",
     "output_type": "stream",
     "text": [
      "{'file_name': 'IMG_2374_jpeg_jpg.rf.13a3afe5fa27f706d031758c74d64dae.jpg', 'height': 1024, 'width': 768, 'creature': ['starfish'], 'bbox': [[0.3216145833333333, 0.4892578125, 0.65234375, 0.70703125]], 'n_box': 1, 'main_creature': 'starfish', 'gerated_caption': 'a starfish is sitting on a rock in an aquarium', 'prompt_wtemp1': 'a starfish is sitting on a rock in an aquarium, creature: starfish', 'prompt_wtemp2': 'a starfish is sitting on a rock in an aquarium, creature: starfish, height: 1024, width: 768'}\n",
      "prompt_wtemp1\n"
     ]
    },
    {
     "data": {
      "application/vnd.jupyter.widget-view+json": {
       "model_id": "908276a1d6bb428fb614c5fe12b39f6d",
       "version_major": 2,
       "version_minor": 0
      },
      "text/plain": [
       "  0%|          | 0/50 [00:00<?, ?it/s]"
      ]
     },
     "metadata": {},
     "output_type": "display_data"
    },
    {
     "name": "stdout",
     "output_type": "stream",
     "text": [
      "{'file_name': 'IMG_2541_jpeg_jpg.rf.fc997b87790e715d47ce1cc83edf79c2.jpg', 'height': 1024, 'width': 768, 'creature': ['starfish'], 'bbox': [[0.3932291666666667, 0.400390625, 0.6953125, 0.712890625]], 'n_box': 1, 'main_creature': 'starfish', 'gerated_caption': 'a blue starfish in an aquarium', 'prompt_wtemp1': 'a blue starfish in an aquarium, creature: starfish', 'prompt_wtemp2': 'a blue starfish in an aquarium, creature: starfish, height: 1024, width: 768'}\n",
      "prompt_wtemp1\n"
     ]
    },
    {
     "data": {
      "application/vnd.jupyter.widget-view+json": {
       "model_id": "eb29f2aacbfd43aeab6f5c0641d220e7",
       "version_major": 2,
       "version_minor": 0
      },
      "text/plain": [
       "  0%|          | 0/50 [00:00<?, ?it/s]"
      ]
     },
     "metadata": {},
     "output_type": "display_data"
    },
    {
     "name": "stdout",
     "output_type": "stream",
     "text": [
      "{'file_name': 'IMG_2376_jpeg_jpg.rf.238955f6c2fbed6cd8b508f1b61f84de.jpg', 'height': 1024, 'width': 768, 'creature': ['starfish'], 'bbox': [[0.3971354166666667, 0.484375, 0.5807291666666667, 0.671875]], 'n_box': 1, 'main_creature': 'starfish', 'gerated_caption': 'a starfish in an aquarium', 'prompt_wtemp1': 'a starfish in an aquarium, creature: starfish', 'prompt_wtemp2': 'a starfish in an aquarium, creature: starfish, height: 1024, width: 768'}\n",
      "prompt_wtemp1\n"
     ]
    },
    {
     "data": {
      "application/vnd.jupyter.widget-view+json": {
       "model_id": "d4bb6adc20de4b05aadf1f7ccecfbf8b",
       "version_major": 2,
       "version_minor": 0
      },
      "text/plain": [
       "  0%|          | 0/50 [00:00<?, ?it/s]"
      ]
     },
     "metadata": {},
     "output_type": "display_data"
    },
    {
     "name": "stdout",
     "output_type": "stream",
     "text": [
      "{'file_name': 'IMG_2609_jpeg_jpg.rf.812bb452a59431bc957f24c60300dfee.jpg', 'height': 1024, 'width': 768, 'creature': ['starfish'], 'bbox': [[0.3463541666666667, 0.4833984375, 0.6901041666666667, 0.787109375]], 'n_box': 1, 'main_creature': 'starfish', 'gerated_caption': 'a starfish is in an aquarium', 'prompt_wtemp1': 'a starfish is in an aquarium, creature: starfish', 'prompt_wtemp2': 'a starfish is in an aquarium, creature: starfish, height: 1024, width: 768'}\n",
      "prompt_wtemp1\n"
     ]
    },
    {
     "data": {
      "application/vnd.jupyter.widget-view+json": {
       "model_id": "aa45a156ee6147e3aacc06d7fa244b08",
       "version_major": 2,
       "version_minor": 0
      },
      "text/plain": [
       "  0%|          | 0/50 [00:00<?, ?it/s]"
      ]
     },
     "metadata": {},
     "output_type": "display_data"
    },
    {
     "name": "stdout",
     "output_type": "stream",
     "text": [
      "{'file_name': 'IMG_2548_jpeg_jpg.rf.b9a775702d3c300735ef690866a1c7cc.jpg', 'height': 1024, 'width': 768, 'creature': ['starfish', 'starfish'], 'bbox': [[0.8776041666666666, 0.4248046875, 0.9596354166666666, 0.4794921875], [0.3958333333333333, 0.4072265625, 0.5065104166666666, 0.4443359375]], 'n_box': 2, 'main_creature': 'starfish', 'gerated_caption': 'a picture of a kelp forest in an aquarium', 'prompt_wtemp1': 'a picture of a kelp forest in an aquarium, creature: starfish', 'prompt_wtemp2': 'a picture of a kelp forest in an aquarium, creature: starfish, height: 1024, width: 768'}\n",
      "prompt_wtemp1\n"
     ]
    },
    {
     "data": {
      "application/vnd.jupyter.widget-view+json": {
       "model_id": "1964e4cb3efc43b09ce87c6fe40f7a64",
       "version_major": 2,
       "version_minor": 0
      },
      "text/plain": [
       "  0%|          | 0/50 [00:00<?, ?it/s]"
      ]
     },
     "metadata": {},
     "output_type": "display_data"
    },
    {
     "name": "stdout",
     "output_type": "stream",
     "text": [
      "{'file_name': 'IMG_3181_jpeg_jpg.rf.c52b54494d4236e54b900fe60bd6565b.jpg', 'height': 1024, 'width': 768, 'creature': ['starfish', 'starfish'], 'bbox': [[0.07942708333333333, 0.4951171875, 0.47265625, 0.671875], [0.5455729166666666, 0.4912109375, 0.8828125, 0.673828125]], 'n_box': 2, 'main_creature': 'starfish', 'gerated_caption': 'two starfish in an aquarium with rocks', 'prompt_wtemp1': 'two starfish in an aquarium with rocks, creature: starfish', 'prompt_wtemp2': 'two starfish in an aquarium with rocks, creature: starfish, height: 1024, width: 768'}\n",
      "prompt_wtemp1\n"
     ]
    },
    {
     "data": {
      "application/vnd.jupyter.widget-view+json": {
       "model_id": "06f3ec9aaf814e5796c9ce133dbae44b",
       "version_major": 2,
       "version_minor": 0
      },
      "text/plain": [
       "  0%|          | 0/50 [00:00<?, ?it/s]"
      ]
     },
     "metadata": {},
     "output_type": "display_data"
    },
    {
     "name": "stdout",
     "output_type": "stream",
     "text": [
      "{'file_name': 'IMG_2363_jpeg_jpg.rf.c646c1cefead3cafbda9956f065dbe6a.jpg', 'height': 1024, 'width': 768, 'creature': ['starfish', 'fish'], 'bbox': [[0.53515625, 0.6220703125, 0.9140625, 0.927734375], [0.15625, 0.388671875, 0.77734375, 0.5390625]], 'n_box': 2, 'main_creature': 'starfish', 'gerated_caption': 'a starfish in an aquarium', 'prompt_wtemp1': 'a starfish in an aquarium, creature: starfish', 'prompt_wtemp2': 'a starfish in an aquarium, creature: starfish, height: 1024, width: 768'}\n",
      "prompt_wtemp1\n"
     ]
    },
    {
     "data": {
      "application/vnd.jupyter.widget-view+json": {
       "model_id": "0eae81b6806f437a92bebf3b1631894e",
       "version_major": 2,
       "version_minor": 0
      },
      "text/plain": [
       "  0%|          | 0/50 [00:00<?, ?it/s]"
      ]
     },
     "metadata": {},
     "output_type": "display_data"
    },
    {
     "name": "stdout",
     "output_type": "stream",
     "text": [
      "{'file_name': 'IMG_2383_jpeg_jpg.rf.fd376436d382e985e3c0e6936860212f.jpg', 'height': 1024, 'width': 768, 'creature': ['starfish', 'starfish'], 'bbox': [[0.045572916666666664, 0.4921875, 0.5130208333333334, 0.82421875], [0.703125, 0.3623046875, 0.9661458333333333, 0.6259765625]], 'n_box': 2, 'main_creature': 'starfish', 'gerated_caption': 'two starfish in an aquarium', 'prompt_wtemp1': 'two starfish in an aquarium, creature: starfish', 'prompt_wtemp2': 'two starfish in an aquarium, creature: starfish, height: 1024, width: 768'}\n",
      "prompt_wtemp1\n"
     ]
    },
    {
     "data": {
      "application/vnd.jupyter.widget-view+json": {
       "model_id": "d5ccab6b11fa417580ebd0808cf518d5",
       "version_major": 2,
       "version_minor": 0
      },
      "text/plain": [
       "  0%|          | 0/50 [00:00<?, ?it/s]"
      ]
     },
     "metadata": {},
     "output_type": "display_data"
    },
    {
     "name": "stdout",
     "output_type": "stream",
     "text": [
      "{'file_name': 'IMG_2538_jpeg_jpg.rf.7116cb3e914a23960371143381cd5e15.jpg', 'height': 1024, 'width': 768, 'creature': ['starfish', 'starfish'], 'bbox': [[0.3463541666666667, 0.1015625, 0.6106770833333334, 0.361328125], [0.48046875, 0.689453125, 0.66015625, 0.8701171875]], 'n_box': 2, 'main_creature': 'starfish', 'gerated_caption': 'a blue starfish is swimming in an aquarium', 'prompt_wtemp1': 'a blue starfish is swimming in an aquarium, creature: starfish', 'prompt_wtemp2': 'a blue starfish is swimming in an aquarium, creature: starfish, height: 1024, width: 768'}\n",
      "prompt_wtemp1\n"
     ]
    },
    {
     "data": {
      "application/vnd.jupyter.widget-view+json": {
       "model_id": "18217a51f6e1481a8939fb86652a1ccf",
       "version_major": 2,
       "version_minor": 0
      },
      "text/plain": [
       "  0%|          | 0/50 [00:00<?, ?it/s]"
      ]
     },
     "metadata": {},
     "output_type": "display_data"
    },
    {
     "name": "stdout",
     "output_type": "stream",
     "text": [
      "{'file_name': 'IMG_3128_jpeg_jpg.rf.68558c9a951e61ca99ae152b38026341.jpg', 'height': 1024, 'width': 768, 'creature': ['starfish', 'fish'], 'bbox': [[0.3736979166666667, 0.408203125, 0.6927083333333334, 0.64453125], [0.5520833333333334, 0.1884765625, 0.8216145833333334, 0.28515625]], 'n_box': 2, 'main_creature': 'starfish', 'gerated_caption': 'a tank with rocks and a starfish', 'prompt_wtemp1': 'a tank with rocks and a starfish, creature: starfish', 'prompt_wtemp2': 'a tank with rocks and a starfish, creature: starfish, height: 1024, width: 768'}\n",
      "prompt_wtemp1\n"
     ]
    },
    {
     "data": {
      "application/vnd.jupyter.widget-view+json": {
       "model_id": "9626d8004ab2483ba3d8a70a0043ed98",
       "version_major": 2,
       "version_minor": 0
      },
      "text/plain": [
       "  0%|          | 0/50 [00:00<?, ?it/s]"
      ]
     },
     "metadata": {},
     "output_type": "display_data"
    },
    {
     "name": "stdout",
     "output_type": "stream",
     "text": [
      "{'file_name': 'IMG_2553_jpeg_jpg.rf.631441b6872f3849ab9f75da6176af0a.jpg', 'height': 1024, 'width': 768, 'creature': ['stingray'], 'bbox': [[0.43359375, 0.2490234375, 0.77734375, 0.7080078125]], 'n_box': 1, 'main_creature': 'stingray', 'gerated_caption': 'a fish in an aquarium with grass and plants', 'prompt_wtemp1': 'a fish in an aquarium with grass and plants, creature: stingray', 'prompt_wtemp2': 'a fish in an aquarium with grass and plants, creature: stingray, height: 1024, width: 768'}\n",
      "prompt_wtemp1\n"
     ]
    },
    {
     "data": {
      "application/vnd.jupyter.widget-view+json": {
       "model_id": "bc11606d66774f3396cadb1fbfb3307f",
       "version_major": 2,
       "version_minor": 0
      },
      "text/plain": [
       "  0%|          | 0/50 [00:00<?, ?it/s]"
      ]
     },
     "metadata": {},
     "output_type": "display_data"
    },
    {
     "name": "stdout",
     "output_type": "stream",
     "text": [
      "{'file_name': 'IMG_2624_jpeg_jpg.rf.f10f557d310720d6c38739ba284918f8.jpg', 'height': 1024, 'width': 768, 'creature': ['stingray'], 'bbox': [[0.13151041666666666, 0.4443359375, 0.7096354166666666, 0.7041015625]], 'n_box': 1, 'main_creature': 'stingray', 'gerated_caption': 'a stingray swimming in the water', 'prompt_wtemp1': 'a stingray swimming in the water, creature: stingray', 'prompt_wtemp2': 'a stingray swimming in the water, creature: stingray, height: 1024, width: 768'}\n",
      "prompt_wtemp1\n"
     ]
    },
    {
     "data": {
      "application/vnd.jupyter.widget-view+json": {
       "model_id": "eb79748f2c624d56897fbd79ad9129d3",
       "version_major": 2,
       "version_minor": 0
      },
      "text/plain": [
       "  0%|          | 0/50 [00:00<?, ?it/s]"
      ]
     },
     "metadata": {},
     "output_type": "display_data"
    },
    {
     "name": "stdout",
     "output_type": "stream",
     "text": [
      "{'file_name': 'IMG_2649_jpeg_jpg.rf.efd042de1468c6f1725e06af6b1d9ffd.jpg', 'height': 1024, 'width': 768, 'creature': ['stingray'], 'bbox': [[0.46484375, 0.4326171875, 0.6705729166666666, 0.5302734375]], 'n_box': 1, 'main_creature': 'stingray', 'gerated_caption': 'a large aquarium with a ray in it', 'prompt_wtemp1': 'a large aquarium with a ray in it, creature: stingray', 'prompt_wtemp2': 'a large aquarium with a ray in it, creature: stingray, height: 1024, width: 768'}\n",
      "prompt_wtemp1\n"
     ]
    },
    {
     "data": {
      "application/vnd.jupyter.widget-view+json": {
       "model_id": "115c42b6190a48c4bb4ea609715c3bc4",
       "version_major": 2,
       "version_minor": 0
      },
      "text/plain": [
       "  0%|          | 0/50 [00:00<?, ?it/s]"
      ]
     },
     "metadata": {},
     "output_type": "display_data"
    },
    {
     "name": "stdout",
     "output_type": "stream",
     "text": [
      "{'file_name': 'IMG_2549_jpeg_jpg.rf.d9307c4549bb67163bb43c81fb771cd8.jpg', 'height': 1024, 'width': 768, 'creature': ['stingray'], 'bbox': [[0.2916666666666667, 0.5341796875, 0.75390625, 0.7587890625]], 'n_box': 1, 'main_creature': 'stingray', 'gerated_caption': 'a stingray in an aquarium', 'prompt_wtemp1': 'a stingray in an aquarium, creature: stingray', 'prompt_wtemp2': 'a stingray in an aquarium, creature: stingray, height: 1024, width: 768'}\n",
      "prompt_wtemp1\n"
     ]
    },
    {
     "data": {
      "application/vnd.jupyter.widget-view+json": {
       "model_id": "67aa0708b5ca42f38d2f416997663007",
       "version_major": 2,
       "version_minor": 0
      },
      "text/plain": [
       "  0%|          | 0/50 [00:00<?, ?it/s]"
      ]
     },
     "metadata": {},
     "output_type": "display_data"
    },
    {
     "name": "stdout",
     "output_type": "stream",
     "text": [
      "{'file_name': 'IMG_2550_jpeg_jpg.rf.d8b525b14483fc250303ce4be356b57c.jpg', 'height': 1024, 'width': 768, 'creature': ['stingray'], 'bbox': [[0.4166666666666667, 0.607421875, 0.81640625, 0.7705078125]], 'n_box': 1, 'main_creature': 'stingray', 'gerated_caption': 'a stingray is sitting in an aquarium', 'prompt_wtemp1': 'a stingray is sitting in an aquarium, creature: stingray', 'prompt_wtemp2': 'a stingray is sitting in an aquarium, creature: stingray, height: 1024, width: 768'}\n",
      "prompt_wtemp1\n"
     ]
    },
    {
     "data": {
      "application/vnd.jupyter.widget-view+json": {
       "model_id": "90a1ae1743d449bcb96eaa2212b869c0",
       "version_major": 2,
       "version_minor": 0
      },
      "text/plain": [
       "  0%|          | 0/50 [00:00<?, ?it/s]"
      ]
     },
     "metadata": {},
     "output_type": "display_data"
    },
    {
     "name": "stdout",
     "output_type": "stream",
     "text": [
      "{'file_name': 'IMG_2628_jpeg_jpg.rf.c607a4280b054d5a636f5ee3398b886d.jpg', 'height': 1024, 'width': 768, 'creature': ['stingray'], 'bbox': [[0.09375, 0.1787109375, 0.7799479166666666, 0.599609375]], 'n_box': 1, 'main_creature': 'stingray', 'gerated_caption': 'a stingray swimming in an aquarium', 'prompt_wtemp1': 'a stingray swimming in an aquarium, creature: stingray', 'prompt_wtemp2': 'a stingray swimming in an aquarium, creature: stingray, height: 1024, width: 768'}\n",
      "prompt_wtemp1\n"
     ]
    },
    {
     "data": {
      "application/vnd.jupyter.widget-view+json": {
       "model_id": "83699df7727f4301bd0511b06819b058",
       "version_major": 2,
       "version_minor": 0
      },
      "text/plain": [
       "  0%|          | 0/50 [00:00<?, ?it/s]"
      ]
     },
     "metadata": {},
     "output_type": "display_data"
    },
    {
     "name": "stdout",
     "output_type": "stream",
     "text": [
      "{'file_name': 'IMG_2592_jpeg_jpg.rf.9c8ada079979c004ab05f15d6b66c902.jpg', 'height': 1024, 'width': 768, 'creature': ['stingray'], 'bbox': [[0.3059895833333333, 0.4306640625, 0.76953125, 0.5986328125]], 'n_box': 1, 'main_creature': 'stingray', 'gerated_caption': 'a stingray is swimming in an aquarium', 'prompt_wtemp1': 'a stingray is swimming in an aquarium, creature: stingray', 'prompt_wtemp2': 'a stingray is swimming in an aquarium, creature: stingray, height: 1024, width: 768'}\n",
      "prompt_wtemp1\n"
     ]
    },
    {
     "data": {
      "application/vnd.jupyter.widget-view+json": {
       "model_id": "943a019f4abc437faf945300711b145f",
       "version_major": 2,
       "version_minor": 0
      },
      "text/plain": [
       "  0%|          | 0/50 [00:00<?, ?it/s]"
      ]
     },
     "metadata": {},
     "output_type": "display_data"
    },
    {
     "name": "stdout",
     "output_type": "stream",
     "text": [
      "{'file_name': 'IMG_2647_jpeg_jpg.rf.9b83da86e81bb2e5ba772305e2172d63.jpg', 'height': 1024, 'width': 768, 'creature': ['stingray'], 'bbox': [[0.4596354166666667, 0.47265625, 0.6106770833333334, 0.546875]], 'n_box': 1, 'main_creature': 'stingray', 'gerated_caption': 'a large aquarium with a stingray', 'prompt_wtemp1': 'a large aquarium with a stingray, creature: stingray', 'prompt_wtemp2': 'a large aquarium with a stingray, creature: stingray, height: 1024, width: 768'}\n",
      "prompt_wtemp1\n"
     ]
    },
    {
     "data": {
      "application/vnd.jupyter.widget-view+json": {
       "model_id": "7e5eba1a130f4eefa028b6ae21c4d159",
       "version_major": 2,
       "version_minor": 0
      },
      "text/plain": [
       "  0%|          | 0/50 [00:00<?, ?it/s]"
      ]
     },
     "metadata": {},
     "output_type": "display_data"
    },
    {
     "name": "stdout",
     "output_type": "stream",
     "text": [
      "{'file_name': 'IMG_2556_jpeg_jpg.rf.95be135e1024945e03cb4e03910ce8fd.jpg', 'height': 1024, 'width': 768, 'creature': ['stingray'], 'bbox': [[0.1484375, 0.54296875, 0.5533854166666667, 0.771484375]], 'n_box': 1, 'main_creature': 'stingray', 'gerated_caption': 'a fish in an aquarium with rocks and plants', 'prompt_wtemp1': 'a fish in an aquarium with rocks and plants, creature: stingray', 'prompt_wtemp2': 'a fish in an aquarium with rocks and plants, creature: stingray, height: 1024, width: 768'}\n",
      "prompt_wtemp1\n"
     ]
    },
    {
     "data": {
      "application/vnd.jupyter.widget-view+json": {
       "model_id": "310acfaa58e54ce89c85464de4bde838",
       "version_major": 2,
       "version_minor": 0
      },
      "text/plain": [
       "  0%|          | 0/50 [00:00<?, ?it/s]"
      ]
     },
     "metadata": {},
     "output_type": "display_data"
    },
    {
     "name": "stdout",
     "output_type": "stream",
     "text": [
      "{'file_name': 'IMG_2627_jpeg_jpg.rf.71ea24ceb65b886d6f148dbd31f451d1.jpg', 'height': 1024, 'width': 768, 'creature': ['stingray'], 'bbox': [[0.16536458333333334, 0.2490234375, 0.7734375, 0.796875]], 'n_box': 1, 'main_creature': 'stingray', 'gerated_caption': 'a stingray is sitting in an aquarium', 'prompt_wtemp1': 'a stingray is sitting in an aquarium, creature: stingray', 'prompt_wtemp2': 'a stingray is sitting in an aquarium, creature: stingray, height: 1024, width: 768'}\n",
      "prompt_wtemp1\n"
     ]
    },
    {
     "data": {
      "application/vnd.jupyter.widget-view+json": {
       "model_id": "e350d4526d604212b41be94cdf0fd9d2",
       "version_major": 2,
       "version_minor": 0
      },
      "text/plain": [
       "  0%|          | 0/50 [00:00<?, ?it/s]"
      ]
     },
     "metadata": {},
     "output_type": "display_data"
    },
    {
     "name": "stdout",
     "output_type": "stream",
     "text": [
      "{'file_name': 'IMG_2653_jpeg_jpg.rf.f5e2d0fb8b333ea049c7cba182d78725.jpg', 'height': 1024, 'width': 768, 'creature': ['stingray'], 'bbox': [[0.4635416666666667, 0.4697265625, 0.71875, 0.603515625]], 'n_box': 1, 'main_creature': 'stingray', 'gerated_caption': 'a giraffe swimming in a pool of water', 'prompt_wtemp1': 'a giraffe swimming in a pool of water, creature: stingray', 'prompt_wtemp2': 'a giraffe swimming in a pool of water, creature: stingray, height: 1024, width: 768'}\n",
      "prompt_wtemp1\n"
     ]
    },
    {
     "data": {
      "application/vnd.jupyter.widget-view+json": {
       "model_id": "e587b1e676ca4c528ae4acb5073ca4fa",
       "version_major": 2,
       "version_minor": 0
      },
      "text/plain": [
       "  0%|          | 0/50 [00:00<?, ?it/s]"
      ]
     },
     "metadata": {},
     "output_type": "display_data"
    },
    {
     "name": "stdout",
     "output_type": "stream",
     "text": [
      "{'file_name': 'IMG_2641_jpeg_jpg.rf.3fc4fead3495733a8298ef199058794b.jpg', 'height': 1024, 'width': 768, 'creature': ['stingray'], 'bbox': [[0.2265625, 0.3701171875, 0.7682291666666666, 0.6123046875]], 'n_box': 1, 'main_creature': 'stingray', 'gerated_caption': 'a stingray swimming in an aquarium', 'prompt_wtemp1': 'a stingray swimming in an aquarium, creature: stingray', 'prompt_wtemp2': 'a stingray swimming in an aquarium, creature: stingray, height: 1024, width: 768'}\n",
      "prompt_wtemp1\n"
     ]
    },
    {
     "data": {
      "application/vnd.jupyter.widget-view+json": {
       "model_id": "6f06788264554f2b989a6659d6abb688",
       "version_major": 2,
       "version_minor": 0
      },
      "text/plain": [
       "  0%|          | 0/50 [00:00<?, ?it/s]"
      ]
     },
     "metadata": {},
     "output_type": "display_data"
    },
    {
     "name": "stdout",
     "output_type": "stream",
     "text": [
      "{'file_name': 'IMG_2646_jpeg_jpg.rf.f128f9fb09439406d8dc2abb9a1b74c7.jpg', 'height': 1024, 'width': 768, 'creature': ['stingray'], 'bbox': [[0.46875, 0.48828125, 0.5390625, 0.5947265625]], 'n_box': 1, 'main_creature': 'stingray', 'gerated_caption': 'a large aquarium with fish swimming in it', 'prompt_wtemp1': 'a large aquarium with fish swimming in it, creature: stingray', 'prompt_wtemp2': 'a large aquarium with fish swimming in it, creature: stingray, height: 1024, width: 768'}\n",
      "prompt_wtemp1\n"
     ]
    },
    {
     "data": {
      "application/vnd.jupyter.widget-view+json": {
       "model_id": "f7c2a8e886474233b777fadf81dbd6d2",
       "version_major": 2,
       "version_minor": 0
      },
      "text/plain": [
       "  0%|          | 0/50 [00:00<?, ?it/s]"
      ]
     },
     "metadata": {},
     "output_type": "display_data"
    },
    {
     "name": "stdout",
     "output_type": "stream",
     "text": [
      "{'file_name': 'IMG_2554_jpeg_jpg.rf.1ac30f27b030d31a31ec6b2ecdcb9025.jpg', 'height': 1024, 'width': 768, 'creature': ['stingray'], 'bbox': [[0.328125, 0.33203125, 0.7018229166666667, 0.6923828125]], 'n_box': 1, 'main_creature': 'stingray', 'gerated_caption': 'a stingray in an aquarium', 'prompt_wtemp1': 'a stingray in an aquarium, creature: stingray', 'prompt_wtemp2': 'a stingray in an aquarium, creature: stingray, height: 1024, width: 768'}\n",
      "prompt_wtemp1\n"
     ]
    },
    {
     "data": {
      "application/vnd.jupyter.widget-view+json": {
       "model_id": "df853d7136db493b96a4e55d4bb291d9",
       "version_major": 2,
       "version_minor": 0
      },
      "text/plain": [
       "  0%|          | 0/50 [00:00<?, ?it/s]"
      ]
     },
     "metadata": {},
     "output_type": "display_data"
    },
    {
     "name": "stdout",
     "output_type": "stream",
     "text": [
      "{'file_name': 'IMG_2623_jpeg_jpg.rf.0af1f3048c78df2f0f8dc887ff548198.jpg', 'height': 1024, 'width': 768, 'creature': ['stingray'], 'bbox': [[0.16666666666666666, 0.458984375, 0.9036458333333333, 0.7177734375]], 'n_box': 1, 'main_creature': 'stingray', 'gerated_caption': 'a ray in the water', 'prompt_wtemp1': 'a ray in the water, creature: stingray', 'prompt_wtemp2': 'a ray in the water, creature: stingray, height: 1024, width: 768'}\n",
      "prompt_wtemp1\n"
     ]
    },
    {
     "data": {
      "application/vnd.jupyter.widget-view+json": {
       "model_id": "130c6ad8ca2b4744a56804ce9dba26e7",
       "version_major": 2,
       "version_minor": 0
      },
      "text/plain": [
       "  0%|          | 0/50 [00:00<?, ?it/s]"
      ]
     },
     "metadata": {},
     "output_type": "display_data"
    },
    {
     "name": "stdout",
     "output_type": "stream",
     "text": [
      "{'file_name': 'IMG_2625_jpeg_jpg.rf.049cfca5fa7da90878060904a452975d.jpg', 'height': 1024, 'width': 768, 'creature': ['stingray'], 'bbox': [[0.2604166666666667, 0.314453125, 0.4752604166666667, 0.6484375]], 'n_box': 1, 'main_creature': 'stingray', 'gerated_caption': 'a ray fish in an aquarium with rocks', 'prompt_wtemp1': 'a ray fish in an aquarium with rocks, creature: stingray', 'prompt_wtemp2': 'a ray fish in an aquarium with rocks, creature: stingray, height: 1024, width: 768'}\n",
      "prompt_wtemp1\n"
     ]
    },
    {
     "data": {
      "application/vnd.jupyter.widget-view+json": {
       "model_id": "ab95e7020947428b9603016ca9ab5056",
       "version_major": 2,
       "version_minor": 0
      },
      "text/plain": [
       "  0%|          | 0/50 [00:00<?, ?it/s]"
      ]
     },
     "metadata": {},
     "output_type": "display_data"
    },
    {
     "name": "stdout",
     "output_type": "stream",
     "text": [
      "{'file_name': 'IMG_2551_jpeg_jpg.rf.23441fda11b9de7fa39fb0a2ea3e7f4a.jpg', 'height': 1024, 'width': 768, 'creature': ['stingray'], 'bbox': [[0.5182291666666666, 0.4462890625, 0.8177083333333333, 0.69921875]], 'n_box': 1, 'main_creature': 'stingray', 'gerated_caption': 'a fish in an aquarium', 'prompt_wtemp1': 'a fish in an aquarium, creature: stingray', 'prompt_wtemp2': 'a fish in an aquarium, creature: stingray, height: 1024, width: 768'}\n",
      "prompt_wtemp1\n"
     ]
    },
    {
     "data": {
      "application/vnd.jupyter.widget-view+json": {
       "model_id": "497b3978add24ccab0822da44a94babd",
       "version_major": 2,
       "version_minor": 0
      },
      "text/plain": [
       "  0%|          | 0/50 [00:00<?, ?it/s]"
      ]
     },
     "metadata": {},
     "output_type": "display_data"
    },
    {
     "name": "stdout",
     "output_type": "stream",
     "text": [
      "{'file_name': 'IMG_2552_jpeg_jpg.rf.2bfc6840f21295db87e9e56956f16e76.jpg', 'height': 1024, 'width': 768, 'creature': ['stingray'], 'bbox': [[0.5794270833333334, 0.275390625, 0.8359375, 0.6357421875]], 'n_box': 1, 'main_creature': 'stingray', 'gerated_caption': 'a fish in an aquarium', 'prompt_wtemp1': 'a fish in an aquarium, creature: stingray', 'prompt_wtemp2': 'a fish in an aquarium, creature: stingray, height: 1024, width: 768'}\n",
      "prompt_wtemp1\n"
     ]
    },
    {
     "data": {
      "application/vnd.jupyter.widget-view+json": {
       "model_id": "bd2c9e858d514449835f9544883a3cd3",
       "version_major": 2,
       "version_minor": 0
      },
      "text/plain": [
       "  0%|          | 0/50 [00:00<?, ?it/s]"
      ]
     },
     "metadata": {},
     "output_type": "display_data"
    },
    {
     "name": "stdout",
     "output_type": "stream",
     "text": [
      "{'file_name': 'IMG_2655_jpeg_jpg.rf.500bca587eb20e6e80acbea6f60ebd40.jpg', 'height': 1024, 'width': 768, 'creature': ['stingray', 'stingray'], 'bbox': [[0.3671875, 0.224609375, 0.5572916666666666, 0.3369140625], [0.3580729166666667, 0.41015625, 0.5598958333333334, 0.5263671875]], 'n_box': 2, 'main_creature': 'stingray', 'gerated_caption': 'a ray fish swimming in the water', 'prompt_wtemp1': 'a ray fish swimming in the water, creature: stingray', 'prompt_wtemp2': 'a ray fish swimming in the water, creature: stingray, height: 1024, width: 768'}\n",
      "prompt_wtemp1\n"
     ]
    },
    {
     "data": {
      "application/vnd.jupyter.widget-view+json": {
       "model_id": "b47ac1e5fe86446c9562579eddef351f",
       "version_major": 2,
       "version_minor": 0
      },
      "text/plain": [
       "  0%|          | 0/50 [00:00<?, ?it/s]"
      ]
     },
     "metadata": {},
     "output_type": "display_data"
    },
    {
     "name": "stdout",
     "output_type": "stream",
     "text": [
      "{'file_name': 'IMG_2619_jpeg_jpg.rf.62b48e73de77f2d89e512df79ebb3041.jpg', 'height': 1024, 'width': 768, 'creature': ['stingray', 'fish'], 'bbox': [[0.28125, 0.380859375, 0.7252604166666667, 0.49609375], [0.38671875, 0.658203125, 0.5052083333333334, 0.705078125]], 'n_box': 2, 'main_creature': 'stingray', 'gerated_caption': 'a stingray swimming in an aquarium', 'prompt_wtemp1': 'a stingray swimming in an aquarium, creature: stingray', 'prompt_wtemp2': 'a stingray swimming in an aquarium, creature: stingray, height: 1024, width: 768'}\n",
      "prompt_wtemp1\n"
     ]
    },
    {
     "data": {
      "application/vnd.jupyter.widget-view+json": {
       "model_id": "fb025272e8b642d28c893326952f78a0",
       "version_major": 2,
       "version_minor": 0
      },
      "text/plain": [
       "  0%|          | 0/50 [00:00<?, ?it/s]"
      ]
     },
     "metadata": {},
     "output_type": "display_data"
    }
   ],
   "source": [
    "data_dir = Path(\"dataset\") / \"cvpdl\" / \"train\"\n",
    "template_id = 1\n",
    "o_dir = Path(\"dataset/cvpdl_gligen_mix/train\") / (\"image_grounding\" + template_id)\n",
    "prompt_template = \"prompt_wtemp\" + template_id\n",
    "for idx, instance in enumerate(data):\n",
    "    prompt, phrases, input_image, boxes = get_model_inpuat(instance, data_dir, prompt_template)\n",
    "    inference_one_instance_image_grounding(pipe, prompt, phrases, input_image, boxes, o_dir, generate_idx=idx+1)"
   ]
  },
  {
   "cell_type": "markdown",
   "id": "c312639e",
   "metadata": {},
   "source": [
    "### Modeling - Text Grounding"
   ]
  },
  {
   "cell_type": "code",
   "execution_count": 73,
   "id": "653db5c5",
   "metadata": {},
   "outputs": [],
   "source": [
    "def inference_one_instance_text_grounding(pipe, prompt, phrases,  boxes, o_dir, generate_idx):\n",
    "    images = pipe(\n",
    "        prompt=prompt,\n",
    "        gligen_phrases=phrases,\n",
    "        gligen_boxes=boxes,\n",
    "        gligen_scheduled_sampling_beta=1,\n",
    "        output_type=\"pil\",\n",
    "        num_inference_steps=50,\n",
    "    ).images\n",
    "\n",
    "    images[0].save(o_dir / \"{}.jpg\".format(generate_idx))                               "
   ]
  },
  {
   "cell_type": "code",
   "execution_count": 74,
   "id": "5dd09cd8",
   "metadata": {},
   "outputs": [
    {
     "data": {
      "application/vnd.jupyter.widget-view+json": {
       "model_id": "f440cc8a421145298adef31cd43053ba",
       "version_major": 2,
       "version_minor": 0
      },
      "text/plain": [
       "model_index.json:   0%|          | 0.00/543 [00:00<?, ?B/s]"
      ]
     },
     "metadata": {},
     "output_type": "display_data"
    },
    {
     "name": "stderr",
     "output_type": "stream",
     "text": [
      "safety_checker/model.fp16.safetensors not found\n"
     ]
    },
    {
     "data": {
      "application/vnd.jupyter.widget-view+json": {
       "model_id": "5b8e2aee6b5643a2a6542d24763b06ab",
       "version_major": 2,
       "version_minor": 0
      },
      "text/plain": [
       "Fetching 16 files:   0%|          | 0/16 [00:00<?, ?it/s]"
      ]
     },
     "metadata": {},
     "output_type": "display_data"
    },
    {
     "data": {
      "application/vnd.jupyter.widget-view+json": {
       "model_id": "633803cfee0a4fb78e842fa32faa11cf",
       "version_major": 2,
       "version_minor": 0
      },
      "text/plain": [
       "pytorch_model.fp16.bin:   0%|          | 0.00/608M [00:00<?, ?B/s]"
      ]
     },
     "metadata": {},
     "output_type": "display_data"
    },
    {
     "data": {
      "application/vnd.jupyter.widget-view+json": {
       "model_id": "2ee38a2442e34ee899f08b8e4edeb065",
       "version_major": 2,
       "version_minor": 0
      },
      "text/plain": [
       "pytorch_model.fp16.bin:   0%|          | 0.00/246M [00:00<?, ?B/s]"
      ]
     },
     "metadata": {},
     "output_type": "display_data"
    },
    {
     "data": {
      "application/vnd.jupyter.widget-view+json": {
       "model_id": "cea6d0aed30b4bc79aa39152ffe7fc8d",
       "version_major": 2,
       "version_minor": 0
      },
      "text/plain": [
       "safety_checker/config.json:   0%|          | 0.00/4.56k [00:00<?, ?B/s]"
      ]
     },
     "metadata": {},
     "output_type": "display_data"
    },
    {
     "data": {
      "application/vnd.jupyter.widget-view+json": {
       "model_id": "3d04cdadf3c44b77bd415e2644ec1013",
       "version_major": 2,
       "version_minor": 0
      },
      "text/plain": [
       "(…)kpoints/scheduler_config-checkpoint.json:   0%|          | 0.00/209 [00:00<?, ?B/s]"
      ]
     },
     "metadata": {},
     "output_type": "display_data"
    },
    {
     "data": {
      "application/vnd.jupyter.widget-view+json": {
       "model_id": "a3d7e28fcf5c4f64ad527eb26d9ef740",
       "version_major": 2,
       "version_minor": 0
      },
      "text/plain": [
       "scheduler/scheduler_config.json:   0%|          | 0.00/313 [00:00<?, ?B/s]"
      ]
     },
     "metadata": {},
     "output_type": "display_data"
    },
    {
     "data": {
      "application/vnd.jupyter.widget-view+json": {
       "model_id": "571a847e9fc445eea1493b3e6ee17c15",
       "version_major": 2,
       "version_minor": 0
      },
      "text/plain": [
       "(…)ature_extractor/preprocessor_config.json:   0%|          | 0.00/342 [00:00<?, ?B/s]"
      ]
     },
     "metadata": {},
     "output_type": "display_data"
    },
    {
     "data": {
      "application/vnd.jupyter.widget-view+json": {
       "model_id": "52b70557e3bf44d894c49eb85ac9f4c3",
       "version_major": 2,
       "version_minor": 0
      },
      "text/plain": [
       "text_encoder/config.json:   0%|          | 0.00/592 [00:00<?, ?B/s]"
      ]
     },
     "metadata": {},
     "output_type": "display_data"
    },
    {
     "data": {
      "application/vnd.jupyter.widget-view+json": {
       "model_id": "efe7dd2c84224c0aae9855795690ea7c",
       "version_major": 2,
       "version_minor": 0
      },
      "text/plain": [
       "tokenizer/merges.txt:   0%|          | 0.00/525k [00:00<?, ?B/s]"
      ]
     },
     "metadata": {},
     "output_type": "display_data"
    },
    {
     "data": {
      "application/vnd.jupyter.widget-view+json": {
       "model_id": "4c03462706a4412a8014cb42cfd52be0",
       "version_major": 2,
       "version_minor": 0
      },
      "text/plain": [
       "tokenizer/tokenizer_config.json:   0%|          | 0.00/806 [00:00<?, ?B/s]"
      ]
     },
     "metadata": {},
     "output_type": "display_data"
    },
    {
     "data": {
      "application/vnd.jupyter.widget-view+json": {
       "model_id": "93f1e73894b5447c8145196b8bed7c75",
       "version_major": 2,
       "version_minor": 0
      },
      "text/plain": [
       "tokenizer/vocab.json:   0%|          | 0.00/1.06M [00:00<?, ?B/s]"
      ]
     },
     "metadata": {},
     "output_type": "display_data"
    },
    {
     "data": {
      "application/vnd.jupyter.widget-view+json": {
       "model_id": "63dab54e607b46efaf694dd625851627",
       "version_major": 2,
       "version_minor": 0
      },
      "text/plain": [
       "diffusion_pytorch_model.fp16.bin:   0%|          | 0.00/2.14G [00:00<?, ?B/s]"
      ]
     },
     "metadata": {},
     "output_type": "display_data"
    },
    {
     "data": {
      "application/vnd.jupyter.widget-view+json": {
       "model_id": "430a5e825acb4a8583365223a0fbd145",
       "version_major": 2,
       "version_minor": 0
      },
      "text/plain": [
       "tokenizer/special_tokens_map.json:   0%|          | 0.00/472 [00:00<?, ?B/s]"
      ]
     },
     "metadata": {},
     "output_type": "display_data"
    },
    {
     "data": {
      "application/vnd.jupyter.widget-view+json": {
       "model_id": "aea5a3a49188499c8956411712a519e1",
       "version_major": 2,
       "version_minor": 0
      },
      "text/plain": [
       "unet/config.json:   0%|          | 0.00/772 [00:00<?, ?B/s]"
      ]
     },
     "metadata": {},
     "output_type": "display_data"
    },
    {
     "data": {
      "application/vnd.jupyter.widget-view+json": {
       "model_id": "38e68df130324f1cbbb75234527bfec9",
       "version_major": 2,
       "version_minor": 0
      },
      "text/plain": [
       "diffusion_pytorch_model.fp16.bin:   0%|          | 0.00/167M [00:00<?, ?B/s]"
      ]
     },
     "metadata": {},
     "output_type": "display_data"
    },
    {
     "data": {
      "application/vnd.jupyter.widget-view+json": {
       "model_id": "b52ce870f8f3458f8307b34279426c54",
       "version_major": 2,
       "version_minor": 0
      },
      "text/plain": [
       "vae/config.json:   0%|          | 0.00/551 [00:00<?, ?B/s]"
      ]
     },
     "metadata": {},
     "output_type": "display_data"
    },
    {
     "name": "stderr",
     "output_type": "stream",
     "text": [
      "Cannot initialize model with low cpu memory usage because `accelerate` was not found in the environment. Defaulting to `low_cpu_mem_usage=False`. It is strongly recommended to install `accelerate` for faster and less memory-intense model loading. You can do so with: \n",
      "```\n",
      "pip install accelerate\n",
      "```\n",
      ".\n"
     ]
    },
    {
     "data": {
      "application/vnd.jupyter.widget-view+json": {
       "model_id": "1e972bfb4edb42629beb061862c3d58d",
       "version_major": 2,
       "version_minor": 0
      },
      "text/plain": [
       "Loading pipeline components...:   0%|          | 0/7 [00:00<?, ?it/s]"
      ]
     },
     "metadata": {},
     "output_type": "display_data"
    },
    {
     "name": "stderr",
     "output_type": "stream",
     "text": [
      "`text_config_dict` is provided which will be used to initialize `CLIPTextConfig`. The value `text_config[\"id2label\"]` will be overriden.\n",
      "`text_config_dict` is provided which will be used to initialize `CLIPTextConfig`. The value `text_config[\"bos_token_id\"]` will be overriden.\n",
      "`text_config_dict` is provided which will be used to initialize `CLIPTextConfig`. The value `text_config[\"eos_token_id\"]` will be overriden.\n",
      "/usr/local/lib/anaconda3/envs/hw3/lib/python3.8/site-packages/transformers/models/clip/feature_extraction_clip.py:28: FutureWarning: The class CLIPFeatureExtractor is deprecated and will be removed in version 5 of Transformers. Please use CLIPImageProcessor instead.\n",
      "  warnings.warn(\n"
     ]
    }
   ],
   "source": [
    "# Generate an image described by the prompt and\n",
    "# insert objects described by text at the region defined by bounding boxes\n",
    "pipe = StableDiffusionGLIGENPipeline.from_pretrained(\n",
    "    \"masterful/gligen-1-4-generation-text-box\", variant=\"fp16\", torch_dtype=torch.float16\n",
    ")\n",
    "pipe = pipe.to(\"cuda\")"
   ]
  },
  {
   "cell_type": "code",
   "execution_count": 79,
   "id": "c33d94d8",
   "metadata": {},
   "outputs": [
    {
     "name": "stdout",
     "output_type": "stream",
     "text": [
      "{'file_name': 'IMG_8461_jpg.rf.c1f3ef25fac44501963625279e8ca614.jpg', 'height': 768, 'width': 1024, 'creature': ['fish'], 'bbox': [[0.2490234375, 0.2513020833333333, 0.35546875, 0.4700520833333333]], 'n_box': 1, 'main_creature': 'fish', 'gerated_caption': 'a fish is swimming in the water', 'prompt_wtemp1': 'a fish is swimming in the water, creature: fish', 'prompt_wtemp2': 'a fish is swimming in the water, creature: fish, height: 768, width: 1024'}\n",
      "prompt_wtemp2\n"
     ]
    },
    {
     "data": {
      "application/vnd.jupyter.widget-view+json": {
       "model_id": "6a77ff88142b41c5b28923c150d1fcbb",
       "version_major": 2,
       "version_minor": 0
      },
      "text/plain": [
       "  0%|          | 0/50 [00:00<?, ?it/s]"
      ]
     },
     "metadata": {},
     "output_type": "display_data"
    },
    {
     "name": "stdout",
     "output_type": "stream",
     "text": [
      "{'file_name': 'IMG_2375_jpeg_jpg.rf.ed73b2179f3b96fe3088456fc43a2cf5.jpg', 'height': 1024, 'width': 768, 'creature': ['fish'], 'bbox': [[0.07291666666666667, 0.353515625, 0.9908854166666666, 0.703125]], 'n_box': 1, 'main_creature': 'fish', 'gerated_caption': 'a fish swimming in an aquarium with rocks', 'prompt_wtemp1': 'a fish swimming in an aquarium with rocks, creature: fish', 'prompt_wtemp2': 'a fish swimming in an aquarium with rocks, creature: fish, height: 1024, width: 768'}\n",
      "prompt_wtemp2\n"
     ]
    },
    {
     "data": {
      "application/vnd.jupyter.widget-view+json": {
       "model_id": "9c15741367764bcd8edcea06e4af3df0",
       "version_major": 2,
       "version_minor": 0
      },
      "text/plain": [
       "  0%|          | 0/50 [00:00<?, ?it/s]"
      ]
     },
     "metadata": {},
     "output_type": "display_data"
    },
    {
     "name": "stdout",
     "output_type": "stream",
     "text": [
      "{'file_name': 'IMG_8549_jpg.rf.ee5f8f7fa2cae6f1e528e1b350ad4046.jpg', 'height': 768, 'width': 1024, 'creature': ['fish'], 'bbox': [[0.1962890625, 0.4674479166666667, 0.498046875, 0.7109375]], 'n_box': 1, 'main_creature': 'fish', 'gerated_caption': 'clownfish in the aquarium at the san diego aquarium', 'prompt_wtemp1': 'clownfish in the aquarium at the san diego aquarium, creature: fish', 'prompt_wtemp2': 'clownfish in the aquarium at the san diego aquarium, creature: fish, height: 768, width: 1024'}\n",
      "prompt_wtemp2\n"
     ]
    },
    {
     "data": {
      "application/vnd.jupyter.widget-view+json": {
       "model_id": "12ff284c6cff47cda99d2b8eaf37e617",
       "version_major": 2,
       "version_minor": 0
      },
      "text/plain": [
       "  0%|          | 0/50 [00:00<?, ?it/s]"
      ]
     },
     "metadata": {},
     "output_type": "display_data"
    },
    {
     "name": "stdout",
     "output_type": "stream",
     "text": [
      "{'file_name': 'IMG_2409_jpeg_jpg.rf.2de52b31d07502007ce8e96350212d7c.jpg', 'height': 1024, 'width': 768, 'creature': ['fish'], 'bbox': [[0.34375, 0.40234375, 0.8880208333333334, 0.703125]], 'n_box': 1, 'main_creature': 'fish', 'gerated_caption': 'a black and white fish in an aquarium', 'prompt_wtemp1': 'a black and white fish in an aquarium, creature: fish', 'prompt_wtemp2': 'a black and white fish in an aquarium, creature: fish, height: 1024, width: 768'}\n",
      "prompt_wtemp2\n"
     ]
    },
    {
     "data": {
      "application/vnd.jupyter.widget-view+json": {
       "model_id": "315eecfb5d0b4a15a0ea63807c6e1378",
       "version_major": 2,
       "version_minor": 0
      },
      "text/plain": [
       "  0%|          | 0/50 [00:00<?, ?it/s]"
      ]
     },
     "metadata": {},
     "output_type": "display_data"
    },
    {
     "name": "stdout",
     "output_type": "stream",
     "text": [
      "{'file_name': 'IMG_8520_jpg.rf.68bab0b4a111aa5bdad529f65b21edfd.jpg', 'height': 768, 'width': 1024, 'creature': ['fish'], 'bbox': [[0.3447265625, 0.3984375, 0.4453125, 0.5481770833333334]], 'n_box': 1, 'main_creature': 'fish', 'gerated_caption': 'clown fish in an aquarium with corals', 'prompt_wtemp1': 'clown fish in an aquarium with corals, creature: fish', 'prompt_wtemp2': 'clown fish in an aquarium with corals, creature: fish, height: 768, width: 1024'}\n",
      "prompt_wtemp2\n"
     ]
    },
    {
     "data": {
      "application/vnd.jupyter.widget-view+json": {
       "model_id": "c4908e52c21846c7a84046cc97f05c87",
       "version_major": 2,
       "version_minor": 0
      },
      "text/plain": [
       "  0%|          | 0/50 [00:00<?, ?it/s]"
      ]
     },
     "metadata": {},
     "output_type": "display_data"
    },
    {
     "name": "stdout",
     "output_type": "stream",
     "text": [
      "{'file_name': 'IMG_2358_jpeg_jpg.rf.efdef53aafee680685b00990131e1442.jpg', 'height': 1024, 'width': 768, 'creature': ['fish'], 'bbox': [[0.10546875, 0.3740234375, 0.7955729166666666, 0.671875]], 'n_box': 1, 'main_creature': 'fish', 'gerated_caption': 'a penguin swimming in the water', 'prompt_wtemp1': 'a penguin swimming in the water, creature: fish', 'prompt_wtemp2': 'a penguin swimming in the water, creature: fish, height: 1024, width: 768'}\n",
      "prompt_wtemp2\n"
     ]
    },
    {
     "data": {
      "application/vnd.jupyter.widget-view+json": {
       "model_id": "c62032b625764bf1b6349f126c0e59b1",
       "version_major": 2,
       "version_minor": 0
      },
      "text/plain": [
       "  0%|          | 0/50 [00:00<?, ?it/s]"
      ]
     },
     "metadata": {},
     "output_type": "display_data"
    },
    {
     "name": "stdout",
     "output_type": "stream",
     "text": [
      "{'file_name': 'IMG_8327_jpg.rf.b859bdc46f8f4aaf4d1ff2b902e276df.jpg', 'height': 768, 'width': 1024, 'creature': ['fish'], 'bbox': [[0.0419921875, 0.20833333333333334, 0.568359375, 0.8763020833333334]], 'n_box': 1, 'main_creature': 'fish', 'gerated_caption': 'a catfish swimming in an aquarium with rocks', 'prompt_wtemp1': 'a catfish swimming in an aquarium with rocks, creature: fish', 'prompt_wtemp2': 'a catfish swimming in an aquarium with rocks, creature: fish, height: 768, width: 1024'}\n",
      "prompt_wtemp2\n"
     ]
    },
    {
     "data": {
      "application/vnd.jupyter.widget-view+json": {
       "model_id": "aea03fb90e074c08a0c4755981e9f933",
       "version_major": 2,
       "version_minor": 0
      },
      "text/plain": [
       "  0%|          | 0/50 [00:00<?, ?it/s]"
      ]
     },
     "metadata": {},
     "output_type": "display_data"
    },
    {
     "name": "stdout",
     "output_type": "stream",
     "text": [
      "{'file_name': 'IMG_8328_jpg.rf.c7cdca0b7dc7a6ac3c44254a11bd63cc.jpg', 'height': 768, 'width': 1024, 'creature': ['fish'], 'bbox': [[0.0625, 0.07942708333333333, 0.814453125, 0.8072916666666667]], 'n_box': 1, 'main_creature': 'fish', 'gerated_caption': 'a catfish swimming in an aquarium with rocks', 'prompt_wtemp1': 'a catfish swimming in an aquarium with rocks, creature: fish', 'prompt_wtemp2': 'a catfish swimming in an aquarium with rocks, creature: fish, height: 768, width: 1024'}\n",
      "prompt_wtemp2\n"
     ]
    },
    {
     "data": {
      "application/vnd.jupyter.widget-view+json": {
       "model_id": "53cb50e382cd4f59812e4727455726fd",
       "version_major": 2,
       "version_minor": 0
      },
      "text/plain": [
       "  0%|          | 0/50 [00:00<?, ?it/s]"
      ]
     },
     "metadata": {},
     "output_type": "display_data"
    },
    {
     "name": "stdout",
     "output_type": "stream",
     "text": [
      "{'file_name': 'IMG_2503_jpeg_jpg.rf.726342a02d92d30abc147f6e71fe3baf.jpg', 'height': 1024, 'width': 768, 'creature': ['fish'], 'bbox': [[0.2799479166666667, 0.341796875, 0.7330729166666667, 0.861328125]], 'n_box': 1, 'main_creature': 'fish', 'gerated_caption': 'a shark swimming in an aquarium', 'prompt_wtemp1': 'a shark swimming in an aquarium, creature: fish', 'prompt_wtemp2': 'a shark swimming in an aquarium, creature: fish, height: 1024, width: 768'}\n",
      "prompt_wtemp2\n"
     ]
    },
    {
     "data": {
      "application/vnd.jupyter.widget-view+json": {
       "model_id": "8b514a2b702a49dfa13d3c308dc3603c",
       "version_major": 2,
       "version_minor": 0
      },
      "text/plain": [
       "  0%|          | 0/50 [00:00<?, ?it/s]"
      ]
     },
     "metadata": {},
     "output_type": "display_data"
    },
    {
     "name": "stdout",
     "output_type": "stream",
     "text": [
      "{'file_name': 'IMG_8512_MOV-4_jpg.rf.e879ecc625c150dfb308030a737ff9c5.jpg', 'height': 576, 'width': 1024, 'creature': ['fish'], 'bbox': [[0.6904296875, 0.3211805555555556, 0.9384765625, 0.484375]], 'n_box': 1, 'main_creature': 'fish', 'gerated_caption': 'a large tank with a lot of corals and fish', 'prompt_wtemp1': 'a large tank with a lot of corals and fish, creature: fish', 'prompt_wtemp2': 'a large tank with a lot of corals and fish, creature: fish, height: 576, width: 1024'}\n",
      "prompt_wtemp2\n"
     ]
    },
    {
     "data": {
      "application/vnd.jupyter.widget-view+json": {
       "model_id": "70c54441f9cd4e608f858ea0b901dd0e",
       "version_major": 2,
       "version_minor": 0
      },
      "text/plain": [
       "  0%|          | 0/50 [00:00<?, ?it/s]"
      ]
     },
     "metadata": {},
     "output_type": "display_data"
    },
    {
     "name": "stdout",
     "output_type": "stream",
     "text": [
      "{'file_name': 'IMG_8550_jpg.rf.7f9f25d5d968b77bc0664fb82fc9a9c9.jpg', 'height': 768, 'width': 1024, 'creature': ['fish'], 'bbox': [[0.28515625, 0.0, 0.513671875, 0.80859375]], 'n_box': 1, 'main_creature': 'fish', 'gerated_caption': 'a fish swimming in the water near rocks', 'prompt_wtemp1': 'a fish swimming in the water near rocks, creature: fish', 'prompt_wtemp2': 'a fish swimming in the water near rocks, creature: fish, height: 768, width: 1024'}\n",
      "prompt_wtemp2\n"
     ]
    },
    {
     "data": {
      "application/vnd.jupyter.widget-view+json": {
       "model_id": "0c1e0076791542cba747dcd375f166a2",
       "version_major": 2,
       "version_minor": 0
      },
      "text/plain": [
       "  0%|          | 0/50 [00:00<?, ?it/s]"
      ]
     },
     "metadata": {},
     "output_type": "display_data"
    },
    {
     "name": "stdout",
     "output_type": "stream",
     "text": [
      "{'file_name': 'IMG_8502_jpg.rf.81783141b72ae29e514d677ca0f5082d.jpg', 'height': 768, 'width': 1024, 'creature': ['fish'], 'bbox': [[0.267578125, 0.2643229166666667, 0.52734375, 0.8046875]], 'n_box': 1, 'main_creature': 'fish', 'gerated_caption': 'a large otters in an aquarium with a tree in the background', 'prompt_wtemp1': 'a large otters in an aquarium with a tree in the background, creature: fish', 'prompt_wtemp2': 'a large otters in an aquarium with a tree in the background, creature: fish, height: 768, width: 1024'}\n",
      "prompt_wtemp2\n"
     ]
    },
    {
     "data": {
      "application/vnd.jupyter.widget-view+json": {
       "model_id": "56f699a117ef40be8d1d3368c4debdd4",
       "version_major": 2,
       "version_minor": 0
      },
      "text/plain": [
       "  0%|          | 0/50 [00:00<?, ?it/s]"
      ]
     },
     "metadata": {},
     "output_type": "display_data"
    },
    {
     "name": "stdout",
     "output_type": "stream",
     "text": [
      "{'file_name': 'IMG_2406_jpeg_jpg.rf.1188b08782ffbc29af95b22721ca6015.jpg', 'height': 1024, 'width': 768, 'creature': ['fish'], 'bbox': [[0.3619791666666667, 0.4482421875, 0.75, 0.6611328125]], 'n_box': 1, 'main_creature': 'fish', 'gerated_caption': 'a black and yellow fish swimming in an aquarium', 'prompt_wtemp1': 'a black and yellow fish swimming in an aquarium, creature: fish', 'prompt_wtemp2': 'a black and yellow fish swimming in an aquarium, creature: fish, height: 1024, width: 768'}\n",
      "prompt_wtemp2\n"
     ]
    },
    {
     "data": {
      "application/vnd.jupyter.widget-view+json": {
       "model_id": "1327ed0489974a0d8af7b3c3e6b1f7bb",
       "version_major": 2,
       "version_minor": 0
      },
      "text/plain": [
       "  0%|          | 0/50 [00:00<?, ?it/s]"
      ]
     },
     "metadata": {},
     "output_type": "display_data"
    },
    {
     "name": "stdout",
     "output_type": "stream",
     "text": [
      "{'file_name': 'IMG_2382_jpeg_jpg.rf.b431ad0ed94761ef82281dbe844170cc.jpg', 'height': 1024, 'width': 768, 'creature': ['fish'], 'bbox': [[0.11979166666666667, 0.3720703125, 0.94921875, 0.6923828125]], 'n_box': 1, 'main_creature': 'fish', 'gerated_caption': 'a fish swimming in an aquarium', 'prompt_wtemp1': 'a fish swimming in an aquarium, creature: fish', 'prompt_wtemp2': 'a fish swimming in an aquarium, creature: fish, height: 1024, width: 768'}\n",
      "prompt_wtemp2\n"
     ]
    },
    {
     "data": {
      "application/vnd.jupyter.widget-view+json": {
       "model_id": "7d907d8b639345419fd125a7d55bd3fe",
       "version_major": 2,
       "version_minor": 0
      },
      "text/plain": [
       "  0%|          | 0/50 [00:00<?, ?it/s]"
      ]
     },
     "metadata": {},
     "output_type": "display_data"
    },
    {
     "name": "stdout",
     "output_type": "stream",
     "text": [
      "{'file_name': 'IMG_2361_jpeg_jpg.rf.02195fab4639c0b58bef41a6944fda9d.jpg', 'height': 1024, 'width': 768, 'creature': ['fish'], 'bbox': [[0.2591145833333333, 0.4140625, 0.703125, 0.7578125]], 'n_box': 1, 'main_creature': 'fish', 'gerated_caption': 'a fish swimming in an aquarium with rocks', 'prompt_wtemp1': 'a fish swimming in an aquarium with rocks, creature: fish', 'prompt_wtemp2': 'a fish swimming in an aquarium with rocks, creature: fish, height: 1024, width: 768'}\n",
      "prompt_wtemp2\n"
     ]
    },
    {
     "data": {
      "application/vnd.jupyter.widget-view+json": {
       "model_id": "216f0866b1b047e48ab1a23c04b9c8bd",
       "version_major": 2,
       "version_minor": 0
      },
      "text/plain": [
       "  0%|          | 0/50 [00:00<?, ?it/s]"
      ]
     },
     "metadata": {},
     "output_type": "display_data"
    },
    {
     "name": "stdout",
     "output_type": "stream",
     "text": [
      "{'file_name': 'IMG_8512_MOV-2_jpg.rf.00f06559a0df06b71002d0b3dbf1804c.jpg', 'height': 576, 'width': 1024, 'creature': ['fish'], 'bbox': [[0.2138671875, 0.3993055555555556, 0.6728515625, 0.7725694444444444]], 'n_box': 1, 'main_creature': 'fish', 'gerated_caption': 'a fish in an aquarium with a lot of fish', 'prompt_wtemp1': 'a fish in an aquarium with a lot of fish, creature: fish', 'prompt_wtemp2': 'a fish in an aquarium with a lot of fish, creature: fish, height: 576, width: 1024'}\n",
      "prompt_wtemp2\n"
     ]
    },
    {
     "data": {
      "application/vnd.jupyter.widget-view+json": {
       "model_id": "8373ebebbba949a28b3aeabc82a22458",
       "version_major": 2,
       "version_minor": 0
      },
      "text/plain": [
       "  0%|          | 0/50 [00:00<?, ?it/s]"
      ]
     },
     "metadata": {},
     "output_type": "display_data"
    },
    {
     "name": "stdout",
     "output_type": "stream",
     "text": [
      "{'file_name': 'IMG_8319_jpg.rf.d9c66db153b1293af6ce36c1e4f6455c.jpg', 'height': 768, 'width': 1024, 'creature': ['fish'], 'bbox': [[0.1259765625, 0.19270833333333334, 0.400390625, 0.7486979166666667]], 'n_box': 1, 'main_creature': 'fish', 'gerated_caption': 'a fish swimming in an aquarium with rocks', 'prompt_wtemp1': 'a fish swimming in an aquarium with rocks, creature: fish', 'prompt_wtemp2': 'a fish swimming in an aquarium with rocks, creature: fish, height: 768, width: 1024'}\n",
      "prompt_wtemp2\n"
     ]
    },
    {
     "data": {
      "application/vnd.jupyter.widget-view+json": {
       "model_id": "a77cecced3e0485bb8a284448bf286e6",
       "version_major": 2,
       "version_minor": 0
      },
      "text/plain": [
       "  0%|          | 0/50 [00:00<?, ?it/s]"
      ]
     },
     "metadata": {},
     "output_type": "display_data"
    },
    {
     "name": "stdout",
     "output_type": "stream",
     "text": [
      "{'file_name': 'IMG_2365_jpeg_jpg.rf.9091a7e8b24fcf1d8493c5a4dd1310d1.jpg', 'height': 1024, 'width': 768, 'creature': ['fish', 'shark'], 'bbox': [[0.4466145833333333, 0.37890625, 0.7994791666666666, 0.6298828125], [0.3177083333333333, 0.0, 0.9856770833333333, 0.318359375]], 'n_box': 2, 'main_creature': 'fish', 'gerated_caption': 'a large fish swimming in an aquarium', 'prompt_wtemp1': 'a large fish swimming in an aquarium, creature: fish', 'prompt_wtemp2': 'a large fish swimming in an aquarium, creature: fish, height: 1024, width: 768'}\n",
      "prompt_wtemp2\n"
     ]
    },
    {
     "data": {
      "application/vnd.jupyter.widget-view+json": {
       "model_id": "465ce33294894017849d483d5f5e9c65",
       "version_major": 2,
       "version_minor": 0
      },
      "text/plain": [
       "  0%|          | 0/50 [00:00<?, ?it/s]"
      ]
     },
     "metadata": {},
     "output_type": "display_data"
    },
    {
     "name": "stdout",
     "output_type": "stream",
     "text": [
      "{'file_name': 'IMG_2410_jpeg_jpg.rf.28e599148c43192990cc399a4940f016.jpg', 'height': 1024, 'width': 768, 'creature': ['fish', 'fish'], 'bbox': [[0.4921875, 0.4873046875, 0.72265625, 0.6474609375], [0.796875, 0.1435546875, 0.90625, 0.193359375]], 'n_box': 2, 'main_creature': 'fish', 'gerated_caption': 'a fish tank with a lot of fish in it', 'prompt_wtemp1': 'a fish tank with a lot of fish in it, creature: fish', 'prompt_wtemp2': 'a fish tank with a lot of fish in it, creature: fish, height: 1024, width: 768'}\n",
      "prompt_wtemp2\n"
     ]
    },
    {
     "data": {
      "application/vnd.jupyter.widget-view+json": {
       "model_id": "46fa8802d08145f6b72e7d7712a97a32",
       "version_major": 2,
       "version_minor": 0
      },
      "text/plain": [
       "  0%|          | 0/50 [00:00<?, ?it/s]"
      ]
     },
     "metadata": {},
     "output_type": "display_data"
    },
    {
     "name": "stdout",
     "output_type": "stream",
     "text": [
      "{'file_name': 'IMG_8318_jpg.rf.ed4eeaebcf971e4f4a8f90bd351fb23c.jpg', 'height': 768, 'width': 1024, 'creature': ['fish', 'fish'], 'bbox': [[0.2724609375, 0.2643229166666667, 0.64453125, 0.9388020833333333], [0.380859375, 0.24479166666666666, 0.482421875, 0.45182291666666663]], 'n_box': 2, 'main_creature': 'fish', 'gerated_caption': 'a fish swimming in an aquarium with other fish', 'prompt_wtemp1': 'a fish swimming in an aquarium with other fish, creature: fish', 'prompt_wtemp2': 'a fish swimming in an aquarium with other fish, creature: fish, height: 768, width: 1024'}\n",
      "prompt_wtemp2\n"
     ]
    },
    {
     "data": {
      "application/vnd.jupyter.widget-view+json": {
       "model_id": "5cb2ee1fe85848d39d1e08faec15e025",
       "version_major": 2,
       "version_minor": 0
      },
      "text/plain": [
       "  0%|          | 0/50 [00:00<?, ?it/s]"
      ]
     },
     "metadata": {},
     "output_type": "display_data"
    },
    {
     "name": "stdout",
     "output_type": "stream",
     "text": [
      "{'file_name': 'IMG_8590_MOV-4_jpg.rf.1691f0958ffea266daa9011c203cd726.jpg', 'height': 1024, 'width': 576, 'creature': ['jellyfish'], 'bbox': [[0.2777777777777778, 0.2216796875, 0.5451388888888888, 0.421875]], 'n_box': 1, 'main_creature': 'jellyfish', 'gerated_caption': 'a jellyfish swimming in a blue aquarium', 'prompt_wtemp1': 'a jellyfish swimming in a blue aquarium, creature: jellyfish', 'prompt_wtemp2': 'a jellyfish swimming in a blue aquarium, creature: jellyfish, height: 1024, width: 576'}\n",
      "prompt_wtemp2\n"
     ]
    },
    {
     "data": {
      "application/vnd.jupyter.widget-view+json": {
       "model_id": "123e5a88ad3047fb83848d6f2b5642f3",
       "version_major": 2,
       "version_minor": 0
      },
      "text/plain": [
       "  0%|          | 0/50 [00:00<?, ?it/s]"
      ]
     },
     "metadata": {},
     "output_type": "display_data"
    },
    {
     "name": "stdout",
     "output_type": "stream",
     "text": [
      "{'file_name': 'IMG_2482_jpeg_jpg.rf.e49b8fe3d265732ff3c0eb8172bd66ee.jpg', 'height': 1024, 'width': 768, 'creature': ['jellyfish', 'jellyfish', 'jellyfish', 'jellyfish'], 'bbox': [[0.24479166666666666, 0.626953125, 0.5390625, 0.8466796875], [0.014322916666666666, 0.7216796875, 0.2630208333333333, 0.89453125], [0.5, 0.3115234375, 0.7473958333333334, 0.4560546875], [0.0, 0.74609375, 0.09114583333333333, 0.9169921875]], 'n_box': 4, 'main_creature': 'jellyfish', 'gerated_caption': 'a group of jellyfish swimming in the ocean', 'prompt_wtemp1': 'a group of jellyfish swimming in the ocean, creature: jellyfish', 'prompt_wtemp2': 'a group of jellyfish swimming in the ocean, creature: jellyfish, height: 1024, width: 768'}\n",
      "prompt_wtemp2\n"
     ]
    },
    {
     "data": {
      "application/vnd.jupyter.widget-view+json": {
       "model_id": "c50fb98d555a441c8f78b7c3915d0111",
       "version_major": 2,
       "version_minor": 0
      },
      "text/plain": [
       "  0%|          | 0/50 [00:00<?, ?it/s]"
      ]
     },
     "metadata": {},
     "output_type": "display_data"
    },
    {
     "name": "stdout",
     "output_type": "stream",
     "text": [
      "{'file_name': 'IMG_8599_MOV-2_jpg.rf.0b2b0733befaae0b08c0e04b86f295b9.jpg', 'height': 1024, 'width': 576, 'creature': ['jellyfish', 'jellyfish', 'jellyfish', 'jellyfish'], 'bbox': [[0.25, 0.5009765625, 0.390625, 0.59375], [0.3402777777777778, 0.2275390625, 0.4340277777777778, 0.306640625], [0.6614583333333334, 0.5810546875, 0.7864583333333334, 0.640625], [0.3177083333333333, 0.5830078125, 0.4618055555555555, 0.6953125]], 'n_box': 4, 'main_creature': 'jellyfish', 'gerated_caption': 'a group of jellyfish swimming in the blue water', 'prompt_wtemp1': 'a group of jellyfish swimming in the blue water, creature: jellyfish', 'prompt_wtemp2': 'a group of jellyfish swimming in the blue water, creature: jellyfish, height: 1024, width: 576'}\n",
      "prompt_wtemp2\n"
     ]
    },
    {
     "data": {
      "application/vnd.jupyter.widget-view+json": {
       "model_id": "f0b73131816547b18c7978c8744474bc",
       "version_major": 2,
       "version_minor": 0
      },
      "text/plain": [
       "  0%|          | 0/50 [00:00<?, ?it/s]"
      ]
     },
     "metadata": {},
     "output_type": "display_data"
    },
    {
     "name": "stdout",
     "output_type": "stream",
     "text": [
      "{'file_name': 'IMG_2489_jpeg_jpg.rf.ffb357957a29cdef43f3fdfb2a13c417.jpg', 'height': 1024, 'width': 768, 'creature': ['jellyfish', 'jellyfish', 'jellyfish', 'jellyfish', 'jellyfish', 'jellyfish'], 'bbox': [[0.0, 0.734375, 0.22916666666666666, 0.9716796875], [0.1640625, 0.720703125, 0.7252604166666666, 0.900390625], [0.013020833333333334, 0.8251953125, 0.27604166666666663, 0.955078125], [0.6380208333333334, 0.474609375, 0.9088541666666667, 0.5947265625], [0.8658854166666666, 0.2587890625, 0.9986979166666666, 0.3125], [0.7044270833333334, 0.9111328125, 0.9986979166666667, 0.9990234375]], 'n_box': 6, 'main_creature': 'jellyfish', 'gerated_caption': 'a group of jellyfish in an aquarium', 'prompt_wtemp1': 'a group of jellyfish in an aquarium, creature: jellyfish', 'prompt_wtemp2': 'a group of jellyfish in an aquarium, creature: jellyfish, height: 1024, width: 768'}\n",
      "prompt_wtemp2\n"
     ]
    },
    {
     "data": {
      "application/vnd.jupyter.widget-view+json": {
       "model_id": "7b433bf7398447a2a789501f2daaa5b1",
       "version_major": 2,
       "version_minor": 0
      },
      "text/plain": [
       "  0%|          | 0/50 [00:00<?, ?it/s]"
      ]
     },
     "metadata": {},
     "output_type": "display_data"
    },
    {
     "name": "stdout",
     "output_type": "stream",
     "text": [
      "{'file_name': 'IMG_2472_jpeg_jpg.rf.57b8e38dd12bf9a9b8cb87e5f49b072d.jpg', 'height': 1024, 'width': 768, 'creature': ['jellyfish', 'jellyfish', 'jellyfish', 'jellyfish', 'jellyfish', 'jellyfish'], 'bbox': [[0.4518229166666667, 0.072265625, 0.5455729166666667, 0.2529296875], [0.70703125, 0.6591796875, 0.9466145833333334, 0.83203125], [0.15885416666666666, 0.1611328125, 0.3606770833333333, 0.302734375], [0.52734375, 0.4228515625, 0.66796875, 0.5361328125], [0.5703125, 0.66796875, 0.7174479166666666, 0.7509765625], [0.11848958333333333, 0.640625, 0.3723958333333333, 0.7421875]], 'n_box': 6, 'main_creature': 'jellyfish', 'gerated_caption': 'jellyfish in the ocean', 'prompt_wtemp1': 'jellyfish in the ocean, creature: jellyfish', 'prompt_wtemp2': 'jellyfish in the ocean, creature: jellyfish, height: 1024, width: 768'}\n",
      "prompt_wtemp2\n"
     ]
    },
    {
     "data": {
      "application/vnd.jupyter.widget-view+json": {
       "model_id": "59604511b5174320a2f97a1291d2508d",
       "version_major": 2,
       "version_minor": 0
      },
      "text/plain": [
       "  0%|          | 0/50 [00:00<?, ?it/s]"
      ]
     },
     "metadata": {},
     "output_type": "display_data"
    },
    {
     "name": "stdout",
     "output_type": "stream",
     "text": [
      "{'file_name': 'IMG_8590_MOV-1_jpg.rf.5e5c650f344f8d835e04f867c6496953.jpg', 'height': 1024, 'width': 576, 'creature': ['jellyfish', 'jellyfish', 'jellyfish', 'jellyfish', 'jellyfish', 'jellyfish'], 'bbox': [[0.13368055555555555, 0.1611328125, 0.5503472222222222, 0.4501953125], [0.4878472222222222, 0.37109375, 0.890625, 0.5615234375], [0.12152777777777778, 0.46484375, 0.3489583333333333, 0.6494140625], [0.0, 0.3486328125, 0.10590277777777778, 0.498046875], [0.8993055555555556, 0.6904296875, 0.998263888888889, 0.78125], [0.5277777777777778, 0.830078125, 0.6892361111111112, 0.9091796875]], 'n_box': 6, 'main_creature': 'jellyfish', 'gerated_caption': 'jellyfish in an aquarium with blue water', 'prompt_wtemp1': 'jellyfish in an aquarium with blue water, creature: jellyfish', 'prompt_wtemp2': 'jellyfish in an aquarium with blue water, creature: jellyfish, height: 1024, width: 576'}\n",
      "prompt_wtemp2\n"
     ]
    },
    {
     "data": {
      "application/vnd.jupyter.widget-view+json": {
       "model_id": "a009cefdce024765a35e719a51cbd4f8",
       "version_major": 2,
       "version_minor": 0
      },
      "text/plain": [
       "  0%|          | 0/50 [00:00<?, ?it/s]"
      ]
     },
     "metadata": {},
     "output_type": "display_data"
    },
    {
     "name": "stdout",
     "output_type": "stream",
     "text": [
      "{'file_name': 'IMG_2487_jpeg_jpg.rf.e2c008ecf06dc7f3159ab28903bc5275.jpg', 'height': 1024, 'width': 768, 'creature': ['jellyfish', 'jellyfish', 'jellyfish', 'jellyfish', 'jellyfish', 'jellyfish', 'jellyfish'], 'bbox': [[0.1484375, 0.5732421875, 0.41015625, 0.71484375], [0.4713541666666667, 0.6572265625, 0.7265625, 0.7783203125], [0.0, 0.5478515625, 0.20703125, 0.6650390625], [0.2747395833333333, 0.3701171875, 0.4661458333333333, 0.4619140625], [0.78125, 0.65234375, 0.8971354166666666, 0.724609375], [0.6471354166666666, 0.556640625, 0.7526041666666666, 0.5888671875], [0.46875, 0.5146484375, 0.5690104166666666, 0.5791015625]], 'n_box': 7, 'main_creature': 'jellyfish', 'gerated_caption': 'a group of jellyfish in an aquarium', 'prompt_wtemp1': 'a group of jellyfish in an aquarium, creature: jellyfish', 'prompt_wtemp2': 'a group of jellyfish in an aquarium, creature: jellyfish, height: 1024, width: 768'}\n",
      "prompt_wtemp2\n"
     ]
    },
    {
     "data": {
      "application/vnd.jupyter.widget-view+json": {
       "model_id": "e3f5ecb03df7493a83e5ba31c0647f74",
       "version_major": 2,
       "version_minor": 0
      },
      "text/plain": [
       "  0%|          | 0/50 [00:00<?, ?it/s]"
      ]
     },
     "metadata": {},
     "output_type": "display_data"
    },
    {
     "name": "stdout",
     "output_type": "stream",
     "text": [
      "{'file_name': 'IMG_8599_MOV-0_jpg.rf.3bd4fd78a244fdb4e48556896c70de74.jpg', 'height': 1024, 'width': 576, 'creature': ['jellyfish', 'jellyfish', 'jellyfish', 'jellyfish', 'jellyfish', 'jellyfish', 'jellyfish'], 'bbox': [[0.6579861111111112, 0.5302734375, 0.71875, 0.5859375], [0.6111111111111112, 0.4775390625, 0.6822916666666667, 0.5224609375], [0.7013888888888888, 0.3623046875, 0.7586805555555555, 0.3984375], [0.8211805555555556, 0.4990234375, 0.8923611111111112, 0.5341796875], [0.11979166666666667, 0.26171875, 0.1684027777777778, 0.294921875], [0.2899305555555556, 0.3759765625, 0.3402777777777778, 0.40625], [0.0763888888888889, 0.4013671875, 0.11979166666666667, 0.4296875]], 'n_box': 7, 'main_creature': 'jellyfish', 'gerated_caption': 'a blue aquarium with jellyfish swimming in it', 'prompt_wtemp1': 'a blue aquarium with jellyfish swimming in it, creature: jellyfish', 'prompt_wtemp2': 'a blue aquarium with jellyfish swimming in it, creature: jellyfish, height: 1024, width: 576'}\n",
      "prompt_wtemp2\n"
     ]
    },
    {
     "data": {
      "application/vnd.jupyter.widget-view+json": {
       "model_id": "d385aff09f6b4d79b9ad6ae111ea62b4",
       "version_major": 2,
       "version_minor": 0
      },
      "text/plain": [
       "  0%|          | 0/50 [00:00<?, ?it/s]"
      ]
     },
     "metadata": {},
     "output_type": "display_data"
    },
    {
     "name": "stdout",
     "output_type": "stream",
     "text": [
      "{'file_name': 'IMG_2485_jpeg_jpg.rf.dabd7a2e30e0c47b2bc750eb2395da11.jpg', 'height': 1024, 'width': 768, 'creature': ['jellyfish', 'jellyfish', 'jellyfish', 'jellyfish', 'jellyfish', 'jellyfish', 'jellyfish'], 'bbox': [[0.37890625, 0.591796875, 0.6588541666666667, 0.72265625], [0.09765625, 0.5615234375, 0.33723958333333337, 0.689453125], [0.7291666666666666, 0.517578125, 0.8567708333333333, 0.58984375], [0.2877604166666667, 0.408203125, 0.50390625, 0.478515625], [0.0, 0.681640625, 0.22265625, 0.7470703125], [0.5390625, 0.5234375, 0.625, 0.5673828125], [0.62109375, 0.5205078125, 0.734375, 0.5517578125]], 'n_box': 7, 'main_creature': 'jellyfish', 'gerated_caption': 'a group of jellyfish swimming in the water', 'prompt_wtemp1': 'a group of jellyfish swimming in the water, creature: jellyfish', 'prompt_wtemp2': 'a group of jellyfish swimming in the water, creature: jellyfish, height: 1024, width: 768'}\n",
      "prompt_wtemp2\n"
     ]
    },
    {
     "data": {
      "application/vnd.jupyter.widget-view+json": {
       "model_id": "5af33cf86b46449986912dd6c95f98e7",
       "version_major": 2,
       "version_minor": 0
      },
      "text/plain": [
       "  0%|          | 0/50 [00:00<?, ?it/s]"
      ]
     },
     "metadata": {},
     "output_type": "display_data"
    },
    {
     "name": "stdout",
     "output_type": "stream",
     "text": [
      "{'file_name': 'IMG_2478_jpeg_jpg.rf.ae27bba94db775902a3683bc5c469029.jpg', 'height': 1024, 'width': 768, 'creature': ['jellyfish', 'jellyfish', 'jellyfish', 'jellyfish', 'jellyfish', 'jellyfish', 'jellyfish'], 'bbox': [[0.6588541666666666, 0.5771484375, 0.8763020833333333, 0.716796875], [0.7825520833333334, 0.791015625, 0.953125, 0.92578125], [0.13151041666666666, 0.4814453125, 0.42708333333333337, 0.5732421875], [0.09505208333333333, 0.37109375, 0.2825520833333333, 0.4619140625], [0.578125, 0.9130859375, 0.7486979166666666, 0.9990234375], [0.09375, 0.2890625, 0.27213541666666663, 0.3740234375], [0.3020833333333333, 0.8955078125, 0.4921875, 1.0]], 'n_box': 7, 'main_creature': 'jellyfish', 'gerated_caption': 'jellyfish in the ocean', 'prompt_wtemp1': 'jellyfish in the ocean, creature: jellyfish', 'prompt_wtemp2': 'jellyfish in the ocean, creature: jellyfish, height: 1024, width: 768'}\n",
      "prompt_wtemp2\n"
     ]
    },
    {
     "data": {
      "application/vnd.jupyter.widget-view+json": {
       "model_id": "f71c5577a05b461498083e617db15b11",
       "version_major": 2,
       "version_minor": 0
      },
      "text/plain": [
       "  0%|          | 0/50 [00:00<?, ?it/s]"
      ]
     },
     "metadata": {},
     "output_type": "display_data"
    },
    {
     "name": "stdout",
     "output_type": "stream",
     "text": [
      "{'file_name': 'IMG_2575_jpeg_jpg.rf.8736d619bdee1d73390ae7476c9d4931.jpg', 'height': 1024, 'width': 768, 'creature': ['jellyfish', 'jellyfish', 'jellyfish', 'jellyfish', 'jellyfish', 'jellyfish', 'jellyfish'], 'bbox': [[0.13020833333333334, 0.5283203125, 0.56640625, 0.779296875], [0.3359375, 0.2177734375, 0.6341145833333333, 0.4599609375], [0.026041666666666668, 0.390625, 0.29296875, 0.6123046875], [0.6119791666666666, 0.6767578125, 0.796875, 0.89453125], [0.72265625, 0.283203125, 0.98046875, 0.4873046875], [0.22526041666666666, 0.873046875, 0.5052083333333334, 0.978515625], [0.42578125, 0.79296875, 0.6419270833333334, 0.888671875]], 'n_box': 7, 'main_creature': 'jellyfish', 'gerated_caption': 'jellyfish in the ocean', 'prompt_wtemp1': 'jellyfish in the ocean, creature: jellyfish', 'prompt_wtemp2': 'jellyfish in the ocean, creature: jellyfish, height: 1024, width: 768'}\n",
      "prompt_wtemp2\n"
     ]
    },
    {
     "data": {
      "application/vnd.jupyter.widget-view+json": {
       "model_id": "eab496ca06724c4590947e9c76ac03e7",
       "version_major": 2,
       "version_minor": 0
      },
      "text/plain": [
       "  0%|          | 0/50 [00:00<?, ?it/s]"
      ]
     },
     "metadata": {},
     "output_type": "display_data"
    },
    {
     "name": "stdout",
     "output_type": "stream",
     "text": [
      "{'file_name': 'IMG_2576_jpeg_jpg.rf.4d42383c9a9d3043ca31f8f709d124ba.jpg', 'height': 1024, 'width': 768, 'creature': ['jellyfish', 'jellyfish', 'jellyfish', 'jellyfish', 'jellyfish', 'jellyfish', 'jellyfish', 'jellyfish'], 'bbox': [[0.2994791666666667, 0.111328125, 0.49739583333333337, 0.3525390625], [0.5807291666666666, 0.6845703125, 0.8203125, 0.8720703125], [0.7109375, 0.3828125, 0.9270833333333334, 0.501953125], [0.2877604166666667, 0.4541015625, 0.4908854166666667, 0.568359375], [0.3424479166666667, 0.5859375, 0.55859375, 0.6953125], [0.23307291666666666, 0.1142578125, 0.36588541666666663, 0.189453125], [0.9466145833333334, 0.419921875, 1.0, 0.4755859375], [0.13020833333333334, 0.810546875, 0.29817708333333337, 0.951171875]], 'n_box': 8, 'main_creature': 'jellyfish', 'gerated_caption': 'a group of jellyfish swimming in the water', 'prompt_wtemp1': 'a group of jellyfish swimming in the water, creature: jellyfish', 'prompt_wtemp2': 'a group of jellyfish swimming in the water, creature: jellyfish, height: 1024, width: 768'}\n",
      "prompt_wtemp2\n"
     ]
    },
    {
     "data": {
      "application/vnd.jupyter.widget-view+json": {
       "model_id": "e10366c93da04812b2f87392e5e1fb04",
       "version_major": 2,
       "version_minor": 0
      },
      "text/plain": [
       "  0%|          | 0/50 [00:00<?, ?it/s]"
      ]
     },
     "metadata": {},
     "output_type": "display_data"
    },
    {
     "name": "stdout",
     "output_type": "stream",
     "text": [
      "{'file_name': 'IMG_8598_jpg.rf.761ffe2966ae3fae2a3f5615df36370e.jpg', 'height': 768, 'width': 1024, 'creature': ['jellyfish', 'jellyfish', 'jellyfish', 'jellyfish', 'jellyfish', 'jellyfish', 'jellyfish', 'jellyfish'], 'bbox': [[0.521484375, 0.3802083333333333, 0.55078125, 0.42447916666666663], [0.5341796875, 0.36328125, 0.56640625, 0.4049479166666667], [0.4833984375, 0.26953125, 0.513671875, 0.3046875], [0.380859375, 0.3489583333333333, 0.4140625, 0.38671875], [0.46875, 0.39453125, 0.509765625, 0.4427083333333333], [0.40625, 0.59765625, 0.4296875, 0.6302083333333334], [0.3994140625, 0.7434895833333334, 0.42578125, 0.7721354166666667], [0.2802734375, 0.69921875, 0.306640625, 0.7317708333333334]], 'n_box': 8, 'main_creature': 'jellyfish', 'gerated_caption': 'a blue window with a blue sky and some fish', 'prompt_wtemp1': 'a blue window with a blue sky and some fish, creature: jellyfish', 'prompt_wtemp2': 'a blue window with a blue sky and some fish, creature: jellyfish, height: 768, width: 1024'}\n",
      "prompt_wtemp2\n"
     ]
    },
    {
     "data": {
      "application/vnd.jupyter.widget-view+json": {
       "model_id": "af1d65e589794cb6a4b6e0db251044e6",
       "version_major": 2,
       "version_minor": 0
      },
      "text/plain": [
       "  0%|          | 0/50 [00:00<?, ?it/s]"
      ]
     },
     "metadata": {},
     "output_type": "display_data"
    },
    {
     "name": "stdout",
     "output_type": "stream",
     "text": [
      "{'file_name': 'IMG_2463_jpeg_jpg.rf.da774058e67ba22ec38a84ac948b4014.jpg', 'height': 1024, 'width': 768, 'creature': ['jellyfish', 'jellyfish', 'jellyfish', 'jellyfish', 'jellyfish', 'jellyfish', 'jellyfish', 'jellyfish', 'jellyfish'], 'bbox': [[0.12630208333333334, 0.814453125, 0.35286458333333337, 0.955078125], [0.76171875, 0.748046875, 0.921875, 0.859375], [0.8229166666666666, 0.330078125, 0.9791666666666666, 0.4326171875], [0.3372395833333333, 0.8251953125, 0.5013020833333333, 0.923828125], [0.07552083333333333, 0.2900390625, 0.21354166666666669, 0.38671875], [0.6536458333333334, 0.8720703125, 0.828125, 0.9638671875], [0.00390625, 0.181640625, 0.15885416666666666, 0.2734375], [0.6028645833333334, 0.416015625, 0.7877604166666667, 0.4921875], [0.3190104166666667, 0.77734375, 0.48828125, 0.84765625]], 'n_box': 9, 'main_creature': 'jellyfish', 'gerated_caption': 'jellyfish in the ocean', 'prompt_wtemp1': 'jellyfish in the ocean, creature: jellyfish', 'prompt_wtemp2': 'jellyfish in the ocean, creature: jellyfish, height: 1024, width: 768'}\n",
      "prompt_wtemp2\n"
     ]
    },
    {
     "data": {
      "application/vnd.jupyter.widget-view+json": {
       "model_id": "d9d46b6cbaf94f3f9c4d9ea8d48ccb9c",
       "version_major": 2,
       "version_minor": 0
      },
      "text/plain": [
       "  0%|          | 0/50 [00:00<?, ?it/s]"
      ]
     },
     "metadata": {},
     "output_type": "display_data"
    },
    {
     "name": "stderr",
     "output_type": "stream",
     "text": [
      "Potential NSFW content was detected in one or more images. A black image will be returned instead. Try again with a different prompt and/or seed.\n"
     ]
    },
    {
     "name": "stdout",
     "output_type": "stream",
     "text": [
      "{'file_name': 'IMG_2573_jpeg_jpg.rf.b7884c20265e0dd7cefe21da58643216.jpg', 'height': 1024, 'width': 768, 'creature': ['jellyfish', 'jellyfish', 'jellyfish', 'jellyfish', 'jellyfish', 'jellyfish', 'jellyfish', 'jellyfish', 'jellyfish'], 'bbox': [[0.23046875, 0.3759765625, 0.46354166666666663, 0.5537109375], [0.0, 0.248046875, 0.12239583333333333, 0.404296875], [0.24869791666666666, 0.8681640625, 0.3723958333333333, 1.0], [0.29296875, 0.7861328125, 0.5247395833333334, 0.916015625], [0.5559895833333334, 0.3916015625, 0.7356770833333334, 0.5078125], [0.0, 0.6787109375, 0.109375, 0.7919921875], [0.4453125, 0.2255859375, 0.6471354166666666, 0.3173828125], [0.609375, 0.0009765625, 0.7526041666666666, 0.07421875], [0.6015625, 0.26171875, 0.7317708333333334, 0.349609375]], 'n_box': 9, 'main_creature': 'jellyfish', 'gerated_caption': 'jellyfish in the ocean', 'prompt_wtemp1': 'jellyfish in the ocean, creature: jellyfish', 'prompt_wtemp2': 'jellyfish in the ocean, creature: jellyfish, height: 1024, width: 768'}\n",
      "prompt_wtemp2\n"
     ]
    },
    {
     "data": {
      "application/vnd.jupyter.widget-view+json": {
       "model_id": "93783214fa4843e99f0332aac2645f0c",
       "version_major": 2,
       "version_minor": 0
      },
      "text/plain": [
       "  0%|          | 0/50 [00:00<?, ?it/s]"
      ]
     },
     "metadata": {},
     "output_type": "display_data"
    },
    {
     "name": "stdout",
     "output_type": "stream",
     "text": [
      "{'file_name': 'IMG_8591_MOV-2_jpg.rf.fb399b446ec6ccc12bea5b9321486b34.jpg', 'height': 1024, 'width': 576, 'creature': ['jellyfish', 'jellyfish', 'jellyfish', 'jellyfish', 'jellyfish', 'jellyfish', 'jellyfish', 'jellyfish', 'jellyfish'], 'bbox': [[0.2881944444444444, 0.4716796875, 0.40451388888888884, 0.537109375], [0.6649305555555556, 0.7587890625, 0.8368055555555556, 0.818359375], [0.8142361111111112, 0.5947265625, 0.9427083333333334, 0.6533203125], [0.9392361111111112, 0.2392578125, 0.998263888888889, 0.28125], [0.0, 0.734375, 0.034722222222222224, 0.7705078125], [0.9513888888888888, 0.5107421875, 0.9982638888888888, 0.5478515625], [0.7725694444444444, 0.7568359375, 0.8315972222222222, 0.7900390625], [0.3663194444444444, 0.1103515625, 0.4583333333333333, 0.1376953125], [0.296875, 0.798828125, 0.3715277777777778, 0.83203125]], 'n_box': 9, 'main_creature': 'jellyfish', 'gerated_caption': 'a fish tank with a lot of fish in it', 'prompt_wtemp1': 'a fish tank with a lot of fish in it, creature: jellyfish', 'prompt_wtemp2': 'a fish tank with a lot of fish in it, creature: jellyfish, height: 1024, width: 576'}\n",
      "prompt_wtemp2\n"
     ]
    },
    {
     "data": {
      "application/vnd.jupyter.widget-view+json": {
       "model_id": "9d74c460e182408eb8c7c99aec501cc5",
       "version_major": 2,
       "version_minor": 0
      },
      "text/plain": [
       "  0%|          | 0/50 [00:00<?, ?it/s]"
      ]
     },
     "metadata": {},
     "output_type": "display_data"
    },
    {
     "name": "stdout",
     "output_type": "stream",
     "text": [
      "{'file_name': 'IMG_2467_jpeg_jpg.rf.50fbe34360e324a8ebb9c0ed262373c1.jpg', 'height': 1024, 'width': 768, 'creature': ['jellyfish', 'jellyfish', 'jellyfish', 'jellyfish', 'jellyfish', 'jellyfish', 'jellyfish', 'jellyfish', 'jellyfish', 'jellyfish'], 'bbox': [[0.48046875, 0.076171875, 0.7630208333333333, 0.2646484375], [0.640625, 0.4384765625, 0.8359375, 0.6240234375], [0.9440104166666666, 0.2705078125, 1.0, 0.4072265625], [0.1640625, 0.5888671875, 0.2552083333333333, 0.685546875], [0.3450520833333333, 0.37890625, 0.49869791666666663, 0.470703125], [0.4322916666666667, 0.7734375, 0.5950520833333334, 0.861328125], [0.0, 0.7119140625, 0.061197916666666664, 0.76953125], [0.18880208333333334, 0.375, 0.32552083333333337, 0.4306640625], [0.5885416666666666, 0.8466796875, 0.66796875, 0.8916015625], [0.70703125, 0.8662109375, 0.9049479166666666, 0.943359375]], 'n_box': 10, 'main_creature': 'jellyfish', 'gerated_caption': 'a large tank of jellyfish in a blue water', 'prompt_wtemp1': 'a large tank of jellyfish in a blue water, creature: jellyfish', 'prompt_wtemp2': 'a large tank of jellyfish in a blue water, creature: jellyfish, height: 1024, width: 768'}\n",
      "prompt_wtemp2\n"
     ]
    },
    {
     "data": {
      "application/vnd.jupyter.widget-view+json": {
       "model_id": "86360c94df4846b8bdda2dcab62ea8fa",
       "version_major": 2,
       "version_minor": 0
      },
      "text/plain": [
       "  0%|          | 0/50 [00:00<?, ?it/s]"
      ]
     },
     "metadata": {},
     "output_type": "display_data"
    },
    {
     "name": "stdout",
     "output_type": "stream",
     "text": [
      "{'file_name': 'IMG_2483_jpeg_jpg.rf.4cce5bab03a29d47dde28e0ffa71a3a0.jpg', 'height': 1024, 'width': 768, 'creature': ['jellyfish', 'jellyfish', 'jellyfish', 'jellyfish', 'jellyfish', 'jellyfish', 'jellyfish', 'jellyfish', 'jellyfish', 'jellyfish'], 'bbox': [[0.6770833333333334, 0.3681640625, 0.8971354166666667, 0.4931640625], [0.18619791666666666, 0.6435546875, 0.27734375, 0.740234375], [0.2994791666666667, 0.5361328125, 0.48046875, 0.6298828125], [0.12369791666666667, 0.380859375, 0.3736979166666667, 0.47265625], [0.18359375, 0.837890625, 0.34635416666666663, 0.927734375], [0.4401041666666667, 0.419921875, 0.5950520833333334, 0.5068359375], [0.5651041666666666, 0.353515625, 0.6796875, 0.43359375], [0.3671875, 0.7939453125, 0.4869791666666667, 0.861328125], [0.0234375, 0.876953125, 0.14453125, 0.9375], [0.049479166666666664, 0.9384765625, 0.18229166666666666, 0.9970703125]], 'n_box': 10, 'main_creature': 'jellyfish', 'gerated_caption': 'a group of jellyfish swimming in an aquarium', 'prompt_wtemp1': 'a group of jellyfish swimming in an aquarium, creature: jellyfish', 'prompt_wtemp2': 'a group of jellyfish swimming in an aquarium, creature: jellyfish, height: 1024, width: 768'}\n",
      "prompt_wtemp2\n"
     ]
    },
    {
     "data": {
      "application/vnd.jupyter.widget-view+json": {
       "model_id": "55130c1375ae49c3b148331a0ef54b41",
       "version_major": 2,
       "version_minor": 0
      },
      "text/plain": [
       "  0%|          | 0/50 [00:00<?, ?it/s]"
      ]
     },
     "metadata": {},
     "output_type": "display_data"
    },
    {
     "name": "stdout",
     "output_type": "stream",
     "text": [
      "{'file_name': 'IMG_2471_jpeg_jpg.rf.80259312a2c1b317d5b48f1937e53a07.jpg', 'height': 1024, 'width': 768, 'creature': ['jellyfish', 'jellyfish', 'jellyfish', 'jellyfish', 'jellyfish', 'jellyfish', 'jellyfish', 'jellyfish', 'jellyfish', 'jellyfish'], 'bbox': [[0.2513020833333333, 0.1123046875, 0.5572916666666666, 0.3330078125], [0.0, 0.826171875, 0.1640625, 0.9775390625], [0.0, 0.287109375, 0.125, 0.43359375], [0.5703125, 0.744140625, 0.7421875, 0.8896484375], [0.6627604166666666, 0.5498046875, 0.8111979166666666, 0.685546875], [0.6666666666666666, 0.2490234375, 0.9010416666666666, 0.3798828125], [0.20182291666666666, 0.7734375, 0.4505208333333333, 0.900390625], [0.0, 0.5498046875, 0.14453125, 0.677734375], [0.5325520833333334, 0.2314453125, 0.66796875, 0.3515625], [0.703125, 0.3310546875, 0.9127604166666666, 0.4248046875]], 'n_box': 10, 'main_creature': 'jellyfish', 'gerated_caption': 'jellyfish in the ocean', 'prompt_wtemp1': 'jellyfish in the ocean, creature: jellyfish', 'prompt_wtemp2': 'jellyfish in the ocean, creature: jellyfish, height: 1024, width: 768'}\n",
      "prompt_wtemp2\n"
     ]
    },
    {
     "data": {
      "application/vnd.jupyter.widget-view+json": {
       "model_id": "9c0013d1e583489c9ba55bf5832d591a",
       "version_major": 2,
       "version_minor": 0
      },
      "text/plain": [
       "  0%|          | 0/50 [00:00<?, ?it/s]"
      ]
     },
     "metadata": {},
     "output_type": "display_data"
    },
    {
     "name": "stdout",
     "output_type": "stream",
     "text": [
      "{'file_name': 'IMG_2476_jpeg_jpg.rf.8ccde2bbb1a8cc7205cbf4c0343ac96b.jpg', 'height': 1024, 'width': 768, 'creature': ['jellyfish', 'jellyfish', 'jellyfish', 'jellyfish', 'jellyfish', 'jellyfish', 'jellyfish', 'jellyfish', 'jellyfish', 'jellyfish', 'jellyfish'], 'bbox': [[0.4361979166666667, 0.130859375, 0.6940104166666667, 0.3203125], [0.2864583333333333, 0.150390625, 0.4583333333333333, 0.3125], [0.018229166666666668, 0.828125, 0.3385416666666667, 0.9853515625], [0.005208333333333333, 0.568359375, 0.19270833333333334, 0.7080078125], [0.22005208333333334, 0.55078125, 0.4609375, 0.6767578125], [0.020833333333333332, 0.0, 0.32421875, 0.1162109375], [0.27734375, 0.75, 0.48307291666666663, 0.8662109375], [0.6575520833333334, 0.6201171875, 0.890625, 0.7353515625], [0.9440104166666666, 0.697265625, 0.9986979166666666, 0.8017578125], [0.87890625, 0.8662109375, 0.9986979166666666, 0.9482421875], [0.93359375, 0.62890625, 0.9986979166666666, 0.6943359375]], 'n_box': 11, 'main_creature': 'jellyfish', 'gerated_caption': 'jellyfish swimming in the ocean', 'prompt_wtemp1': 'jellyfish swimming in the ocean, creature: jellyfish', 'prompt_wtemp2': 'jellyfish swimming in the ocean, creature: jellyfish, height: 1024, width: 768'}\n",
      "prompt_wtemp2\n"
     ]
    },
    {
     "data": {
      "application/vnd.jupyter.widget-view+json": {
       "model_id": "1248bef4882b4f479cc4bc956f16a2ee",
       "version_major": 2,
       "version_minor": 0
      },
      "text/plain": [
       "  0%|          | 0/50 [00:00<?, ?it/s]"
      ]
     },
     "metadata": {},
     "output_type": "display_data"
    },
    {
     "name": "stdout",
     "output_type": "stream",
     "text": [
      "{'file_name': 'IMG_2349_jpeg_jpg.rf.743d7a69284c7ee65b40548c2803bd34.jpg', 'height': 1024, 'width': 768, 'creature': ['penguin'], 'bbox': [[0.2109375, 0.3330078125, 0.8346354166666666, 0.6015625]], 'n_box': 1, 'main_creature': 'penguin', 'gerated_caption': 'a penguin swimming in an aquarium', 'prompt_wtemp1': 'a penguin swimming in an aquarium, creature: penguin', 'prompt_wtemp2': 'a penguin swimming in an aquarium, creature: penguin, height: 1024, width: 768'}\n",
      "prompt_wtemp2\n"
     ]
    },
    {
     "data": {
      "application/vnd.jupyter.widget-view+json": {
       "model_id": "6d58d2504ed84edc9652c2fa072aa681",
       "version_major": 2,
       "version_minor": 0
      },
      "text/plain": [
       "  0%|          | 0/50 [00:00<?, ?it/s]"
      ]
     },
     "metadata": {},
     "output_type": "display_data"
    },
    {
     "name": "stdout",
     "output_type": "stream",
     "text": [
      "{'file_name': 'IMG_2309_jpeg_jpg.rf.088f73ff0b07c30ce6212eb4e3013708.jpg', 'height': 1024, 'width': 768, 'creature': ['penguin'], 'bbox': [[0.3619791666666667, 0.4501953125, 0.6536458333333334, 0.515625]], 'n_box': 1, 'main_creature': 'penguin', 'gerated_caption': 'a blue fish swimming in the water', 'prompt_wtemp1': 'a blue fish swimming in the water, creature: penguin', 'prompt_wtemp2': 'a blue fish swimming in the water, creature: penguin, height: 1024, width: 768'}\n",
      "prompt_wtemp2\n"
     ]
    },
    {
     "data": {
      "application/vnd.jupyter.widget-view+json": {
       "model_id": "5161ed3388cb498da2cd5d3c65c12fec",
       "version_major": 2,
       "version_minor": 0
      },
      "text/plain": [
       "  0%|          | 0/50 [00:00<?, ?it/s]"
      ]
     },
     "metadata": {},
     "output_type": "display_data"
    },
    {
     "name": "stdout",
     "output_type": "stream",
     "text": [
      "{'file_name': 'IMG_2350_jpeg_jpg.rf.c77c8bea4bbacefbccb48673c5f40171.jpg', 'height': 1024, 'width': 768, 'creature': ['penguin'], 'bbox': [[0.50390625, 0.3037109375, 0.7916666666666667, 0.4560546875]], 'n_box': 1, 'main_creature': 'penguin', 'gerated_caption': 'a penguin swimming in the water near rocks', 'prompt_wtemp1': 'a penguin swimming in the water near rocks, creature: penguin', 'prompt_wtemp2': 'a penguin swimming in the water near rocks, creature: penguin, height: 1024, width: 768'}\n",
      "prompt_wtemp2\n"
     ]
    },
    {
     "data": {
      "application/vnd.jupyter.widget-view+json": {
       "model_id": "a64c276abb3c4b0a940caeb46f44a4b8",
       "version_major": 2,
       "version_minor": 0
      },
      "text/plain": [
       "  0%|          | 0/50 [00:00<?, ?it/s]"
      ]
     },
     "metadata": {},
     "output_type": "display_data"
    },
    {
     "name": "stdout",
     "output_type": "stream",
     "text": [
      "{'file_name': 'IMG_2316_jpeg_jpg.rf.bb8de66895ac8751f348c5df631f46ad.jpg', 'height': 1024, 'width': 768, 'creature': ['penguin'], 'bbox': [[0.0, 0.4501953125, 0.6666666666666666, 0.7021484375]], 'n_box': 1, 'main_creature': 'penguin', 'gerated_caption': 'a penguin swimming in the water', 'prompt_wtemp1': 'a penguin swimming in the water, creature: penguin', 'prompt_wtemp2': 'a penguin swimming in the water, creature: penguin, height: 1024, width: 768'}\n",
      "prompt_wtemp2\n"
     ]
    },
    {
     "data": {
      "application/vnd.jupyter.widget-view+json": {
       "model_id": "adba07dd79a64145ad1a420c04d740a6",
       "version_major": 2,
       "version_minor": 0
      },
      "text/plain": [
       "  0%|          | 0/50 [00:00<?, ?it/s]"
      ]
     },
     "metadata": {},
     "output_type": "display_data"
    },
    {
     "name": "stdout",
     "output_type": "stream",
     "text": [
      "{'file_name': 'IMG_2302_jpeg_jpg.rf.aa8d7da0c33370589f2b441c7ca26450.jpg', 'height': 1024, 'width': 768, 'creature': ['penguin'], 'bbox': [[0.2916666666666667, 0.4833984375, 0.6458333333333334, 0.5859375]], 'n_box': 1, 'main_creature': 'penguin', 'gerated_caption': 'a penguin swimming in an aquarium', 'prompt_wtemp1': 'a penguin swimming in an aquarium, creature: penguin', 'prompt_wtemp2': 'a penguin swimming in an aquarium, creature: penguin, height: 1024, width: 768'}\n",
      "prompt_wtemp2\n"
     ]
    },
    {
     "data": {
      "application/vnd.jupyter.widget-view+json": {
       "model_id": "dfd8ba8b38814dbfb5e7c69da53a9c19",
       "version_major": 2,
       "version_minor": 0
      },
      "text/plain": [
       "  0%|          | 0/50 [00:00<?, ?it/s]"
      ]
     },
     "metadata": {},
     "output_type": "display_data"
    },
    {
     "name": "stdout",
     "output_type": "stream",
     "text": [
      "{'file_name': 'IMG_2312_jpeg_jpg.rf.92a094761408320b749e7fd4e4b98b91.jpg', 'height': 1024, 'width': 768, 'creature': ['penguin'], 'bbox': [[0.21744791666666666, 0.4169921875, 1.0, 0.8203125]], 'n_box': 1, 'main_creature': 'penguin', 'gerated_caption': 'a penguin swimming in the water', 'prompt_wtemp1': 'a penguin swimming in the water, creature: penguin', 'prompt_wtemp2': 'a penguin swimming in the water, creature: penguin, height: 1024, width: 768'}\n",
      "prompt_wtemp2\n"
     ]
    },
    {
     "data": {
      "application/vnd.jupyter.widget-view+json": {
       "model_id": "f18900f690ff4bcd9eb72cda72022516",
       "version_major": 2,
       "version_minor": 0
      },
      "text/plain": [
       "  0%|          | 0/50 [00:00<?, ?it/s]"
      ]
     },
     "metadata": {},
     "output_type": "display_data"
    },
    {
     "name": "stdout",
     "output_type": "stream",
     "text": [
      "{'file_name': 'IMG_2310_jpeg_jpg.rf.89adac79fea2745dae17668703c85ba2.jpg', 'height': 1024, 'width': 768, 'creature': ['penguin'], 'bbox': [[0.3059895833333333, 0.2373046875, 0.6184895833333333, 0.642578125]], 'n_box': 1, 'main_creature': 'penguin', 'gerated_caption': 'a penguin is swimming in an aquarium', 'prompt_wtemp1': 'a penguin is swimming in an aquarium, creature: penguin', 'prompt_wtemp2': 'a penguin is swimming in an aquarium, creature: penguin, height: 1024, width: 768'}\n",
      "prompt_wtemp2\n"
     ]
    },
    {
     "data": {
      "application/vnd.jupyter.widget-view+json": {
       "model_id": "963cf859bd5a4500962f8723ff2d1493",
       "version_major": 2,
       "version_minor": 0
      },
      "text/plain": [
       "  0%|          | 0/50 [00:00<?, ?it/s]"
      ]
     },
     "metadata": {},
     "output_type": "display_data"
    },
    {
     "name": "stdout",
     "output_type": "stream",
     "text": [
      "{'file_name': 'IMG_2308_jpeg_jpg.rf.7f5bc9634b415d515784dc7ae7a83532.jpg', 'height': 1024, 'width': 768, 'creature': ['penguin'], 'bbox': [[0.10026041666666667, 0.3916015625, 0.7669270833333333, 0.70703125]], 'n_box': 1, 'main_creature': 'penguin', 'gerated_caption': 'a penguin swimming in the water', 'prompt_wtemp1': 'a penguin swimming in the water, creature: penguin', 'prompt_wtemp2': 'a penguin swimming in the water, creature: penguin, height: 1024, width: 768'}\n",
      "prompt_wtemp2\n"
     ]
    },
    {
     "data": {
      "application/vnd.jupyter.widget-view+json": {
       "model_id": "5fe8b1d71c674116af83f9afeb0eea10",
       "version_major": 2,
       "version_minor": 0
      },
      "text/plain": [
       "  0%|          | 0/50 [00:00<?, ?it/s]"
      ]
     },
     "metadata": {},
     "output_type": "display_data"
    },
    {
     "name": "stdout",
     "output_type": "stream",
     "text": [
      "{'file_name': 'IMG_2328_jpeg_jpg.rf.ee3309e0a5ab09d96d9ed30bc1c1115f.jpg', 'height': 1024, 'width': 768, 'creature': ['penguin'], 'bbox': [[0.3841145833333333, 0.5634765625, 0.5455729166666666, 0.6611328125]], 'n_box': 1, 'main_creature': 'penguin', 'gerated_caption': 'a turtle swimming in the water', 'prompt_wtemp1': 'a turtle swimming in the water, creature: penguin', 'prompt_wtemp2': 'a turtle swimming in the water, creature: penguin, height: 1024, width: 768'}\n",
      "prompt_wtemp2\n"
     ]
    },
    {
     "data": {
      "application/vnd.jupyter.widget-view+json": {
       "model_id": "2e55ac18d96b4cf1853d270f89398d75",
       "version_major": 2,
       "version_minor": 0
      },
      "text/plain": [
       "  0%|          | 0/50 [00:00<?, ?it/s]"
      ]
     },
     "metadata": {},
     "output_type": "display_data"
    },
    {
     "name": "stdout",
     "output_type": "stream",
     "text": [
      "{'file_name': 'IMG_2311_jpeg_jpg.rf.69797c0319ca881b5c5bc7637e9e7aa7.jpg', 'height': 1024, 'width': 768, 'creature': ['penguin'], 'bbox': [[0.07942708333333333, 0.37890625, 0.9192708333333334, 0.693359375]], 'n_box': 1, 'main_creature': 'penguin', 'gerated_caption': 'a penguin swimming in the water', 'prompt_wtemp1': 'a penguin swimming in the water, creature: penguin', 'prompt_wtemp2': 'a penguin swimming in the water, creature: penguin, height: 1024, width: 768'}\n",
      "prompt_wtemp2\n"
     ]
    },
    {
     "data": {
      "application/vnd.jupyter.widget-view+json": {
       "model_id": "5f57cb3947604428a7af9dabdc33eaaf",
       "version_major": 2,
       "version_minor": 0
      },
      "text/plain": [
       "  0%|          | 0/50 [00:00<?, ?it/s]"
      ]
     },
     "metadata": {},
     "output_type": "display_data"
    },
    {
     "name": "stdout",
     "output_type": "stream",
     "text": [
      "{'file_name': 'IMG_2330_jpeg_jpg.rf.5d358782dd868884a99f4f88841d2287.jpg', 'height': 1024, 'width': 768, 'creature': ['penguin'], 'bbox': [[0.19661458333333334, 0.42578125, 0.4921875, 0.6123046875]], 'n_box': 1, 'main_creature': 'penguin', 'gerated_caption': 'a penguin swimming in the water', 'prompt_wtemp1': 'a penguin swimming in the water, creature: penguin', 'prompt_wtemp2': 'a penguin swimming in the water, creature: penguin, height: 1024, width: 768'}\n",
      "prompt_wtemp2\n"
     ]
    },
    {
     "data": {
      "application/vnd.jupyter.widget-view+json": {
       "model_id": "f2e3e9bdb0c64d3fa5feb482ef9368a0",
       "version_major": 2,
       "version_minor": 0
      },
      "text/plain": [
       "  0%|          | 0/50 [00:00<?, ?it/s]"
      ]
     },
     "metadata": {},
     "output_type": "display_data"
    },
    {
     "name": "stdout",
     "output_type": "stream",
     "text": [
      "{'file_name': 'IMG_2338_jpeg_jpg.rf.e7ed2b02a8b79ecfbf78d943ab27d48c.jpg', 'height': 1024, 'width': 768, 'creature': ['penguin', 'penguin'], 'bbox': [[0.0013020833333333333, 0.6083984375, 0.6888020833333334, 0.8515625], [0.2513020833333333, 0.099609375, 0.74609375, 0.20703125]], 'n_box': 2, 'main_creature': 'penguin', 'gerated_caption': 'two penguins swimming in the water', 'prompt_wtemp1': 'two penguins swimming in the water, creature: penguin', 'prompt_wtemp2': 'two penguins swimming in the water, creature: penguin, height: 1024, width: 768'}\n",
      "prompt_wtemp2\n"
     ]
    },
    {
     "data": {
      "application/vnd.jupyter.widget-view+json": {
       "model_id": "5c323c8c011540af8ff2d8a627b72394",
       "version_major": 2,
       "version_minor": 0
      },
      "text/plain": [
       "  0%|          | 0/50 [00:00<?, ?it/s]"
      ]
     },
     "metadata": {},
     "output_type": "display_data"
    },
    {
     "name": "stdout",
     "output_type": "stream",
     "text": [
      "{'file_name': 'IMG_2352_jpeg_jpg.rf.b91c732f98fab8234ac4ec50f25a7c32.jpg', 'height': 1024, 'width': 768, 'creature': ['penguin', 'penguin'], 'bbox': [[0.53515625, 0.326171875, 0.96484375, 0.537109375], [0.14322916666666666, 0.431640625, 0.43229166666666663, 0.505859375]], 'n_box': 2, 'main_creature': 'penguin', 'gerated_caption': 'a penguin swimming in the water', 'prompt_wtemp1': 'a penguin swimming in the water, creature: penguin', 'prompt_wtemp2': 'a penguin swimming in the water, creature: penguin, height: 1024, width: 768'}\n",
      "prompt_wtemp2\n"
     ]
    },
    {
     "data": {
      "application/vnd.jupyter.widget-view+json": {
       "model_id": "47f193ec361645f7a822f5fe6dd8c5c5",
       "version_major": 2,
       "version_minor": 0
      },
      "text/plain": [
       "  0%|          | 0/50 [00:00<?, ?it/s]"
      ]
     },
     "metadata": {},
     "output_type": "display_data"
    },
    {
     "name": "stdout",
     "output_type": "stream",
     "text": [
      "{'file_name': 'IMG_2351_jpeg_jpg.rf.edf3aaeca6e2355052e41c0cc57f9cb6.jpg', 'height': 1024, 'width': 768, 'creature': ['penguin', 'penguin'], 'bbox': [[0.0, 0.28515625, 0.4661458333333333, 0.4833984375], [0.4453125, 0.4443359375, 0.796875, 0.50390625]], 'n_box': 2, 'main_creature': 'penguin', 'gerated_caption': 'penguins swimming in the water', 'prompt_wtemp1': 'penguins swimming in the water, creature: penguin', 'prompt_wtemp2': 'penguins swimming in the water, creature: penguin, height: 1024, width: 768'}\n",
      "prompt_wtemp2\n"
     ]
    },
    {
     "data": {
      "application/vnd.jupyter.widget-view+json": {
       "model_id": "bc12d250ab67497eb2113bf3042a344b",
       "version_major": 2,
       "version_minor": 0
      },
      "text/plain": [
       "  0%|          | 0/50 [00:00<?, ?it/s]"
      ]
     },
     "metadata": {},
     "output_type": "display_data"
    },
    {
     "name": "stdout",
     "output_type": "stream",
     "text": [
      "{'file_name': 'IMG_2327_jpeg_jpg.rf.23ca4add8919548516415c9fe02eedf6.jpg', 'height': 1024, 'width': 768, 'creature': ['penguin', 'penguin'], 'bbox': [[0.12369791666666667, 0.650390625, 0.69921875, 0.9560546875], [0.2630208333333333, 0.5068359375, 0.5247395833333333, 0.6005859375]], 'n_box': 2, 'main_creature': 'penguin', 'gerated_caption': 'two penguins swimming in the water', 'prompt_wtemp1': 'two penguins swimming in the water, creature: penguin', 'prompt_wtemp2': 'two penguins swimming in the water, creature: penguin, height: 1024, width: 768'}\n",
      "prompt_wtemp2\n"
     ]
    },
    {
     "data": {
      "application/vnd.jupyter.widget-view+json": {
       "model_id": "94249d60f1ca407a92c9057efe7483e0",
       "version_major": 2,
       "version_minor": 0
      },
      "text/plain": [
       "  0%|          | 0/50 [00:00<?, ?it/s]"
      ]
     },
     "metadata": {},
     "output_type": "display_data"
    },
    {
     "name": "stdout",
     "output_type": "stream",
     "text": [
      "{'file_name': 'IMG_2324_jpeg_jpg.rf.1f5efa1adc71c46d5037bdcd281056b9.jpg', 'height': 1024, 'width': 768, 'creature': ['penguin', 'penguin'], 'bbox': [[0.6341145833333334, 0.4345703125, 0.9986979166666667, 0.5712890625], [0.037760416666666664, 0.4892578125, 0.29817708333333337, 0.556640625]], 'n_box': 2, 'main_creature': 'penguin', 'gerated_caption': 'a penguin swimming in an aquarium with rocks', 'prompt_wtemp1': 'a penguin swimming in an aquarium with rocks, creature: penguin', 'prompt_wtemp2': 'a penguin swimming in an aquarium with rocks, creature: penguin, height: 1024, width: 768'}\n",
      "prompt_wtemp2\n"
     ]
    },
    {
     "data": {
      "application/vnd.jupyter.widget-view+json": {
       "model_id": "e852b72b997a460b8d39c86ba7599b85",
       "version_major": 2,
       "version_minor": 0
      },
      "text/plain": [
       "  0%|          | 0/50 [00:00<?, ?it/s]"
      ]
     },
     "metadata": {},
     "output_type": "display_data"
    },
    {
     "name": "stdout",
     "output_type": "stream",
     "text": [
      "{'file_name': 'IMG_2528_jpeg_jpg.rf.2bd17b3a6751de79eab0f91356230d98.jpg', 'height': 1024, 'width': 768, 'creature': ['penguin', 'penguin'], 'bbox': [[0.44921875, 0.3974609375, 0.8932291666666667, 0.587890625], [0.20963541666666666, 0.4970703125, 0.45182291666666663, 0.5595703125]], 'n_box': 2, 'main_creature': 'penguin', 'gerated_caption': 'a penguin swimming in the water', 'prompt_wtemp1': 'a penguin swimming in the water, creature: penguin', 'prompt_wtemp2': 'a penguin swimming in the water, creature: penguin, height: 1024, width: 768'}\n",
      "prompt_wtemp2\n"
     ]
    },
    {
     "data": {
      "application/vnd.jupyter.widget-view+json": {
       "model_id": "d4df6c8a37f046989b3f4877ab56c51f",
       "version_major": 2,
       "version_minor": 0
      },
      "text/plain": [
       "  0%|          | 0/50 [00:00<?, ?it/s]"
      ]
     },
     "metadata": {},
     "output_type": "display_data"
    },
    {
     "name": "stdout",
     "output_type": "stream",
     "text": [
      "{'file_name': 'IMG_2527_jpeg_jpg.rf.3de0e3c95781ea109647310c017ca1fc.jpg', 'height': 1024, 'width': 768, 'creature': ['penguin', 'penguin'], 'bbox': [[0.33984375, 0.412109375, 0.8815104166666666, 0.64453125], [0.21875, 0.48828125, 0.37239583333333337, 0.568359375]], 'n_box': 2, 'main_creature': 'penguin', 'gerated_caption': 'a penguin swimming in an aquarium with rocks', 'prompt_wtemp1': 'a penguin swimming in an aquarium with rocks, creature: penguin', 'prompt_wtemp2': 'a penguin swimming in an aquarium with rocks, creature: penguin, height: 1024, width: 768'}\n",
      "prompt_wtemp2\n"
     ]
    },
    {
     "data": {
      "application/vnd.jupyter.widget-view+json": {
       "model_id": "0ba350077f62447f9ef3ce16ba4921c3",
       "version_major": 2,
       "version_minor": 0
      },
      "text/plain": [
       "  0%|          | 0/50 [00:00<?, ?it/s]"
      ]
     },
     "metadata": {},
     "output_type": "display_data"
    },
    {
     "name": "stdout",
     "output_type": "stream",
     "text": [
      "{'file_name': 'IMG_2331_jpeg_jpg.rf.430bebeabaa960aedfce00821dbf1823.jpg', 'height': 1024, 'width': 768, 'creature': ['penguin', 'penguin'], 'bbox': [[0.0, 0.1875, 0.33203125, 0.521484375], [0.3190104166666667, 0.599609375, 0.6315104166666667, 0.6953125]], 'n_box': 2, 'main_creature': 'penguin', 'gerated_caption': 'two penguins swimming in the water', 'prompt_wtemp1': 'two penguins swimming in the water, creature: penguin', 'prompt_wtemp2': 'two penguins swimming in the water, creature: penguin, height: 1024, width: 768'}\n",
      "prompt_wtemp2\n"
     ]
    },
    {
     "data": {
      "application/vnd.jupyter.widget-view+json": {
       "model_id": "c3a2f4d57d014f23841c9435ec637315",
       "version_major": 2,
       "version_minor": 0
      },
      "text/plain": [
       "  0%|          | 0/50 [00:00<?, ?it/s]"
      ]
     },
     "metadata": {},
     "output_type": "display_data"
    },
    {
     "name": "stdout",
     "output_type": "stream",
     "text": [
      "{'file_name': 'IMG_2529_jpeg_jpg.rf.16e64348ddac68d55ee82e98b0258080.jpg', 'height': 1024, 'width': 768, 'creature': ['penguin', 'penguin', 'penguin'], 'bbox': [[0.08723958333333333, 0.544921875, 0.796875, 0.78515625], [0.4427083333333333, 0.130859375, 0.84765625, 0.3095703125], [0.0625, 0.1787109375, 0.28645833333333337, 0.244140625]], 'n_box': 3, 'main_creature': 'penguin', 'gerated_caption': 'a penguin swimming in an aquarium', 'prompt_wtemp1': 'a penguin swimming in an aquarium, creature: penguin', 'prompt_wtemp2': 'a penguin swimming in an aquarium, creature: penguin, height: 1024, width: 768'}\n",
      "prompt_wtemp2\n"
     ]
    },
    {
     "data": {
      "application/vnd.jupyter.widget-view+json": {
       "model_id": "feda0befd78b477c8fc850269bfde8ad",
       "version_major": 2,
       "version_minor": 0
      },
      "text/plain": [
       "  0%|          | 0/50 [00:00<?, ?it/s]"
      ]
     },
     "metadata": {},
     "output_type": "display_data"
    },
    {
     "name": "stdout",
     "output_type": "stream",
     "text": [
      "{'file_name': 'IMG_2290_jpeg_jpg.rf.3698fd48defd03b2550f7ba8b68314ee.jpg', 'height': 1024, 'width': 768, 'creature': ['puffin'], 'bbox': [[0.2903645833333333, 0.302734375, 0.8763020833333333, 0.6884765625]], 'n_box': 1, 'main_creature': 'puffin', 'gerated_caption': 'a penguin is flying in the water', 'prompt_wtemp1': 'a penguin is flying in the water, creature: puffin', 'prompt_wtemp2': 'a penguin is flying in the water, creature: puffin, height: 1024, width: 768'}\n",
      "prompt_wtemp2\n"
     ]
    },
    {
     "data": {
      "application/vnd.jupyter.widget-view+json": {
       "model_id": "1bf487ae08b44c268a535d2d4fc67029",
       "version_major": 2,
       "version_minor": 0
      },
      "text/plain": [
       "  0%|          | 0/50 [00:00<?, ?it/s]"
      ]
     },
     "metadata": {},
     "output_type": "display_data"
    },
    {
     "name": "stdout",
     "output_type": "stream",
     "text": [
      "{'file_name': 'IMG_2282_jpeg_jpg.rf.510f3bc14c3e0aa378b192199d01cae6.jpg', 'height': 1024, 'width': 768, 'creature': ['puffin'], 'bbox': [[0.41015625, 0.412109375, 0.7877604166666667, 0.5537109375]], 'n_box': 1, 'main_creature': 'puffin', 'gerated_caption': 'a penguin swimming in a pond', 'prompt_wtemp1': 'a penguin swimming in a pond, creature: puffin', 'prompt_wtemp2': 'a penguin swimming in a pond, creature: puffin, height: 1024, width: 768'}\n",
      "prompt_wtemp2\n"
     ]
    },
    {
     "data": {
      "application/vnd.jupyter.widget-view+json": {
       "model_id": "24f8fa2a809b4b9397a447f4dad0c398",
       "version_major": 2,
       "version_minor": 0
      },
      "text/plain": [
       "  0%|          | 0/50 [00:00<?, ?it/s]"
      ]
     },
     "metadata": {},
     "output_type": "display_data"
    },
    {
     "name": "stdout",
     "output_type": "stream",
     "text": [
      "{'file_name': 'IMG_3132_jpeg_jpg.rf.bc9492bc4b33309ca664cc27baa03a1b.jpg', 'height': 1024, 'width': 768, 'creature': ['puffin'], 'bbox': [[0.3502604166666667, 0.2529296875, 0.44140625, 0.37109375]], 'n_box': 1, 'main_creature': 'puffin', 'gerated_caption': 'a man is swimming in the water', 'prompt_wtemp1': 'a man is swimming in the water, creature: puffin', 'prompt_wtemp2': 'a man is swimming in the water, creature: puffin, height: 1024, width: 768'}\n",
      "prompt_wtemp2\n"
     ]
    },
    {
     "data": {
      "application/vnd.jupyter.widget-view+json": {
       "model_id": "3dc99fb6e8434e13a4c11e19a9b5e017",
       "version_major": 2,
       "version_minor": 0
      },
      "text/plain": [
       "  0%|          | 0/50 [00:00<?, ?it/s]"
      ]
     },
     "metadata": {},
     "output_type": "display_data"
    },
    {
     "name": "stdout",
     "output_type": "stream",
     "text": [
      "{'file_name': 'IMG_2295_jpeg_jpg.rf.498a525f58666743ef5d65b7f6438adc.jpg', 'height': 1024, 'width': 768, 'creature': ['puffin'], 'bbox': [[0.44921875, 0.419921875, 0.7526041666666667, 0.51953125]], 'n_box': 1, 'main_creature': 'puffin', 'gerated_caption': 'a penguin swimming in an aquarium with rocks', 'prompt_wtemp1': 'a penguin swimming in an aquarium with rocks, creature: puffin', 'prompt_wtemp2': 'a penguin swimming in an aquarium with rocks, creature: puffin, height: 1024, width: 768'}\n",
      "prompt_wtemp2\n"
     ]
    },
    {
     "data": {
      "application/vnd.jupyter.widget-view+json": {
       "model_id": "fe96a3a9fad04d339de52ab3ad89b058",
       "version_major": 2,
       "version_minor": 0
      },
      "text/plain": [
       "  0%|          | 0/50 [00:00<?, ?it/s]"
      ]
     },
     "metadata": {},
     "output_type": "display_data"
    },
    {
     "name": "stdout",
     "output_type": "stream",
     "text": [
      "{'file_name': 'IMG_2520_jpeg_jpg.rf.4cab9c74da59c93865ed205f4dcf8c46.jpg', 'height': 1024, 'width': 768, 'creature': ['puffin'], 'bbox': [[0.17838541666666666, 0.306640625, 0.46354166666666663, 0.4794921875]], 'n_box': 1, 'main_creature': 'puffin', 'gerated_caption': 'a large aquarium with a large fish in it', 'prompt_wtemp1': 'a large aquarium with a large fish in it, creature: puffin', 'prompt_wtemp2': 'a large aquarium with a large fish in it, creature: puffin, height: 1024, width: 768'}\n",
      "prompt_wtemp2\n"
     ]
    },
    {
     "data": {
      "application/vnd.jupyter.widget-view+json": {
       "model_id": "4506108329844caf97b2b55fb1ee1421",
       "version_major": 2,
       "version_minor": 0
      },
      "text/plain": [
       "  0%|          | 0/50 [00:00<?, ?it/s]"
      ]
     },
     "metadata": {},
     "output_type": "display_data"
    },
    {
     "name": "stdout",
     "output_type": "stream",
     "text": [
      "{'file_name': 'IMG_2294_jpeg_jpg.rf.be432d5740148075ba72a4194c788a0c.jpg', 'height': 1024, 'width': 768, 'creature': ['puffin'], 'bbox': [[0.08984375, 0.1513671875, 0.22395833333333334, 0.2431640625]], 'n_box': 1, 'main_creature': 'puffin', 'gerated_caption': 'penguins swimming in the water at the zoo', 'prompt_wtemp1': 'penguins swimming in the water at the zoo, creature: puffin', 'prompt_wtemp2': 'penguins swimming in the water at the zoo, creature: puffin, height: 1024, width: 768'}\n",
      "prompt_wtemp2\n"
     ]
    },
    {
     "data": {
      "application/vnd.jupyter.widget-view+json": {
       "model_id": "2fa4c0f89e654016b05e16dc49d4eac6",
       "version_major": 2,
       "version_minor": 0
      },
      "text/plain": [
       "  0%|          | 0/50 [00:00<?, ?it/s]"
      ]
     },
     "metadata": {},
     "output_type": "display_data"
    },
    {
     "name": "stdout",
     "output_type": "stream",
     "text": [
      "{'file_name': 'IMG_2287_jpeg_jpg.rf.cce12b7bb4e49aa145398504aef84c99.jpg', 'height': 1024, 'width': 768, 'creature': ['puffin'], 'bbox': [[0.08333333333333333, 0.16796875, 0.7317708333333334, 0.6630859375]], 'n_box': 1, 'main_creature': 'puffin', 'gerated_caption': 'a penguin swimming in the water', 'prompt_wtemp1': 'a penguin swimming in the water, creature: puffin', 'prompt_wtemp2': 'a penguin swimming in the water, creature: puffin, height: 1024, width: 768'}\n",
      "prompt_wtemp2\n"
     ]
    },
    {
     "data": {
      "application/vnd.jupyter.widget-view+json": {
       "model_id": "7bb90431b3bb423aaad7219f068b9114",
       "version_major": 2,
       "version_minor": 0
      },
      "text/plain": [
       "  0%|          | 0/50 [00:00<?, ?it/s]"
      ]
     },
     "metadata": {},
     "output_type": "display_data"
    },
    {
     "name": "stdout",
     "output_type": "stream",
     "text": [
      "{'file_name': 'IMG_2524_jpeg_jpg.rf.87f4a069ac66bc31523d434d04f9d2d6.jpg', 'height': 1024, 'width': 768, 'creature': ['puffin'], 'bbox': [[0.359375, 0.37890625, 0.7916666666666667, 0.69140625]], 'n_box': 1, 'main_creature': 'puffin', 'gerated_caption': 'a bird swimming in the water', 'prompt_wtemp1': 'a bird swimming in the water, creature: puffin', 'prompt_wtemp2': 'a bird swimming in the water, creature: puffin, height: 1024, width: 768'}\n",
      "prompt_wtemp2\n"
     ]
    },
    {
     "data": {
      "application/vnd.jupyter.widget-view+json": {
       "model_id": "20af889e91094f609bb951f5a23cbdf5",
       "version_major": 2,
       "version_minor": 0
      },
      "text/plain": [
       "  0%|          | 0/50 [00:00<?, ?it/s]"
      ]
     },
     "metadata": {},
     "output_type": "display_data"
    },
    {
     "name": "stdout",
     "output_type": "stream",
     "text": [
      "{'file_name': 'IMG_3156_jpeg_jpg.rf.330ea62dfe1c5108c408331acc17cd6a.jpg', 'height': 1024, 'width': 768, 'creature': ['puffin'], 'bbox': [[0.46484375, 0.28125, 0.6940104166666666, 0.38671875]], 'n_box': 1, 'main_creature': 'puffin', 'gerated_caption': 'a penguin swimming in a tank', 'prompt_wtemp1': 'a penguin swimming in a tank, creature: puffin', 'prompt_wtemp2': 'a penguin swimming in a tank, creature: puffin, height: 1024, width: 768'}\n",
      "prompt_wtemp2\n"
     ]
    },
    {
     "data": {
      "application/vnd.jupyter.widget-view+json": {
       "model_id": "604480f7b5894acb8c0b24795fff1d6c",
       "version_major": 2,
       "version_minor": 0
      },
      "text/plain": [
       "  0%|          | 0/50 [00:00<?, ?it/s]"
      ]
     },
     "metadata": {},
     "output_type": "display_data"
    },
    {
     "name": "stdout",
     "output_type": "stream",
     "text": [
      "{'file_name': 'IMG_2291_jpeg_jpg.rf.78e908bd2cc12eafc40a5bf3101b8b39.jpg', 'height': 1024, 'width': 768, 'creature': ['puffin'], 'bbox': [[0.2825520833333333, 0.2373046875, 0.9609375, 0.5029296875]], 'n_box': 1, 'main_creature': 'puffin', 'gerated_caption': 'a bird is swimming in the water', 'prompt_wtemp1': 'a bird is swimming in the water, creature: puffin', 'prompt_wtemp2': 'a bird is swimming in the water, creature: puffin, height: 1024, width: 768'}\n",
      "prompt_wtemp2\n"
     ]
    },
    {
     "data": {
      "application/vnd.jupyter.widget-view+json": {
       "model_id": "2d08727fd72d4b39bf3353b293aada25",
       "version_major": 2,
       "version_minor": 0
      },
      "text/plain": [
       "  0%|          | 0/50 [00:00<?, ?it/s]"
      ]
     },
     "metadata": {},
     "output_type": "display_data"
    },
    {
     "name": "stdout",
     "output_type": "stream",
     "text": [
      "{'file_name': 'IMG_2292_jpeg_jpg.rf.122a0051d4d65d8651089a2ebbc2ed85.jpg', 'height': 1024, 'width': 768, 'creature': ['puffin'], 'bbox': [[0.19140625, 0.234375, 0.84765625, 0.6328125]], 'n_box': 1, 'main_creature': 'puffin', 'gerated_caption': 'a penguin swimming in the water', 'prompt_wtemp1': 'a penguin swimming in the water, creature: puffin', 'prompt_wtemp2': 'a penguin swimming in the water, creature: puffin, height: 1024, width: 768'}\n",
      "prompt_wtemp2\n"
     ]
    },
    {
     "data": {
      "application/vnd.jupyter.widget-view+json": {
       "model_id": "d443a3e2a6064eb2ad39a6e438f7e3ed",
       "version_major": 2,
       "version_minor": 0
      },
      "text/plain": [
       "  0%|          | 0/50 [00:00<?, ?it/s]"
      ]
     },
     "metadata": {},
     "output_type": "display_data"
    },
    {
     "name": "stdout",
     "output_type": "stream",
     "text": [
      "{'file_name': 'IMG_2293_jpeg_jpg.rf.0a25194b094d64e91068eaa7fcaf4feb.jpg', 'height': 1024, 'width': 768, 'creature': ['puffin'], 'bbox': [[0.22526041666666666, 0.322265625, 0.6588541666666666, 0.6796875]], 'n_box': 1, 'main_creature': 'puffin', 'gerated_caption': 'a penguin swimming in the water', 'prompt_wtemp1': 'a penguin swimming in the water, creature: puffin', 'prompt_wtemp2': 'a penguin swimming in the water, creature: puffin, height: 1024, width: 768'}\n",
      "prompt_wtemp2\n"
     ]
    },
    {
     "data": {
      "application/vnd.jupyter.widget-view+json": {
       "model_id": "1617fd1b064e4d4c93194cc37e2b3506",
       "version_major": 2,
       "version_minor": 0
      },
      "text/plain": [
       "  0%|          | 0/50 [00:00<?, ?it/s]"
      ]
     },
     "metadata": {},
     "output_type": "display_data"
    },
    {
     "name": "stdout",
     "output_type": "stream",
     "text": [
      "{'file_name': 'IMG_3160_jpeg_jpg.rf.05d38ee75197d98ea070e8aa03a5bfcb.jpg', 'height': 1024, 'width': 768, 'creature': ['puffin'], 'bbox': [[0.3619791666666667, 0.53515625, 0.6041666666666667, 0.7255859375]], 'n_box': 1, 'main_creature': 'puffin', 'gerated_caption': 'a penguin swimming in an aquarium', 'prompt_wtemp1': 'a penguin swimming in an aquarium, creature: puffin', 'prompt_wtemp2': 'a penguin swimming in an aquarium, creature: puffin, height: 1024, width: 768'}\n",
      "prompt_wtemp2\n"
     ]
    },
    {
     "data": {
      "application/vnd.jupyter.widget-view+json": {
       "model_id": "97dcdbbceb5242478ecbecbc01e39d85",
       "version_major": 2,
       "version_minor": 0
      },
      "text/plain": [
       "  0%|          | 0/50 [00:00<?, ?it/s]"
      ]
     },
     "metadata": {},
     "output_type": "display_data"
    },
    {
     "name": "stdout",
     "output_type": "stream",
     "text": [
      "{'file_name': 'IMG_3149_jpeg_jpg.rf.ec910aff6521c2af1a1bcbe5887b07f7.jpg', 'height': 1024, 'width': 768, 'creature': ['puffin'], 'bbox': [[0.24088541666666666, 0.162109375, 0.6067708333333334, 0.5859375]], 'n_box': 1, 'main_creature': 'puffin', 'gerated_caption': 'a bird is swimming in the water', 'prompt_wtemp1': 'a bird is swimming in the water, creature: puffin', 'prompt_wtemp2': 'a bird is swimming in the water, creature: puffin, height: 1024, width: 768'}\n",
      "prompt_wtemp2\n"
     ]
    },
    {
     "data": {
      "application/vnd.jupyter.widget-view+json": {
       "model_id": "d5c1aa49f5af40b2a8dc649f079159d3",
       "version_major": 2,
       "version_minor": 0
      },
      "text/plain": [
       "  0%|          | 0/50 [00:00<?, ?it/s]"
      ]
     },
     "metadata": {},
     "output_type": "display_data"
    },
    {
     "name": "stdout",
     "output_type": "stream",
     "text": [
      "{'file_name': 'IMG_3146_jpeg_jpg.rf.2a4d1b21ca18859f03d310845ee1a426.jpg', 'height': 1024, 'width': 768, 'creature': ['puffin'], 'bbox': [[0.22395833333333334, 0.3818359375, 0.6614583333333334, 0.7001953125]], 'n_box': 1, 'main_creature': 'puffin', 'gerated_caption': 'a bird swimming in the water', 'prompt_wtemp1': 'a bird swimming in the water, creature: puffin', 'prompt_wtemp2': 'a bird swimming in the water, creature: puffin, height: 1024, width: 768'}\n",
      "prompt_wtemp2\n"
     ]
    },
    {
     "data": {
      "application/vnd.jupyter.widget-view+json": {
       "model_id": "899a2168ad4445768e0016906e2da429",
       "version_major": 2,
       "version_minor": 0
      },
      "text/plain": [
       "  0%|          | 0/50 [00:00<?, ?it/s]"
      ]
     },
     "metadata": {},
     "output_type": "display_data"
    },
    {
     "name": "stdout",
     "output_type": "stream",
     "text": [
      "{'file_name': 'IMG_3155_jpeg_jpg.rf.126609905e993daff169f85e1846a21e.jpg', 'height': 1024, 'width': 768, 'creature': ['puffin', 'fish'], 'bbox': [[0.4270833333333333, 0.482421875, 0.640625, 0.677734375], [0.5625, 0.162109375, 0.71484375, 0.2353515625]], 'n_box': 2, 'main_creature': 'puffin', 'gerated_caption': 'a bird is swimming in the water', 'prompt_wtemp1': 'a bird is swimming in the water, creature: puffin', 'prompt_wtemp2': 'a bird is swimming in the water, creature: puffin, height: 1024, width: 768'}\n",
      "prompt_wtemp2\n"
     ]
    },
    {
     "data": {
      "application/vnd.jupyter.widget-view+json": {
       "model_id": "7ef5d36a1c2b413698b9118142f1e769",
       "version_major": 2,
       "version_minor": 0
      },
      "text/plain": [
       "  0%|          | 0/50 [00:00<?, ?it/s]"
      ]
     },
     "metadata": {},
     "output_type": "display_data"
    },
    {
     "name": "stdout",
     "output_type": "stream",
     "text": [
      "{'file_name': 'IMG_2296_jpeg_jpg.rf.56a86afeeeb9a6c12746f77b7346ff19.jpg', 'height': 1024, 'width': 768, 'creature': ['puffin', 'puffin'], 'bbox': [[0.4153645833333333, 0.1162109375, 0.6653645833333333, 0.220703125], [0.5963541666666666, 0.552734375, 0.8424479166666666, 0.6494140625]], 'n_box': 2, 'main_creature': 'puffin', 'gerated_caption': 'a group of penguins swimming in the water', 'prompt_wtemp1': 'a group of penguins swimming in the water, creature: puffin', 'prompt_wtemp2': 'a group of penguins swimming in the water, creature: puffin, height: 1024, width: 768'}\n",
      "prompt_wtemp2\n"
     ]
    },
    {
     "data": {
      "application/vnd.jupyter.widget-view+json": {
       "model_id": "38b5933a326743f6b382d4761a1d4b76",
       "version_major": 2,
       "version_minor": 0
      },
      "text/plain": [
       "  0%|          | 0/50 [00:00<?, ?it/s]"
      ]
     },
     "metadata": {},
     "output_type": "display_data"
    },
    {
     "name": "stdout",
     "output_type": "stream",
     "text": [
      "{'file_name': 'IMG_3151_jpeg_jpg.rf.6850702bb295c76afc9dd667b8d827dc.jpg', 'height': 1024, 'width': 768, 'creature': ['puffin', 'puffin'], 'bbox': [[0.35546875, 0.4560546875, 0.6419270833333333, 0.5654296875], [0.5416666666666666, 0.1650390625, 0.6588541666666666, 0.2587890625]], 'n_box': 2, 'main_creature': 'puffin', 'gerated_caption': 'a giraffe swimming in the water', 'prompt_wtemp1': 'a giraffe swimming in the water, creature: puffin', 'prompt_wtemp2': 'a giraffe swimming in the water, creature: puffin, height: 1024, width: 768'}\n",
      "prompt_wtemp2\n"
     ]
    },
    {
     "data": {
      "application/vnd.jupyter.widget-view+json": {
       "model_id": "66496015d8544198923817a7904963e3",
       "version_major": 2,
       "version_minor": 0
      },
      "text/plain": [
       "  0%|          | 0/50 [00:00<?, ?it/s]"
      ]
     },
     "metadata": {},
     "output_type": "display_data"
    },
    {
     "name": "stdout",
     "output_type": "stream",
     "text": [
      "{'file_name': 'IMG_3148_jpeg_jpg.rf.daef4a62da020f684a31336a19f54ee8.jpg', 'height': 1024, 'width': 768, 'creature': ['puffin', 'puffin', 'puffin'], 'bbox': [[0.0, 0.2001953125, 0.9986979166666666, 0.83984375], [0.5989583333333334, 0.2939453125, 0.6940104166666667, 0.3798828125], [0.52734375, 0.265625, 0.6041666666666666, 0.3486328125]], 'n_box': 3, 'main_creature': 'puffin', 'gerated_caption': 'a bird is swimming in the water', 'prompt_wtemp1': 'a bird is swimming in the water, creature: puffin', 'prompt_wtemp2': 'a bird is swimming in the water, creature: puffin, height: 1024, width: 768'}\n",
      "prompt_wtemp2\n"
     ]
    },
    {
     "data": {
      "application/vnd.jupyter.widget-view+json": {
       "model_id": "1a262b67f1734d60bed245185f01ce5a",
       "version_major": 2,
       "version_minor": 0
      },
      "text/plain": [
       "  0%|          | 0/50 [00:00<?, ?it/s]"
      ]
     },
     "metadata": {},
     "output_type": "display_data"
    },
    {
     "name": "stdout",
     "output_type": "stream",
     "text": [
      "{'file_name': 'IMG_3152_jpeg_jpg.rf.e018fb206e9194f3536a290f0c649274.jpg', 'height': 1024, 'width': 768, 'creature': ['puffin', 'puffin', 'puffin'], 'bbox': [[0.20963541666666666, 0.1279296875, 0.4388020833333333, 0.216796875], [0.0, 0.0341796875, 0.07552083333333333, 0.0927734375], [0.3515625, 0.59375, 0.5651041666666666, 0.732421875]], 'n_box': 3, 'main_creature': 'puffin', 'gerated_caption': 'a penguin swimming in an aquarium', 'prompt_wtemp1': 'a penguin swimming in an aquarium, creature: puffin', 'prompt_wtemp2': 'a penguin swimming in an aquarium, creature: puffin, height: 1024, width: 768'}\n",
      "prompt_wtemp2\n"
     ]
    },
    {
     "data": {
      "application/vnd.jupyter.widget-view+json": {
       "model_id": "19b68094038143db802f1767b2de1592",
       "version_major": 2,
       "version_minor": 0
      },
      "text/plain": [
       "  0%|          | 0/50 [00:00<?, ?it/s]"
      ]
     },
     "metadata": {},
     "output_type": "display_data"
    },
    {
     "name": "stdout",
     "output_type": "stream",
     "text": [
      "{'file_name': 'IMG_8410_jpg.rf.080d0f9f09ffb56da86e800ed8e37df7.jpg', 'height': 768, 'width': 1024, 'creature': ['shark'], 'bbox': [[0.3857421875, 0.2578125, 0.6484375, 0.8528645833333334]], 'n_box': 1, 'main_creature': 'shark', 'gerated_caption': 'a shark swimming in an aquarium with a blue background', 'prompt_wtemp1': 'a shark swimming in an aquarium with a blue background, creature: shark', 'prompt_wtemp2': 'a shark swimming in an aquarium with a blue background, creature: shark, height: 768, width: 1024'}\n",
      "prompt_wtemp2\n"
     ]
    },
    {
     "data": {
      "application/vnd.jupyter.widget-view+json": {
       "model_id": "8f960d73dc024a30ba3cd73983d3a98c",
       "version_major": 2,
       "version_minor": 0
      },
      "text/plain": [
       "  0%|          | 0/50 [00:00<?, ?it/s]"
      ]
     },
     "metadata": {},
     "output_type": "display_data"
    },
    {
     "name": "stdout",
     "output_type": "stream",
     "text": [
      "{'file_name': 'IMG_8439_jpg.rf.e784fd1e3cd2e38fb7c169e2e54ad91e.jpg', 'height': 768, 'width': 1024, 'creature': ['shark'], 'bbox': [[0.28515625, 0.13020833333333334, 0.4677734375, 0.9153645833333334]], 'n_box': 1, 'main_creature': 'shark', 'gerated_caption': 'a man looking at a shark in a glass enclosure', 'prompt_wtemp1': 'a man looking at a shark in a glass enclosure, creature: shark', 'prompt_wtemp2': 'a man looking at a shark in a glass enclosure, creature: shark, height: 768, width: 1024'}\n",
      "prompt_wtemp2\n"
     ]
    },
    {
     "data": {
      "application/vnd.jupyter.widget-view+json": {
       "model_id": "720a049898724340b2c8abb73e66b40c",
       "version_major": 2,
       "version_minor": 0
      },
      "text/plain": [
       "  0%|          | 0/50 [00:00<?, ?it/s]"
      ]
     },
     "metadata": {},
     "output_type": "display_data"
    },
    {
     "name": "stdout",
     "output_type": "stream",
     "text": [
      "{'file_name': 'IMG_8571_MOV-5_jpg.rf.c8b11ac37b7b57b79bba5e4aec07ad73.jpg', 'height': 1024, 'width': 576, 'creature': ['shark'], 'bbox': [[0.0, 0.435546875, 0.2065972222222222, 0.5927734375]], 'n_box': 1, 'main_creature': 'shark', 'gerated_caption': 'a shark swimming in the dark at night', 'prompt_wtemp1': 'a shark swimming in the dark at night, creature: shark', 'prompt_wtemp2': 'a shark swimming in the dark at night, creature: shark, height: 1024, width: 576'}\n",
      "prompt_wtemp2\n"
     ]
    },
    {
     "data": {
      "application/vnd.jupyter.widget-view+json": {
       "model_id": "cd2ffb49690548a2b5e0c85cfc7b1763",
       "version_major": 2,
       "version_minor": 0
      },
      "text/plain": [
       "  0%|          | 0/50 [00:00<?, ?it/s]"
      ]
     },
     "metadata": {},
     "output_type": "display_data"
    },
    {
     "name": "stdout",
     "output_type": "stream",
     "text": [
      "{'file_name': 'IMG_2515_jpeg_jpg.rf.c7255981abc23128903ac9ece1b4d8b5.jpg', 'height': 1024, 'width': 768, 'creature': ['shark'], 'bbox': [[0.38671875, 0.505859375, 0.7734375, 0.6630859375]], 'n_box': 1, 'main_creature': 'shark', 'gerated_caption': 'a shark swimming in an aquarium', 'prompt_wtemp1': 'a shark swimming in an aquarium, creature: shark', 'prompt_wtemp2': 'a shark swimming in an aquarium, creature: shark, height: 1024, width: 768'}\n",
      "prompt_wtemp2\n"
     ]
    },
    {
     "data": {
      "application/vnd.jupyter.widget-view+json": {
       "model_id": "d63b26ba7263407db6c84532ec99940f",
       "version_major": 2,
       "version_minor": 0
      },
      "text/plain": [
       "  0%|          | 0/50 [00:00<?, ?it/s]"
      ]
     },
     "metadata": {},
     "output_type": "display_data"
    },
    {
     "name": "stdout",
     "output_type": "stream",
     "text": [
      "{'file_name': 'IMG_8496_MOV-1_jpg.rf.bfb30108c5b8c7ebd0b92028435ba919.jpg', 'height': 1024, 'width': 576, 'creature': ['shark'], 'bbox': [[0.0, 0.4599609375, 0.4479166666666667, 0.6259765625]], 'n_box': 1, 'main_creature': 'shark', 'gerated_caption': 'a shark swimming in an aquarium with a log', 'prompt_wtemp1': 'a shark swimming in an aquarium with a log, creature: shark', 'prompt_wtemp2': 'a shark swimming in an aquarium with a log, creature: shark, height: 1024, width: 576'}\n",
      "prompt_wtemp2\n"
     ]
    },
    {
     "data": {
      "application/vnd.jupyter.widget-view+json": {
       "model_id": "b342684cda9e4af59af3489219262f76",
       "version_major": 2,
       "version_minor": 0
      },
      "text/plain": [
       "  0%|          | 0/50 [00:00<?, ?it/s]"
      ]
     },
     "metadata": {},
     "output_type": "display_data"
    },
    {
     "name": "stdout",
     "output_type": "stream",
     "text": [
      "{'file_name': 'IMG_8571_MOV-1_jpg.rf.b22e2df287efb2b9ecd33c88a607e31e.jpg', 'height': 1024, 'width': 576, 'creature': ['shark'], 'bbox': [[0.043402777777777776, 0.287109375, 0.998263888888889, 0.5166015625]], 'n_box': 1, 'main_creature': 'shark', 'gerated_caption': 'a shark swimming in the dark at the aquarium', 'prompt_wtemp1': 'a shark swimming in the dark at the aquarium, creature: shark', 'prompt_wtemp2': 'a shark swimming in the dark at the aquarium, creature: shark, height: 1024, width: 576'}\n",
      "prompt_wtemp2\n"
     ]
    },
    {
     "data": {
      "application/vnd.jupyter.widget-view+json": {
       "model_id": "c9dc2fa7c463484daae405c2f2e19a20",
       "version_major": 2,
       "version_minor": 0
      },
      "text/plain": [
       "  0%|          | 0/50 [00:00<?, ?it/s]"
      ]
     },
     "metadata": {},
     "output_type": "display_data"
    },
    {
     "name": "stdout",
     "output_type": "stream",
     "text": [
      "{'file_name': 'IMG_2432_jpeg_jpg.rf.b0839d3e7f6a6fbc8f15a4e0ef385b7f.jpg', 'height': 1024, 'width': 768, 'creature': ['shark'], 'bbox': [[0.2747395833333333, 0.4892578125, 0.8255208333333333, 0.6513671875]], 'n_box': 1, 'main_creature': 'shark', 'gerated_caption': 'a large aquarium with sharks in it', 'prompt_wtemp1': 'a large aquarium with sharks in it, creature: shark', 'prompt_wtemp2': 'a large aquarium with sharks in it, creature: shark, height: 1024, width: 768'}\n",
      "prompt_wtemp2\n"
     ]
    },
    {
     "data": {
      "application/vnd.jupyter.widget-view+json": {
       "model_id": "4b127982ac8d4924b02e918e863f87d5",
       "version_major": 2,
       "version_minor": 0
      },
      "text/plain": [
       "  0%|          | 0/50 [00:00<?, ?it/s]"
      ]
     },
     "metadata": {},
     "output_type": "display_data"
    },
    {
     "name": "stdout",
     "output_type": "stream",
     "text": [
      "{'file_name': 'IMG_8578_MOV-1_jpg.rf.7ba2500fc572cf5045ab9880ae2ed106.jpg', 'height': 576, 'width': 1024, 'creature': ['shark'], 'bbox': [[0.1240234375, 0.28125, 0.544921875, 0.8020833333333334]], 'n_box': 1, 'main_creature': 'shark', 'gerated_caption': 'a shark swimming in an aquarium at night', 'prompt_wtemp1': 'a shark swimming in an aquarium at night, creature: shark', 'prompt_wtemp2': 'a shark swimming in an aquarium at night, creature: shark, height: 576, width: 1024'}\n",
      "prompt_wtemp2\n"
     ]
    },
    {
     "data": {
      "application/vnd.jupyter.widget-view+json": {
       "model_id": "50dc8b6994bd47bdbecec9e66472faad",
       "version_major": 2,
       "version_minor": 0
      },
      "text/plain": [
       "  0%|          | 0/50 [00:00<?, ?it/s]"
      ]
     },
     "metadata": {},
     "output_type": "display_data"
    },
    {
     "name": "stdout",
     "output_type": "stream",
     "text": [
      "{'file_name': 'IMG_2516_jpeg_jpg.rf.6f719df754865fe6166afd0a3a78d60f.jpg', 'height': 1024, 'width': 768, 'creature': ['shark'], 'bbox': [[0.4322916666666667, 0.4462890625, 0.6341145833333334, 0.595703125]], 'n_box': 1, 'main_creature': 'shark', 'gerated_caption': 'a shark swimming in an aquarium', 'prompt_wtemp1': 'a shark swimming in an aquarium, creature: shark', 'prompt_wtemp2': 'a shark swimming in an aquarium, creature: shark, height: 1024, width: 768'}\n",
      "prompt_wtemp2\n"
     ]
    },
    {
     "data": {
      "application/vnd.jupyter.widget-view+json": {
       "model_id": "b1ec4df98cef4d1cb8f493b89d330b00",
       "version_major": 2,
       "version_minor": 0
      },
      "text/plain": [
       "  0%|          | 0/50 [00:00<?, ?it/s]"
      ]
     },
     "metadata": {},
     "output_type": "display_data"
    },
    {
     "name": "stdout",
     "output_type": "stream",
     "text": [
      "{'file_name': 'IMG_8572_MOV-2_jpg.rf.70025aa545c1d5039981b13562400636.jpg', 'height': 1024, 'width': 576, 'creature': ['shark'], 'bbox': [[0.0, 0.4580078125, 0.9982638888888888, 0.9033203125]], 'n_box': 1, 'main_creature': 'shark', 'gerated_caption': 'a shark is swimming in the dark at night', 'prompt_wtemp1': 'a shark is swimming in the dark at night, creature: shark', 'prompt_wtemp2': 'a shark is swimming in the dark at night, creature: shark, height: 1024, width: 576'}\n",
      "prompt_wtemp2\n"
     ]
    },
    {
     "data": {
      "application/vnd.jupyter.widget-view+json": {
       "model_id": "f46fc4d36b824870addb8c66084d3a67",
       "version_major": 2,
       "version_minor": 0
      },
      "text/plain": [
       "  0%|          | 0/50 [00:00<?, ?it/s]"
      ]
     },
     "metadata": {},
     "output_type": "display_data"
    },
    {
     "name": "stdout",
     "output_type": "stream",
     "text": [
      "{'file_name': 'IMG_8571_MOV-0_jpg.rf.f4ca11babed3711ce449c6a066be33a5.jpg', 'height': 1024, 'width': 576, 'creature': ['shark'], 'bbox': [[0.06944444444444445, 0.2939453125, 0.9982638888888888, 0.5]], 'n_box': 1, 'main_creature': 'shark', 'gerated_caption': 'a large tank with jellyfish in it', 'prompt_wtemp1': 'a large tank with jellyfish in it, creature: shark', 'prompt_wtemp2': 'a large tank with jellyfish in it, creature: shark, height: 1024, width: 576'}\n",
      "prompt_wtemp2\n"
     ]
    },
    {
     "data": {
      "application/vnd.jupyter.widget-view+json": {
       "model_id": "679669bf7fe449cfbc804a1835f902b6",
       "version_major": 2,
       "version_minor": 0
      },
      "text/plain": [
       "  0%|          | 0/50 [00:00<?, ?it/s]"
      ]
     },
     "metadata": {},
     "output_type": "display_data"
    },
    {
     "name": "stdout",
     "output_type": "stream",
     "text": [
      "{'file_name': 'IMG_2643_jpeg_jpg.rf.5a7752897b56469837e946255d67337d.jpg', 'height': 1024, 'width': 768, 'creature': ['shark'], 'bbox': [[0.0, 0.2939453125, 0.8919270833333334, 1.0]], 'n_box': 1, 'main_creature': 'shark', 'gerated_caption': 'a shark swimming in an aquarium', 'prompt_wtemp1': 'a shark swimming in an aquarium, creature: shark', 'prompt_wtemp2': 'a shark swimming in an aquarium, creature: shark, height: 1024, width: 768'}\n",
      "prompt_wtemp2\n"
     ]
    },
    {
     "data": {
      "application/vnd.jupyter.widget-view+json": {
       "model_id": "401ec431545a46aab68a32583b5ecb12",
       "version_major": 2,
       "version_minor": 0
      },
      "text/plain": [
       "  0%|          | 0/50 [00:00<?, ?it/s]"
      ]
     },
     "metadata": {},
     "output_type": "display_data"
    },
    {
     "name": "stdout",
     "output_type": "stream",
     "text": [
      "{'file_name': 'IMG_2507_jpeg_jpg.rf.51612d3065ddd5d951909ca543e84bb7.jpg', 'height': 1024, 'width': 768, 'creature': ['shark'], 'bbox': [[0.4973958333333333, 0.423828125, 0.7317708333333333, 0.6669921875]], 'n_box': 1, 'main_creature': 'shark', 'gerated_caption': 'a shark swimming in an aquarium with rocks', 'prompt_wtemp1': 'a shark swimming in an aquarium with rocks, creature: shark', 'prompt_wtemp2': 'a shark swimming in an aquarium with rocks, creature: shark, height: 1024, width: 768'}\n",
      "prompt_wtemp2\n"
     ]
    },
    {
     "data": {
      "application/vnd.jupyter.widget-view+json": {
       "model_id": "90a56f0f3b3c4baaa917b30e9223ec17",
       "version_major": 2,
       "version_minor": 0
      },
      "text/plain": [
       "  0%|          | 0/50 [00:00<?, ?it/s]"
      ]
     },
     "metadata": {},
     "output_type": "display_data"
    },
    {
     "name": "stdout",
     "output_type": "stream",
     "text": [
      "{'file_name': 'IMG_2508_jpeg_jpg.rf.6341e9035957fcc1420ec41cd9176b7a.jpg', 'height': 1024, 'width': 768, 'creature': ['shark'], 'bbox': [[0.2786458333333333, 0.4921875, 0.7122395833333333, 0.7001953125]], 'n_box': 1, 'main_creature': 'shark', 'gerated_caption': 'a shark swimming in the water', 'prompt_wtemp1': 'a shark swimming in the water, creature: shark', 'prompt_wtemp2': 'a shark swimming in the water, creature: shark, height: 1024, width: 768'}\n",
      "prompt_wtemp2\n"
     ]
    },
    {
     "data": {
      "application/vnd.jupyter.widget-view+json": {
       "model_id": "6e57e47da0ff4370ad086e5fbeb87653",
       "version_major": 2,
       "version_minor": 0
      },
      "text/plain": [
       "  0%|          | 0/50 [00:00<?, ?it/s]"
      ]
     },
     "metadata": {},
     "output_type": "display_data"
    },
    {
     "name": "stdout",
     "output_type": "stream",
     "text": [
      "{'file_name': 'IMG_2509_jpeg_jpg.rf.0c8d6158f08975bd24497a5fb02572d2.jpg', 'height': 1024, 'width': 768, 'creature': ['shark'], 'bbox': [[0.0, 0.4267578125, 0.9192708333333334, 0.9990234375]], 'n_box': 1, 'main_creature': 'shark', 'gerated_caption': 'a shark swimming in an aquarium', 'prompt_wtemp1': 'a shark swimming in an aquarium, creature: shark', 'prompt_wtemp2': 'a shark swimming in an aquarium, creature: shark, height: 1024, width: 768'}\n",
      "prompt_wtemp2\n"
     ]
    },
    {
     "data": {
      "application/vnd.jupyter.widget-view+json": {
       "model_id": "3236e66938904378aa194bfc3028a3af",
       "version_major": 2,
       "version_minor": 0
      },
      "text/plain": [
       "  0%|          | 0/50 [00:00<?, ?it/s]"
      ]
     },
     "metadata": {},
     "output_type": "display_data"
    },
    {
     "name": "stdout",
     "output_type": "stream",
     "text": [
      "{'file_name': 'IMG_8572_MOV-0_jpg.rf.1a301d11ffdd3cb15653d44ea193ff1e.jpg', 'height': 1024, 'width': 576, 'creature': ['shark'], 'bbox': [[0.0, 0.17578125, 0.7361111111111112, 0.423828125]], 'n_box': 1, 'main_creature': 'shark', 'gerated_caption': 'a shark swimming in an aquarium with rocks and a light', 'prompt_wtemp1': 'a shark swimming in an aquarium with rocks and a light, creature: shark', 'prompt_wtemp2': 'a shark swimming in an aquarium with rocks and a light, creature: shark, height: 1024, width: 576'}\n",
      "prompt_wtemp2\n"
     ]
    },
    {
     "data": {
      "application/vnd.jupyter.widget-view+json": {
       "model_id": "b702e46f8f6c4804a0ace537be7140f0",
       "version_major": 2,
       "version_minor": 0
      },
      "text/plain": [
       "  0%|          | 0/50 [00:00<?, ?it/s]"
      ]
     },
     "metadata": {},
     "output_type": "display_data"
    },
    {
     "name": "stdout",
     "output_type": "stream",
     "text": [
      "{'file_name': 'IMG_2513_jpeg_jpg.rf.1c33f6aee29f24622179b3c188effe59.jpg', 'height': 1024, 'width': 768, 'creature': ['shark'], 'bbox': [[0.2877604166666667, 0.0673828125, 0.8658854166666667, 0.201171875]], 'n_box': 1, 'main_creature': 'shark', 'gerated_caption': 'a shark swimming in an aquarium', 'prompt_wtemp1': 'a shark swimming in an aquarium, creature: shark', 'prompt_wtemp2': 'a shark swimming in an aquarium, creature: shark, height: 1024, width: 768'}\n",
      "prompt_wtemp2\n"
     ]
    },
    {
     "data": {
      "application/vnd.jupyter.widget-view+json": {
       "model_id": "439cc6b823fd4225883a147f5f0d06e1",
       "version_major": 2,
       "version_minor": 0
      },
      "text/plain": [
       "  0%|          | 0/50 [00:00<?, ?it/s]"
      ]
     },
     "metadata": {},
     "output_type": "display_data"
    },
    {
     "name": "stdout",
     "output_type": "stream",
     "text": [
      "{'file_name': 'IMG_8575_jpg.rf.1cf3080cdc0d1afae6f57dbd147c9e3c.jpg', 'height': 768, 'width': 1024, 'creature': ['shark'], 'bbox': [[0.0, 0.421875, 0.9716796875, 0.87890625]], 'n_box': 1, 'main_creature': 'shark', 'gerated_caption': 'a shark is laying on the floor of an aquarium', 'prompt_wtemp1': 'a shark is laying on the floor of an aquarium, creature: shark', 'prompt_wtemp2': 'a shark is laying on the floor of an aquarium, creature: shark, height: 768, width: 1024'}\n",
      "prompt_wtemp2\n"
     ]
    },
    {
     "data": {
      "application/vnd.jupyter.widget-view+json": {
       "model_id": "3b06b2cbb0904450bd8e656a466241a2",
       "version_major": 2,
       "version_minor": 0
      },
      "text/plain": [
       "  0%|          | 0/50 [00:00<?, ?it/s]"
      ]
     },
     "metadata": {},
     "output_type": "display_data"
    },
    {
     "name": "stdout",
     "output_type": "stream",
     "text": [
      "{'file_name': 'IMG_8570_jpg.rf.22a9bfaa76e035e692aaac3a49df03b8.jpg', 'height': 768, 'width': 1024, 'creature': ['shark'], 'bbox': [[0.2900390625, 0.0, 0.4990234375, 0.609375]], 'n_box': 1, 'main_creature': 'shark', 'gerated_caption': 'a shark swimming in an aquarium with rocks and gravel', 'prompt_wtemp1': 'a shark swimming in an aquarium with rocks and gravel, creature: shark', 'prompt_wtemp2': 'a shark swimming in an aquarium with rocks and gravel, creature: shark, height: 768, width: 1024'}\n",
      "prompt_wtemp2\n"
     ]
    },
    {
     "data": {
      "application/vnd.jupyter.widget-view+json": {
       "model_id": "746ef5fa4b0f4073a3b71bc24496287c",
       "version_major": 2,
       "version_minor": 0
      },
      "text/plain": [
       "  0%|          | 0/50 [00:00<?, ?it/s]"
      ]
     },
     "metadata": {},
     "output_type": "display_data"
    },
    {
     "name": "stdout",
     "output_type": "stream",
     "text": [
      "{'file_name': 'IMG_2511_jpeg_jpg.rf.4593a8e1ea4e285da455b895a36fa2c7.jpg', 'height': 1024, 'width': 768, 'creature': ['shark'], 'bbox': [[0.09895833333333333, 0.3291015625, 0.71875, 0.724609375]], 'n_box': 1, 'main_creature': 'shark', 'gerated_caption': 'a shark swimming in an aquarium with rocks', 'prompt_wtemp1': 'a shark swimming in an aquarium with rocks, creature: shark', 'prompt_wtemp2': 'a shark swimming in an aquarium with rocks, creature: shark, height: 1024, width: 768'}\n",
      "prompt_wtemp2\n"
     ]
    },
    {
     "data": {
      "application/vnd.jupyter.widget-view+json": {
       "model_id": "0abd22a0d134491ea9a67e07dedb9cce",
       "version_major": 2,
       "version_minor": 0
      },
      "text/plain": [
       "  0%|          | 0/50 [00:00<?, ?it/s]"
      ]
     },
     "metadata": {},
     "output_type": "display_data"
    },
    {
     "name": "stdout",
     "output_type": "stream",
     "text": [
      "{'file_name': 'IMG_3125_jpeg_jpg.rf.6c100391f99fd177741c11b928b7a61c.jpg', 'height': 1024, 'width': 768, 'creature': ['starfish'], 'bbox': [[0.21354166666666666, 0.37109375, 0.8190104166666666, 0.6142578125]], 'n_box': 1, 'main_creature': 'starfish', 'gerated_caption': 'a fish in a tank with rocks and gravel', 'prompt_wtemp1': 'a fish in a tank with rocks and gravel, creature: starfish', 'prompt_wtemp2': 'a fish in a tank with rocks and gravel, creature: starfish, height: 1024, width: 768'}\n",
      "prompt_wtemp2\n"
     ]
    },
    {
     "data": {
      "application/vnd.jupyter.widget-view+json": {
       "model_id": "9a1690b0a223410b91a3a38fb6877ef7",
       "version_major": 2,
       "version_minor": 0
      },
      "text/plain": [
       "  0%|          | 0/50 [00:00<?, ?it/s]"
      ]
     },
     "metadata": {},
     "output_type": "display_data"
    },
    {
     "name": "stdout",
     "output_type": "stream",
     "text": [
      "{'file_name': 'IMG_2384_jpeg_jpg.rf.a094269cf1f5522f894b6a2cfc636a8d.jpg', 'height': 1024, 'width': 768, 'creature': ['starfish'], 'bbox': [[0.56640625, 0.490234375, 0.87109375, 0.7041015625]], 'n_box': 1, 'main_creature': 'starfish', 'gerated_caption': 'a starfish is sitting on a rock in an aquarium', 'prompt_wtemp1': 'a starfish is sitting on a rock in an aquarium, creature: starfish', 'prompt_wtemp2': 'a starfish is sitting on a rock in an aquarium, creature: starfish, height: 1024, width: 768'}\n",
      "prompt_wtemp2\n"
     ]
    },
    {
     "data": {
      "application/vnd.jupyter.widget-view+json": {
       "model_id": "8a2235eeafa44981b1487a41ae0cacd6",
       "version_major": 2,
       "version_minor": 0
      },
      "text/plain": [
       "  0%|          | 0/50 [00:00<?, ?it/s]"
      ]
     },
     "metadata": {},
     "output_type": "display_data"
    },
    {
     "name": "stdout",
     "output_type": "stream",
     "text": [
      "{'file_name': 'IMG_2373_jpeg_jpg.rf.6b8f32a68ab7d25ff0cd7f977bd187fc.jpg', 'height': 1024, 'width': 768, 'creature': ['starfish'], 'bbox': [[0.2981770833333333, 0.4443359375, 0.60546875, 0.630859375]], 'n_box': 1, 'main_creature': 'starfish', 'gerated_caption': 'a starfish in an aquarium', 'prompt_wtemp1': 'a starfish in an aquarium, creature: starfish', 'prompt_wtemp2': 'a starfish in an aquarium, creature: starfish, height: 1024, width: 768'}\n",
      "prompt_wtemp2\n"
     ]
    },
    {
     "data": {
      "application/vnd.jupyter.widget-view+json": {
       "model_id": "4ebcd7114ecb45a49d3ac6e130cc828f",
       "version_major": 2,
       "version_minor": 0
      },
      "text/plain": [
       "  0%|          | 0/50 [00:00<?, ?it/s]"
      ]
     },
     "metadata": {},
     "output_type": "display_data"
    },
    {
     "name": "stdout",
     "output_type": "stream",
     "text": [
      "{'file_name': 'IMG_2540_jpeg_jpg.rf.648b31d1066b616be81fb9447de85358.jpg', 'height': 1024, 'width': 768, 'creature': ['starfish'], 'bbox': [[0.3880208333333333, 0.3154296875, 0.7291666666666666, 0.6923828125]], 'n_box': 1, 'main_creature': 'starfish', 'gerated_caption': 'a starfish is swimming in the water near a rock', 'prompt_wtemp1': 'a starfish is swimming in the water near a rock, creature: starfish', 'prompt_wtemp2': 'a starfish is swimming in the water near a rock, creature: starfish, height: 1024, width: 768'}\n",
      "prompt_wtemp2\n"
     ]
    },
    {
     "data": {
      "application/vnd.jupyter.widget-view+json": {
       "model_id": "cd476e67490f438997efb0d399a019a8",
       "version_major": 2,
       "version_minor": 0
      },
      "text/plain": [
       "  0%|          | 0/50 [00:00<?, ?it/s]"
      ]
     },
     "metadata": {},
     "output_type": "display_data"
    },
    {
     "name": "stdout",
     "output_type": "stream",
     "text": [
      "{'file_name': 'IMG_2390_jpeg_jpg.rf.64fe0a0c9bb0459e06335b75d455ffb2.jpg', 'height': 1024, 'width': 768, 'creature': ['starfish'], 'bbox': [[0.17578125, 0.4560546875, 0.8424479166666666, 0.791015625]], 'n_box': 1, 'main_creature': 'starfish', 'gerated_caption': 'a starfish in an aquarium with rocks and gravel', 'prompt_wtemp1': 'a starfish in an aquarium with rocks and gravel, creature: starfish', 'prompt_wtemp2': 'a starfish in an aquarium with rocks and gravel, creature: starfish, height: 1024, width: 768'}\n",
      "prompt_wtemp2\n"
     ]
    },
    {
     "data": {
      "application/vnd.jupyter.widget-view+json": {
       "model_id": "8e33542b049c4e188673d67a711d96d0",
       "version_major": 2,
       "version_minor": 0
      },
      "text/plain": [
       "  0%|          | 0/50 [00:00<?, ?it/s]"
      ]
     },
     "metadata": {},
     "output_type": "display_data"
    },
    {
     "name": "stderr",
     "output_type": "stream",
     "text": [
      "Potential NSFW content was detected in one or more images. A black image will be returned instead. Try again with a different prompt and/or seed.\n"
     ]
    },
    {
     "name": "stdout",
     "output_type": "stream",
     "text": [
      "{'file_name': 'IMG_2610_jpeg_jpg.rf.4d5cf5cfdceb7dee102fe730fc1f6776.jpg', 'height': 1024, 'width': 768, 'creature': ['starfish'], 'bbox': [[0.37890625, 0.333984375, 0.67578125, 0.625]], 'n_box': 1, 'main_creature': 'starfish', 'gerated_caption': 'a starfish in an aquarium with plants', 'prompt_wtemp1': 'a starfish in an aquarium with plants, creature: starfish', 'prompt_wtemp2': 'a starfish in an aquarium with plants, creature: starfish, height: 1024, width: 768'}\n",
      "prompt_wtemp2\n"
     ]
    },
    {
     "data": {
      "application/vnd.jupyter.widget-view+json": {
       "model_id": "9b348cccbd1c48e3827335cb9aff60b5",
       "version_major": 2,
       "version_minor": 0
      },
      "text/plain": [
       "  0%|          | 0/50 [00:00<?, ?it/s]"
      ]
     },
     "metadata": {},
     "output_type": "display_data"
    },
    {
     "name": "stdout",
     "output_type": "stream",
     "text": [
      "{'file_name': 'IMG_2378_jpeg_jpg.rf.9a7993c75521d4b5383257936c7ab263.jpg', 'height': 1024, 'width': 768, 'creature': ['starfish'], 'bbox': [[0.3229166666666667, 0.4365234375, 0.5338541666666667, 0.595703125]], 'n_box': 1, 'main_creature': 'starfish', 'gerated_caption': 'a starfish is sitting on a rock in an aquarium', 'prompt_wtemp1': 'a starfish is sitting on a rock in an aquarium, creature: starfish', 'prompt_wtemp2': 'a starfish is sitting on a rock in an aquarium, creature: starfish, height: 1024, width: 768'}\n",
      "prompt_wtemp2\n"
     ]
    },
    {
     "data": {
      "application/vnd.jupyter.widget-view+json": {
       "model_id": "7d3a19bbe81c4448b03e203bbb952b48",
       "version_major": 2,
       "version_minor": 0
      },
      "text/plain": [
       "  0%|          | 0/50 [00:00<?, ?it/s]"
      ]
     },
     "metadata": {},
     "output_type": "display_data"
    },
    {
     "name": "stdout",
     "output_type": "stream",
     "text": [
      "{'file_name': 'IMG_2536_jpeg_jpg.rf.89879f0a6436d7634771fd7de97784f8.jpg', 'height': 1024, 'width': 768, 'creature': ['starfish'], 'bbox': [[0.26953125, 0.470703125, 0.7421875, 0.7080078125]], 'n_box': 1, 'main_creature': 'starfish', 'gerated_caption': 'a starfish is laying on rocks in an aquarium', 'prompt_wtemp1': 'a starfish is laying on rocks in an aquarium, creature: starfish', 'prompt_wtemp2': 'a starfish is laying on rocks in an aquarium, creature: starfish, height: 1024, width: 768'}\n",
      "prompt_wtemp2\n"
     ]
    },
    {
     "data": {
      "application/vnd.jupyter.widget-view+json": {
       "model_id": "466669e918e4405e868e57b2d0965a7b",
       "version_major": 2,
       "version_minor": 0
      },
      "text/plain": [
       "  0%|          | 0/50 [00:00<?, ?it/s]"
      ]
     },
     "metadata": {},
     "output_type": "display_data"
    },
    {
     "name": "stdout",
     "output_type": "stream",
     "text": [
      "{'file_name': 'IMG_2389_jpeg_jpg.rf.3659b6446ca8e6cc9caea6f862cb7c64.jpg', 'height': 1024, 'width': 768, 'creature': ['starfish'], 'bbox': [[0.2578125, 0.4169921875, 0.65625, 0.6611328125]], 'n_box': 1, 'main_creature': 'starfish', 'gerated_caption': 'a starfish is sitting on rocks in an aquarium', 'prompt_wtemp1': 'a starfish is sitting on rocks in an aquarium, creature: starfish', 'prompt_wtemp2': 'a starfish is sitting on rocks in an aquarium, creature: starfish, height: 1024, width: 768'}\n",
      "prompt_wtemp2\n"
     ]
    },
    {
     "data": {
      "application/vnd.jupyter.widget-view+json": {
       "model_id": "27ad9b5c03624c218d05b75f19e24507",
       "version_major": 2,
       "version_minor": 0
      },
      "text/plain": [
       "  0%|          | 0/50 [00:00<?, ?it/s]"
      ]
     },
     "metadata": {},
     "output_type": "display_data"
    },
    {
     "name": "stdout",
     "output_type": "stream",
     "text": [
      "{'file_name': 'IMG_2608_jpeg_jpg.rf.9ba9cc2485112df87a73dee448aad2bc.jpg', 'height': 1024, 'width': 768, 'creature': ['starfish'], 'bbox': [[0.3580729166666667, 0.287109375, 0.79296875, 0.6875]], 'n_box': 1, 'main_creature': 'starfish', 'gerated_caption': 'a starfish in an aquarium', 'prompt_wtemp1': 'a starfish in an aquarium, creature: starfish', 'prompt_wtemp2': 'a starfish in an aquarium, creature: starfish, height: 1024, width: 768'}\n",
      "prompt_wtemp2\n"
     ]
    },
    {
     "data": {
      "application/vnd.jupyter.widget-view+json": {
       "model_id": "dcb9ea2f4d6e470c885f30704c02b1ee",
       "version_major": 2,
       "version_minor": 0
      },
      "text/plain": [
       "  0%|          | 0/50 [00:00<?, ?it/s]"
      ]
     },
     "metadata": {},
     "output_type": "display_data"
    },
    {
     "name": "stdout",
     "output_type": "stream",
     "text": [
      "{'file_name': 'IMG_2374_jpeg_jpg.rf.13a3afe5fa27f706d031758c74d64dae.jpg', 'height': 1024, 'width': 768, 'creature': ['starfish'], 'bbox': [[0.3216145833333333, 0.4892578125, 0.65234375, 0.70703125]], 'n_box': 1, 'main_creature': 'starfish', 'gerated_caption': 'a starfish is sitting on a rock in an aquarium', 'prompt_wtemp1': 'a starfish is sitting on a rock in an aquarium, creature: starfish', 'prompt_wtemp2': 'a starfish is sitting on a rock in an aquarium, creature: starfish, height: 1024, width: 768'}\n",
      "prompt_wtemp2\n"
     ]
    },
    {
     "data": {
      "application/vnd.jupyter.widget-view+json": {
       "model_id": "cb8cb3f9a6c24ae4865e0aa01f386082",
       "version_major": 2,
       "version_minor": 0
      },
      "text/plain": [
       "  0%|          | 0/50 [00:00<?, ?it/s]"
      ]
     },
     "metadata": {},
     "output_type": "display_data"
    },
    {
     "name": "stdout",
     "output_type": "stream",
     "text": [
      "{'file_name': 'IMG_2541_jpeg_jpg.rf.fc997b87790e715d47ce1cc83edf79c2.jpg', 'height': 1024, 'width': 768, 'creature': ['starfish'], 'bbox': [[0.3932291666666667, 0.400390625, 0.6953125, 0.712890625]], 'n_box': 1, 'main_creature': 'starfish', 'gerated_caption': 'a blue starfish in an aquarium', 'prompt_wtemp1': 'a blue starfish in an aquarium, creature: starfish', 'prompt_wtemp2': 'a blue starfish in an aquarium, creature: starfish, height: 1024, width: 768'}\n",
      "prompt_wtemp2\n"
     ]
    },
    {
     "data": {
      "application/vnd.jupyter.widget-view+json": {
       "model_id": "e328feeea178410384ccc5fc61d8d922",
       "version_major": 2,
       "version_minor": 0
      },
      "text/plain": [
       "  0%|          | 0/50 [00:00<?, ?it/s]"
      ]
     },
     "metadata": {},
     "output_type": "display_data"
    },
    {
     "name": "stdout",
     "output_type": "stream",
     "text": [
      "{'file_name': 'IMG_2376_jpeg_jpg.rf.238955f6c2fbed6cd8b508f1b61f84de.jpg', 'height': 1024, 'width': 768, 'creature': ['starfish'], 'bbox': [[0.3971354166666667, 0.484375, 0.5807291666666667, 0.671875]], 'n_box': 1, 'main_creature': 'starfish', 'gerated_caption': 'a starfish in an aquarium', 'prompt_wtemp1': 'a starfish in an aquarium, creature: starfish', 'prompt_wtemp2': 'a starfish in an aquarium, creature: starfish, height: 1024, width: 768'}\n",
      "prompt_wtemp2\n"
     ]
    },
    {
     "data": {
      "application/vnd.jupyter.widget-view+json": {
       "model_id": "d81d9430bcd149569ff9f5a85c14b389",
       "version_major": 2,
       "version_minor": 0
      },
      "text/plain": [
       "  0%|          | 0/50 [00:00<?, ?it/s]"
      ]
     },
     "metadata": {},
     "output_type": "display_data"
    },
    {
     "name": "stdout",
     "output_type": "stream",
     "text": [
      "{'file_name': 'IMG_2609_jpeg_jpg.rf.812bb452a59431bc957f24c60300dfee.jpg', 'height': 1024, 'width': 768, 'creature': ['starfish'], 'bbox': [[0.3463541666666667, 0.4833984375, 0.6901041666666667, 0.787109375]], 'n_box': 1, 'main_creature': 'starfish', 'gerated_caption': 'a starfish is in an aquarium', 'prompt_wtemp1': 'a starfish is in an aquarium, creature: starfish', 'prompt_wtemp2': 'a starfish is in an aquarium, creature: starfish, height: 1024, width: 768'}\n",
      "prompt_wtemp2\n"
     ]
    },
    {
     "data": {
      "application/vnd.jupyter.widget-view+json": {
       "model_id": "cbf642ffa7094cb4893232ac515f11e8",
       "version_major": 2,
       "version_minor": 0
      },
      "text/plain": [
       "  0%|          | 0/50 [00:00<?, ?it/s]"
      ]
     },
     "metadata": {},
     "output_type": "display_data"
    },
    {
     "name": "stdout",
     "output_type": "stream",
     "text": [
      "{'file_name': 'IMG_2548_jpeg_jpg.rf.b9a775702d3c300735ef690866a1c7cc.jpg', 'height': 1024, 'width': 768, 'creature': ['starfish', 'starfish'], 'bbox': [[0.8776041666666666, 0.4248046875, 0.9596354166666666, 0.4794921875], [0.3958333333333333, 0.4072265625, 0.5065104166666666, 0.4443359375]], 'n_box': 2, 'main_creature': 'starfish', 'gerated_caption': 'a picture of a kelp forest in an aquarium', 'prompt_wtemp1': 'a picture of a kelp forest in an aquarium, creature: starfish', 'prompt_wtemp2': 'a picture of a kelp forest in an aquarium, creature: starfish, height: 1024, width: 768'}\n",
      "prompt_wtemp2\n"
     ]
    },
    {
     "data": {
      "application/vnd.jupyter.widget-view+json": {
       "model_id": "fcf0b92b6f3044748d89efdb17270ef8",
       "version_major": 2,
       "version_minor": 0
      },
      "text/plain": [
       "  0%|          | 0/50 [00:00<?, ?it/s]"
      ]
     },
     "metadata": {},
     "output_type": "display_data"
    },
    {
     "name": "stdout",
     "output_type": "stream",
     "text": [
      "{'file_name': 'IMG_3181_jpeg_jpg.rf.c52b54494d4236e54b900fe60bd6565b.jpg', 'height': 1024, 'width': 768, 'creature': ['starfish', 'starfish'], 'bbox': [[0.07942708333333333, 0.4951171875, 0.47265625, 0.671875], [0.5455729166666666, 0.4912109375, 0.8828125, 0.673828125]], 'n_box': 2, 'main_creature': 'starfish', 'gerated_caption': 'two starfish in an aquarium with rocks', 'prompt_wtemp1': 'two starfish in an aquarium with rocks, creature: starfish', 'prompt_wtemp2': 'two starfish in an aquarium with rocks, creature: starfish, height: 1024, width: 768'}\n",
      "prompt_wtemp2\n"
     ]
    },
    {
     "data": {
      "application/vnd.jupyter.widget-view+json": {
       "model_id": "46fefad25ab3404791344bec6de505ac",
       "version_major": 2,
       "version_minor": 0
      },
      "text/plain": [
       "  0%|          | 0/50 [00:00<?, ?it/s]"
      ]
     },
     "metadata": {},
     "output_type": "display_data"
    },
    {
     "name": "stdout",
     "output_type": "stream",
     "text": [
      "{'file_name': 'IMG_2363_jpeg_jpg.rf.c646c1cefead3cafbda9956f065dbe6a.jpg', 'height': 1024, 'width': 768, 'creature': ['starfish', 'fish'], 'bbox': [[0.53515625, 0.6220703125, 0.9140625, 0.927734375], [0.15625, 0.388671875, 0.77734375, 0.5390625]], 'n_box': 2, 'main_creature': 'starfish', 'gerated_caption': 'a starfish in an aquarium', 'prompt_wtemp1': 'a starfish in an aquarium, creature: starfish', 'prompt_wtemp2': 'a starfish in an aquarium, creature: starfish, height: 1024, width: 768'}\n",
      "prompt_wtemp2\n"
     ]
    },
    {
     "data": {
      "application/vnd.jupyter.widget-view+json": {
       "model_id": "5b238ae21e3c45d3a4828cc86f52f462",
       "version_major": 2,
       "version_minor": 0
      },
      "text/plain": [
       "  0%|          | 0/50 [00:00<?, ?it/s]"
      ]
     },
     "metadata": {},
     "output_type": "display_data"
    },
    {
     "name": "stdout",
     "output_type": "stream",
     "text": [
      "{'file_name': 'IMG_2383_jpeg_jpg.rf.fd376436d382e985e3c0e6936860212f.jpg', 'height': 1024, 'width': 768, 'creature': ['starfish', 'starfish'], 'bbox': [[0.045572916666666664, 0.4921875, 0.5130208333333334, 0.82421875], [0.703125, 0.3623046875, 0.9661458333333333, 0.6259765625]], 'n_box': 2, 'main_creature': 'starfish', 'gerated_caption': 'two starfish in an aquarium', 'prompt_wtemp1': 'two starfish in an aquarium, creature: starfish', 'prompt_wtemp2': 'two starfish in an aquarium, creature: starfish, height: 1024, width: 768'}\n",
      "prompt_wtemp2\n"
     ]
    },
    {
     "data": {
      "application/vnd.jupyter.widget-view+json": {
       "model_id": "51ea925e26cf4bc1800fe7f0837cd3f2",
       "version_major": 2,
       "version_minor": 0
      },
      "text/plain": [
       "  0%|          | 0/50 [00:00<?, ?it/s]"
      ]
     },
     "metadata": {},
     "output_type": "display_data"
    },
    {
     "name": "stdout",
     "output_type": "stream",
     "text": [
      "{'file_name': 'IMG_2538_jpeg_jpg.rf.7116cb3e914a23960371143381cd5e15.jpg', 'height': 1024, 'width': 768, 'creature': ['starfish', 'starfish'], 'bbox': [[0.3463541666666667, 0.1015625, 0.6106770833333334, 0.361328125], [0.48046875, 0.689453125, 0.66015625, 0.8701171875]], 'n_box': 2, 'main_creature': 'starfish', 'gerated_caption': 'a blue starfish is swimming in an aquarium', 'prompt_wtemp1': 'a blue starfish is swimming in an aquarium, creature: starfish', 'prompt_wtemp2': 'a blue starfish is swimming in an aquarium, creature: starfish, height: 1024, width: 768'}\n",
      "prompt_wtemp2\n"
     ]
    },
    {
     "data": {
      "application/vnd.jupyter.widget-view+json": {
       "model_id": "341a7979c15840f493028f45c1c8bf0a",
       "version_major": 2,
       "version_minor": 0
      },
      "text/plain": [
       "  0%|          | 0/50 [00:00<?, ?it/s]"
      ]
     },
     "metadata": {},
     "output_type": "display_data"
    },
    {
     "name": "stdout",
     "output_type": "stream",
     "text": [
      "{'file_name': 'IMG_3128_jpeg_jpg.rf.68558c9a951e61ca99ae152b38026341.jpg', 'height': 1024, 'width': 768, 'creature': ['starfish', 'fish'], 'bbox': [[0.3736979166666667, 0.408203125, 0.6927083333333334, 0.64453125], [0.5520833333333334, 0.1884765625, 0.8216145833333334, 0.28515625]], 'n_box': 2, 'main_creature': 'starfish', 'gerated_caption': 'a tank with rocks and a starfish', 'prompt_wtemp1': 'a tank with rocks and a starfish, creature: starfish', 'prompt_wtemp2': 'a tank with rocks and a starfish, creature: starfish, height: 1024, width: 768'}\n",
      "prompt_wtemp2\n"
     ]
    },
    {
     "data": {
      "application/vnd.jupyter.widget-view+json": {
       "model_id": "028f78c332ce458487896e9d0f617e5d",
       "version_major": 2,
       "version_minor": 0
      },
      "text/plain": [
       "  0%|          | 0/50 [00:00<?, ?it/s]"
      ]
     },
     "metadata": {},
     "output_type": "display_data"
    },
    {
     "name": "stdout",
     "output_type": "stream",
     "text": [
      "{'file_name': 'IMG_2553_jpeg_jpg.rf.631441b6872f3849ab9f75da6176af0a.jpg', 'height': 1024, 'width': 768, 'creature': ['stingray'], 'bbox': [[0.43359375, 0.2490234375, 0.77734375, 0.7080078125]], 'n_box': 1, 'main_creature': 'stingray', 'gerated_caption': 'a fish in an aquarium with grass and plants', 'prompt_wtemp1': 'a fish in an aquarium with grass and plants, creature: stingray', 'prompt_wtemp2': 'a fish in an aquarium with grass and plants, creature: stingray, height: 1024, width: 768'}\n",
      "prompt_wtemp2\n"
     ]
    },
    {
     "data": {
      "application/vnd.jupyter.widget-view+json": {
       "model_id": "54686777a2e5471db5b112e283830ad8",
       "version_major": 2,
       "version_minor": 0
      },
      "text/plain": [
       "  0%|          | 0/50 [00:00<?, ?it/s]"
      ]
     },
     "metadata": {},
     "output_type": "display_data"
    },
    {
     "name": "stdout",
     "output_type": "stream",
     "text": [
      "{'file_name': 'IMG_2624_jpeg_jpg.rf.f10f557d310720d6c38739ba284918f8.jpg', 'height': 1024, 'width': 768, 'creature': ['stingray'], 'bbox': [[0.13151041666666666, 0.4443359375, 0.7096354166666666, 0.7041015625]], 'n_box': 1, 'main_creature': 'stingray', 'gerated_caption': 'a stingray swimming in the water', 'prompt_wtemp1': 'a stingray swimming in the water, creature: stingray', 'prompt_wtemp2': 'a stingray swimming in the water, creature: stingray, height: 1024, width: 768'}\n",
      "prompt_wtemp2\n"
     ]
    },
    {
     "data": {
      "application/vnd.jupyter.widget-view+json": {
       "model_id": "5a5fa9bbca344dcd85eb80be004dc82b",
       "version_major": 2,
       "version_minor": 0
      },
      "text/plain": [
       "  0%|          | 0/50 [00:00<?, ?it/s]"
      ]
     },
     "metadata": {},
     "output_type": "display_data"
    },
    {
     "name": "stdout",
     "output_type": "stream",
     "text": [
      "{'file_name': 'IMG_2649_jpeg_jpg.rf.efd042de1468c6f1725e06af6b1d9ffd.jpg', 'height': 1024, 'width': 768, 'creature': ['stingray'], 'bbox': [[0.46484375, 0.4326171875, 0.6705729166666666, 0.5302734375]], 'n_box': 1, 'main_creature': 'stingray', 'gerated_caption': 'a large aquarium with a ray in it', 'prompt_wtemp1': 'a large aquarium with a ray in it, creature: stingray', 'prompt_wtemp2': 'a large aquarium with a ray in it, creature: stingray, height: 1024, width: 768'}\n",
      "prompt_wtemp2\n"
     ]
    },
    {
     "data": {
      "application/vnd.jupyter.widget-view+json": {
       "model_id": "c1a5c760809946bbac0c489d8fa96513",
       "version_major": 2,
       "version_minor": 0
      },
      "text/plain": [
       "  0%|          | 0/50 [00:00<?, ?it/s]"
      ]
     },
     "metadata": {},
     "output_type": "display_data"
    },
    {
     "name": "stdout",
     "output_type": "stream",
     "text": [
      "{'file_name': 'IMG_2549_jpeg_jpg.rf.d9307c4549bb67163bb43c81fb771cd8.jpg', 'height': 1024, 'width': 768, 'creature': ['stingray'], 'bbox': [[0.2916666666666667, 0.5341796875, 0.75390625, 0.7587890625]], 'n_box': 1, 'main_creature': 'stingray', 'gerated_caption': 'a stingray in an aquarium', 'prompt_wtemp1': 'a stingray in an aquarium, creature: stingray', 'prompt_wtemp2': 'a stingray in an aquarium, creature: stingray, height: 1024, width: 768'}\n",
      "prompt_wtemp2\n"
     ]
    },
    {
     "data": {
      "application/vnd.jupyter.widget-view+json": {
       "model_id": "2287fca29f574f67a5c05ac7ab07ede2",
       "version_major": 2,
       "version_minor": 0
      },
      "text/plain": [
       "  0%|          | 0/50 [00:00<?, ?it/s]"
      ]
     },
     "metadata": {},
     "output_type": "display_data"
    },
    {
     "name": "stdout",
     "output_type": "stream",
     "text": [
      "{'file_name': 'IMG_2550_jpeg_jpg.rf.d8b525b14483fc250303ce4be356b57c.jpg', 'height': 1024, 'width': 768, 'creature': ['stingray'], 'bbox': [[0.4166666666666667, 0.607421875, 0.81640625, 0.7705078125]], 'n_box': 1, 'main_creature': 'stingray', 'gerated_caption': 'a stingray is sitting in an aquarium', 'prompt_wtemp1': 'a stingray is sitting in an aquarium, creature: stingray', 'prompt_wtemp2': 'a stingray is sitting in an aquarium, creature: stingray, height: 1024, width: 768'}\n",
      "prompt_wtemp2\n"
     ]
    },
    {
     "data": {
      "application/vnd.jupyter.widget-view+json": {
       "model_id": "a02656966725482b99cd6e9bb0a47e8c",
       "version_major": 2,
       "version_minor": 0
      },
      "text/plain": [
       "  0%|          | 0/50 [00:00<?, ?it/s]"
      ]
     },
     "metadata": {},
     "output_type": "display_data"
    },
    {
     "name": "stdout",
     "output_type": "stream",
     "text": [
      "{'file_name': 'IMG_2628_jpeg_jpg.rf.c607a4280b054d5a636f5ee3398b886d.jpg', 'height': 1024, 'width': 768, 'creature': ['stingray'], 'bbox': [[0.09375, 0.1787109375, 0.7799479166666666, 0.599609375]], 'n_box': 1, 'main_creature': 'stingray', 'gerated_caption': 'a stingray swimming in an aquarium', 'prompt_wtemp1': 'a stingray swimming in an aquarium, creature: stingray', 'prompt_wtemp2': 'a stingray swimming in an aquarium, creature: stingray, height: 1024, width: 768'}\n",
      "prompt_wtemp2\n"
     ]
    },
    {
     "data": {
      "application/vnd.jupyter.widget-view+json": {
       "model_id": "892403d539184492afb9bad29124f2c5",
       "version_major": 2,
       "version_minor": 0
      },
      "text/plain": [
       "  0%|          | 0/50 [00:00<?, ?it/s]"
      ]
     },
     "metadata": {},
     "output_type": "display_data"
    },
    {
     "name": "stdout",
     "output_type": "stream",
     "text": [
      "{'file_name': 'IMG_2592_jpeg_jpg.rf.9c8ada079979c004ab05f15d6b66c902.jpg', 'height': 1024, 'width': 768, 'creature': ['stingray'], 'bbox': [[0.3059895833333333, 0.4306640625, 0.76953125, 0.5986328125]], 'n_box': 1, 'main_creature': 'stingray', 'gerated_caption': 'a stingray is swimming in an aquarium', 'prompt_wtemp1': 'a stingray is swimming in an aquarium, creature: stingray', 'prompt_wtemp2': 'a stingray is swimming in an aquarium, creature: stingray, height: 1024, width: 768'}\n",
      "prompt_wtemp2\n"
     ]
    },
    {
     "data": {
      "application/vnd.jupyter.widget-view+json": {
       "model_id": "6fbfef46d19c4343abec5254cd345d65",
       "version_major": 2,
       "version_minor": 0
      },
      "text/plain": [
       "  0%|          | 0/50 [00:00<?, ?it/s]"
      ]
     },
     "metadata": {},
     "output_type": "display_data"
    },
    {
     "name": "stdout",
     "output_type": "stream",
     "text": [
      "{'file_name': 'IMG_2647_jpeg_jpg.rf.9b83da86e81bb2e5ba772305e2172d63.jpg', 'height': 1024, 'width': 768, 'creature': ['stingray'], 'bbox': [[0.4596354166666667, 0.47265625, 0.6106770833333334, 0.546875]], 'n_box': 1, 'main_creature': 'stingray', 'gerated_caption': 'a large aquarium with a stingray', 'prompt_wtemp1': 'a large aquarium with a stingray, creature: stingray', 'prompt_wtemp2': 'a large aquarium with a stingray, creature: stingray, height: 1024, width: 768'}\n",
      "prompt_wtemp2\n"
     ]
    },
    {
     "data": {
      "application/vnd.jupyter.widget-view+json": {
       "model_id": "c712a017fa604bb38d18867d3783b2e2",
       "version_major": 2,
       "version_minor": 0
      },
      "text/plain": [
       "  0%|          | 0/50 [00:00<?, ?it/s]"
      ]
     },
     "metadata": {},
     "output_type": "display_data"
    },
    {
     "name": "stdout",
     "output_type": "stream",
     "text": [
      "{'file_name': 'IMG_2556_jpeg_jpg.rf.95be135e1024945e03cb4e03910ce8fd.jpg', 'height': 1024, 'width': 768, 'creature': ['stingray'], 'bbox': [[0.1484375, 0.54296875, 0.5533854166666667, 0.771484375]], 'n_box': 1, 'main_creature': 'stingray', 'gerated_caption': 'a fish in an aquarium with rocks and plants', 'prompt_wtemp1': 'a fish in an aquarium with rocks and plants, creature: stingray', 'prompt_wtemp2': 'a fish in an aquarium with rocks and plants, creature: stingray, height: 1024, width: 768'}\n",
      "prompt_wtemp2\n"
     ]
    },
    {
     "data": {
      "application/vnd.jupyter.widget-view+json": {
       "model_id": "65d7b87ee97143fab465ce7e06d2a9f8",
       "version_major": 2,
       "version_minor": 0
      },
      "text/plain": [
       "  0%|          | 0/50 [00:00<?, ?it/s]"
      ]
     },
     "metadata": {},
     "output_type": "display_data"
    },
    {
     "name": "stdout",
     "output_type": "stream",
     "text": [
      "{'file_name': 'IMG_2627_jpeg_jpg.rf.71ea24ceb65b886d6f148dbd31f451d1.jpg', 'height': 1024, 'width': 768, 'creature': ['stingray'], 'bbox': [[0.16536458333333334, 0.2490234375, 0.7734375, 0.796875]], 'n_box': 1, 'main_creature': 'stingray', 'gerated_caption': 'a stingray is sitting in an aquarium', 'prompt_wtemp1': 'a stingray is sitting in an aquarium, creature: stingray', 'prompt_wtemp2': 'a stingray is sitting in an aquarium, creature: stingray, height: 1024, width: 768'}\n",
      "prompt_wtemp2\n"
     ]
    },
    {
     "data": {
      "application/vnd.jupyter.widget-view+json": {
       "model_id": "da0bb8b5cd8d49348074c716b82cf757",
       "version_major": 2,
       "version_minor": 0
      },
      "text/plain": [
       "  0%|          | 0/50 [00:00<?, ?it/s]"
      ]
     },
     "metadata": {},
     "output_type": "display_data"
    },
    {
     "name": "stdout",
     "output_type": "stream",
     "text": [
      "{'file_name': 'IMG_2653_jpeg_jpg.rf.f5e2d0fb8b333ea049c7cba182d78725.jpg', 'height': 1024, 'width': 768, 'creature': ['stingray'], 'bbox': [[0.4635416666666667, 0.4697265625, 0.71875, 0.603515625]], 'n_box': 1, 'main_creature': 'stingray', 'gerated_caption': 'a giraffe swimming in a pool of water', 'prompt_wtemp1': 'a giraffe swimming in a pool of water, creature: stingray', 'prompt_wtemp2': 'a giraffe swimming in a pool of water, creature: stingray, height: 1024, width: 768'}\n",
      "prompt_wtemp2\n"
     ]
    },
    {
     "data": {
      "application/vnd.jupyter.widget-view+json": {
       "model_id": "b850c7aedeba4a8bbe67eb3996ade47c",
       "version_major": 2,
       "version_minor": 0
      },
      "text/plain": [
       "  0%|          | 0/50 [00:00<?, ?it/s]"
      ]
     },
     "metadata": {},
     "output_type": "display_data"
    },
    {
     "name": "stdout",
     "output_type": "stream",
     "text": [
      "{'file_name': 'IMG_2641_jpeg_jpg.rf.3fc4fead3495733a8298ef199058794b.jpg', 'height': 1024, 'width': 768, 'creature': ['stingray'], 'bbox': [[0.2265625, 0.3701171875, 0.7682291666666666, 0.6123046875]], 'n_box': 1, 'main_creature': 'stingray', 'gerated_caption': 'a stingray swimming in an aquarium', 'prompt_wtemp1': 'a stingray swimming in an aquarium, creature: stingray', 'prompt_wtemp2': 'a stingray swimming in an aquarium, creature: stingray, height: 1024, width: 768'}\n",
      "prompt_wtemp2\n"
     ]
    },
    {
     "data": {
      "application/vnd.jupyter.widget-view+json": {
       "model_id": "dba1c802e383403fb0b2ed2dd9ae9623",
       "version_major": 2,
       "version_minor": 0
      },
      "text/plain": [
       "  0%|          | 0/50 [00:00<?, ?it/s]"
      ]
     },
     "metadata": {},
     "output_type": "display_data"
    },
    {
     "name": "stdout",
     "output_type": "stream",
     "text": [
      "{'file_name': 'IMG_2646_jpeg_jpg.rf.f128f9fb09439406d8dc2abb9a1b74c7.jpg', 'height': 1024, 'width': 768, 'creature': ['stingray'], 'bbox': [[0.46875, 0.48828125, 0.5390625, 0.5947265625]], 'n_box': 1, 'main_creature': 'stingray', 'gerated_caption': 'a large aquarium with fish swimming in it', 'prompt_wtemp1': 'a large aquarium with fish swimming in it, creature: stingray', 'prompt_wtemp2': 'a large aquarium with fish swimming in it, creature: stingray, height: 1024, width: 768'}\n",
      "prompt_wtemp2\n"
     ]
    },
    {
     "data": {
      "application/vnd.jupyter.widget-view+json": {
       "model_id": "84fcf7a7cb46452ca8ead5b04ceb40e8",
       "version_major": 2,
       "version_minor": 0
      },
      "text/plain": [
       "  0%|          | 0/50 [00:00<?, ?it/s]"
      ]
     },
     "metadata": {},
     "output_type": "display_data"
    },
    {
     "name": "stdout",
     "output_type": "stream",
     "text": [
      "{'file_name': 'IMG_2554_jpeg_jpg.rf.1ac30f27b030d31a31ec6b2ecdcb9025.jpg', 'height': 1024, 'width': 768, 'creature': ['stingray'], 'bbox': [[0.328125, 0.33203125, 0.7018229166666667, 0.6923828125]], 'n_box': 1, 'main_creature': 'stingray', 'gerated_caption': 'a stingray in an aquarium', 'prompt_wtemp1': 'a stingray in an aquarium, creature: stingray', 'prompt_wtemp2': 'a stingray in an aquarium, creature: stingray, height: 1024, width: 768'}\n",
      "prompt_wtemp2\n"
     ]
    },
    {
     "data": {
      "application/vnd.jupyter.widget-view+json": {
       "model_id": "7a176bef86834157873bdc13e2c63e8c",
       "version_major": 2,
       "version_minor": 0
      },
      "text/plain": [
       "  0%|          | 0/50 [00:00<?, ?it/s]"
      ]
     },
     "metadata": {},
     "output_type": "display_data"
    },
    {
     "name": "stdout",
     "output_type": "stream",
     "text": [
      "{'file_name': 'IMG_2623_jpeg_jpg.rf.0af1f3048c78df2f0f8dc887ff548198.jpg', 'height': 1024, 'width': 768, 'creature': ['stingray'], 'bbox': [[0.16666666666666666, 0.458984375, 0.9036458333333333, 0.7177734375]], 'n_box': 1, 'main_creature': 'stingray', 'gerated_caption': 'a ray in the water', 'prompt_wtemp1': 'a ray in the water, creature: stingray', 'prompt_wtemp2': 'a ray in the water, creature: stingray, height: 1024, width: 768'}\n",
      "prompt_wtemp2\n"
     ]
    },
    {
     "data": {
      "application/vnd.jupyter.widget-view+json": {
       "model_id": "5951cacf633e4b9dbefa1040c5cfe0cd",
       "version_major": 2,
       "version_minor": 0
      },
      "text/plain": [
       "  0%|          | 0/50 [00:00<?, ?it/s]"
      ]
     },
     "metadata": {},
     "output_type": "display_data"
    },
    {
     "name": "stdout",
     "output_type": "stream",
     "text": [
      "{'file_name': 'IMG_2625_jpeg_jpg.rf.049cfca5fa7da90878060904a452975d.jpg', 'height': 1024, 'width': 768, 'creature': ['stingray'], 'bbox': [[0.2604166666666667, 0.314453125, 0.4752604166666667, 0.6484375]], 'n_box': 1, 'main_creature': 'stingray', 'gerated_caption': 'a ray fish in an aquarium with rocks', 'prompt_wtemp1': 'a ray fish in an aquarium with rocks, creature: stingray', 'prompt_wtemp2': 'a ray fish in an aquarium with rocks, creature: stingray, height: 1024, width: 768'}\n",
      "prompt_wtemp2\n"
     ]
    },
    {
     "data": {
      "application/vnd.jupyter.widget-view+json": {
       "model_id": "39f44ddb91974d2c935e6fa0a957cdd7",
       "version_major": 2,
       "version_minor": 0
      },
      "text/plain": [
       "  0%|          | 0/50 [00:00<?, ?it/s]"
      ]
     },
     "metadata": {},
     "output_type": "display_data"
    },
    {
     "name": "stdout",
     "output_type": "stream",
     "text": [
      "{'file_name': 'IMG_2551_jpeg_jpg.rf.23441fda11b9de7fa39fb0a2ea3e7f4a.jpg', 'height': 1024, 'width': 768, 'creature': ['stingray'], 'bbox': [[0.5182291666666666, 0.4462890625, 0.8177083333333333, 0.69921875]], 'n_box': 1, 'main_creature': 'stingray', 'gerated_caption': 'a fish in an aquarium', 'prompt_wtemp1': 'a fish in an aquarium, creature: stingray', 'prompt_wtemp2': 'a fish in an aquarium, creature: stingray, height: 1024, width: 768'}\n",
      "prompt_wtemp2\n"
     ]
    },
    {
     "data": {
      "application/vnd.jupyter.widget-view+json": {
       "model_id": "03dcf2347b294770bd86e145da475034",
       "version_major": 2,
       "version_minor": 0
      },
      "text/plain": [
       "  0%|          | 0/50 [00:00<?, ?it/s]"
      ]
     },
     "metadata": {},
     "output_type": "display_data"
    },
    {
     "name": "stdout",
     "output_type": "stream",
     "text": [
      "{'file_name': 'IMG_2552_jpeg_jpg.rf.2bfc6840f21295db87e9e56956f16e76.jpg', 'height': 1024, 'width': 768, 'creature': ['stingray'], 'bbox': [[0.5794270833333334, 0.275390625, 0.8359375, 0.6357421875]], 'n_box': 1, 'main_creature': 'stingray', 'gerated_caption': 'a fish in an aquarium', 'prompt_wtemp1': 'a fish in an aquarium, creature: stingray', 'prompt_wtemp2': 'a fish in an aquarium, creature: stingray, height: 1024, width: 768'}\n",
      "prompt_wtemp2\n"
     ]
    },
    {
     "data": {
      "application/vnd.jupyter.widget-view+json": {
       "model_id": "ea6ee04fca14478db3395646f9e6a576",
       "version_major": 2,
       "version_minor": 0
      },
      "text/plain": [
       "  0%|          | 0/50 [00:00<?, ?it/s]"
      ]
     },
     "metadata": {},
     "output_type": "display_data"
    },
    {
     "name": "stdout",
     "output_type": "stream",
     "text": [
      "{'file_name': 'IMG_2655_jpeg_jpg.rf.500bca587eb20e6e80acbea6f60ebd40.jpg', 'height': 1024, 'width': 768, 'creature': ['stingray', 'stingray'], 'bbox': [[0.3671875, 0.224609375, 0.5572916666666666, 0.3369140625], [0.3580729166666667, 0.41015625, 0.5598958333333334, 0.5263671875]], 'n_box': 2, 'main_creature': 'stingray', 'gerated_caption': 'a ray fish swimming in the water', 'prompt_wtemp1': 'a ray fish swimming in the water, creature: stingray', 'prompt_wtemp2': 'a ray fish swimming in the water, creature: stingray, height: 1024, width: 768'}\n",
      "prompt_wtemp2\n"
     ]
    },
    {
     "data": {
      "application/vnd.jupyter.widget-view+json": {
       "model_id": "844c05eac62e49f7a53750725193a399",
       "version_major": 2,
       "version_minor": 0
      },
      "text/plain": [
       "  0%|          | 0/50 [00:00<?, ?it/s]"
      ]
     },
     "metadata": {},
     "output_type": "display_data"
    },
    {
     "name": "stdout",
     "output_type": "stream",
     "text": [
      "{'file_name': 'IMG_2619_jpeg_jpg.rf.62b48e73de77f2d89e512df79ebb3041.jpg', 'height': 1024, 'width': 768, 'creature': ['stingray', 'fish'], 'bbox': [[0.28125, 0.380859375, 0.7252604166666667, 0.49609375], [0.38671875, 0.658203125, 0.5052083333333334, 0.705078125]], 'n_box': 2, 'main_creature': 'stingray', 'gerated_caption': 'a stingray swimming in an aquarium', 'prompt_wtemp1': 'a stingray swimming in an aquarium, creature: stingray', 'prompt_wtemp2': 'a stingray swimming in an aquarium, creature: stingray, height: 1024, width: 768'}\n",
      "prompt_wtemp2\n"
     ]
    },
    {
     "data": {
      "application/vnd.jupyter.widget-view+json": {
       "model_id": "264b6f1d27cb4d03ad463ed0c8a6fa56",
       "version_major": 2,
       "version_minor": 0
      },
      "text/plain": [
       "  0%|          | 0/50 [00:00<?, ?it/s]"
      ]
     },
     "metadata": {},
     "output_type": "display_data"
    }
   ],
   "source": [
    "data_dir = Path(\"dataset\") / \"cvpdl\" / \"train\"\n",
    "template_id = str(2)\n",
    "o_dir = Path(\"dataset\") / (\"text_grounding\" + template_id)\n",
    "if not o_dir.exists():\n",
    "    o_dir.mkdir()\n",
    "prompt_template = \"prompt_wtemp\" + template_id\n",
    "for idx, instance in enumerate(data):\n",
    "    prompt, phrases, input_image, boxes = get_model_inpuat(instance, data_dir, prompt_template)\n",
    "    inference_one_instance_text_grounding(pipe, prompt, phrases, boxes, o_dir, generate_idx=idx+1)"
   ]
  },
  {
   "cell_type": "markdown",
   "id": "57e6c17d",
   "metadata": {},
   "source": [
    "### Save metadata"
   ]
  },
  {
   "cell_type": "code",
   "execution_count": 9,
   "id": "beb3b8d9",
   "metadata": {},
   "outputs": [],
   "source": [
    "def save_gererated_image_metadata(data, grounding_type, template_id):\n",
    "    i_path = Path(\"dataset/cvpdl/annotations/train.json\")\n",
    "    with i_path.open(\"r\") as f:\n",
    "        data_format = json.load(f)\n",
    "\n",
    "    category_to_id = {category[\"name\"]:category[\"id\"] for category in data_format[\"categories\"]}\n",
    "    image_related, annotation_related = [], []\n",
    "    image_start_id = 448\n",
    "    annotation_start_id = 3323\n",
    "    anno_idx = 0\n",
    "    for idx, instance in enumerate(data):\n",
    "        img_metadata = {}\n",
    "        img_metadata[\"file_name\"] = \"{}{}/{}.jpg\".format(grounding_type, template_id, idx + 1)\n",
    "        img_metadata[\"height\"] = instance[\"height\"]\n",
    "        img_metadata[\"width\"] = instance[\"width\"]\n",
    "        img_metadata[\"id\"] = 448 + idx\n",
    "        img_metadata[\"license\"] = 1\n",
    "        img_metadata[\"date_captured\"] = \"None\"\n",
    "        image_related.append(img_metadata)\n",
    "        \n",
    "        for category, box in zip(instance[\"creature\"], instance[\"bbox\"]):\n",
    "            annotation_metadata = {}\n",
    "            annotation_metadata[\"id\"] = annotation_start_id + anno_idx\n",
    "            annotation_metadata[\"image_id\"] = image_start_id + idx\n",
    "            annotation_metadata[\"category_id\"] = category_to_id[category]\n",
    "            # gligen to coco format (512, 512) -> original size\n",
    "            x1 = box[0] * 512\n",
    "            y1 = box[1] * 512\n",
    "            x2 = box[2] * 512 - x1\n",
    "            y2 = box[3] * 512 - y1\n",
    "            resized_box = [int(x1), int(y1), int(x2), int(y2)]\n",
    "            annotation_metadata[\"bbox\"] = resized_box\n",
    "            annotation_metadata[\"area\"] = int(x2) * int(y2)\n",
    "            annotation_metadata[\"segmentation\"] = []\n",
    "            annotation_metadata[\"iscrowd\"] = 0\n",
    "            annotation_related.append(annotation_metadata)\n",
    "            anno_idx += 1\n",
    "    \n",
    "    data_format[\"images\"] += image_related\n",
    "    data_format[\"annotations\"] += annotation_related\n",
    "    print(\"Numbers of images : {}\".format(len(data_format[\"images\"])))\n",
    "    print(\"Numbers of boxes : {}\".format(len(data_format[\"annotations\"])))\n",
    "    print(data_format[\"annotations\"][3450][\"category_id\"])\n",
    "    o_path = Path(\"dataset/cvpdl_gligen_mix/annotations/train.json\")\n",
    "    with o_path.open(\"w\") as f:\n",
    "        json.dump(data_format, f, indent=4)\n",
    "    "
   ]
  },
  {
   "cell_type": "code",
   "execution_count": 10,
   "id": "c5beab22",
   "metadata": {},
   "outputs": [
    {
     "name": "stdout",
     "output_type": "stream",
     "text": [
      "Numbers of images : 588\n",
      "Numbers of boxes : 3618\n",
      "2\n"
     ]
    }
   ],
   "source": [
    "grounding_type = \"image_grounding\"\n",
    "template_id = 1\n",
    "save_gererated_image_metadata(data, grounding_type, template_id)"
   ]
  },
  {
   "cell_type": "code",
   "execution_count": null,
   "id": "5a57a18d",
   "metadata": {},
   "outputs": [],
   "source": []
  }
 ],
 "metadata": {
  "kernelspec": {
   "display_name": "Python 3 (ipykernel)",
   "language": "python",
   "name": "python3"
  },
  "language_info": {
   "codemirror_mode": {
    "name": "ipython",
    "version": 3
   },
   "file_extension": ".py",
   "mimetype": "text/x-python",
   "name": "python",
   "nbconvert_exporter": "python",
   "pygments_lexer": "ipython3",
   "version": "3.8.18"
  }
 },
 "nbformat": 4,
 "nbformat_minor": 5
}
