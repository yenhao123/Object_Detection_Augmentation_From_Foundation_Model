{
 "cells": [
  {
   "cell_type": "code",
   "execution_count": 1,
   "metadata": {},
   "outputs": [],
   "source": [
    "import os\n",
    "import json\n",
    "import torch\n",
    "from PIL import Image\n",
    "from pathlib import Path\n",
    "import pandas as pd"
   ]
  },
  {
   "cell_type": "code",
   "execution_count": 3,
   "metadata": {},
   "outputs": [],
   "source": [
    "home_dir = \"/root/CVPDL/hw3\"\n",
    "os.chdir(home_dir)"
   ]
  },
  {
   "cell_type": "markdown",
   "metadata": {},
   "source": [
    "### Resize Image "
   ]
  },
  {
   "cell_type": "code",
   "execution_count": 2,
   "metadata": {},
   "outputs": [],
   "source": [
    "# Resize original shape to (512, 512) \n",
    "def resize_shape(img):\n",
    "    img = img.resize((512, 512))\n",
    "\n",
    "    return img"
   ]
  },
  {
   "cell_type": "code",
   "execution_count": 13,
   "metadata": {},
   "outputs": [],
   "source": [
    "\n",
    "i_dir = Path(\"dataset/inpainted_images\")\n",
    "o_dir = Path(\"dataset/resized_cvpdl\")\n",
    "if not o_dir.exists():\n",
    "    o_dir.mkdir()\n",
    "\n",
    "for img_path in i_dir.iterdir():\n",
    "    if not str(img_path).strip().lower().endswith(\".jpg\"):\n",
    "        continue\n",
    "    img = Image.open(img_path)\n",
    "    img = resize_shape(img)\n",
    "    img.save(o_dir / img_path.name)"
   ]
  },
  {
   "cell_type": "markdown",
   "metadata": {},
   "source": [
    "### FID"
   ]
  },
  {
   "cell_type": "markdown",
   "metadata": {},
   "source": [
    "#### Text Grounding - Template1"
   ]
  },
  {
   "cell_type": "code",
   "execution_count": 17,
   "metadata": {},
   "outputs": [
    {
     "name": "stdout",
     "output_type": "stream",
     "text": [
      "100%|█████████████████████████████████████████████| 3/3 [00:01<00:00,  1.98it/s]\n",
      "100%|█████████████████████████████████████████████| 3/3 [00:01<00:00,  2.46it/s]\n",
      "FID:  145.10710981353205\n"
     ]
    }
   ],
   "source": [
    "!python -m pytorch_fid \"dataset/resized_cvpdl\" \"dataset/text_grounding1\" --device cuda:0"
   ]
  },
  {
   "cell_type": "markdown",
   "metadata": {},
   "source": [
    "#### Text Grounding - Template2"
   ]
  },
  {
   "cell_type": "code",
   "execution_count": 18,
   "metadata": {},
   "outputs": [
    {
     "name": "stdout",
     "output_type": "stream",
     "text": [
      "100%|█████████████████████████████████████████████| 3/3 [00:01<00:00,  2.00it/s]\n",
      "100%|█████████████████████████████████████████████| 3/3 [00:01<00:00,  2.73it/s]\n",
      "FID:  148.68298359958982\n"
     ]
    }
   ],
   "source": [
    "!python -m pytorch_fid \"dataset/resized_cvpdl\" \"dataset/text_grounding2\" --device cuda:0"
   ]
  },
  {
   "cell_type": "markdown",
   "metadata": {},
   "source": [
    "#### Image Grounding - Template1"
   ]
  },
  {
   "cell_type": "code",
   "execution_count": 19,
   "metadata": {},
   "outputs": [
    {
     "name": "stdout",
     "output_type": "stream",
     "text": [
      "100%|█████████████████████████████████████████████| 3/3 [00:01<00:00,  1.95it/s]\n",
      "100%|█████████████████████████████████████████████| 3/3 [00:01<00:00,  2.72it/s]\n",
      "FID:  107.66034329320689\n"
     ]
    },
    {
     "ename": "",
     "evalue": "",
     "output_type": "error",
     "traceback": [
      "\u001b[1;31mThe Kernel crashed while executing code in the the current cell or a previous cell. Please review the code in the cell(s) to identify a possible cause of the failure. Click <a href='https://aka.ms/vscodeJupyterKernelCrash'>here</a> for more info. View Jupyter <a href='command:jupyter.viewOutput'>log</a> for further details."
     ]
    }
   ],
   "source": [
    "!python -m pytorch_fid \"dataset/resized_cvpdl\" \"dataset/image_grounding1\" --device cuda:0"
   ]
  }
 ],
 "metadata": {
  "kernelspec": {
   "display_name": "hw3",
   "language": "python",
   "name": "python3"
  },
  "language_info": {
   "codemirror_mode": {
    "name": "ipython",
    "version": 3
   },
   "file_extension": ".py",
   "mimetype": "text/x-python",
   "name": "python",
   "nbconvert_exporter": "python",
   "pygments_lexer": "ipython3",
   "version": "3.8.18"
  }
 },
 "nbformat": 4,
 "nbformat_minor": 2
}
